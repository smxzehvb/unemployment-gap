{
 "cells": [
  {
   "cell_type": "markdown",
   "id": "0eab20c8",
   "metadata": {},
   "source": [
    "# Sec 5.7: Calibrations of the Model\n",
    "## and Appendix E: Fluctuating social value of nonwork"
   ]
  },
  {
   "cell_type": "code",
   "execution_count": null,
   "id": "c2616122",
   "metadata": {},
   "outputs": [],
   "source": [
    "import pandas as pd\n",
    "import numpy as np\n",
    "import statsmodels.tsa.filters.hp_filter as hp"
   ]
  },
  {
   "cell_type": "code",
   "execution_count": null,
   "id": "00989d69",
   "metadata": {},
   "outputs": [],
   "source": [
    "import matplotlib\n",
    "import matplotlib.pyplot as plt\n",
    "\n",
    "%matplotlib inline\n",
    "matplotlib.style.use('fivethirtyeight')"
   ]
  },
  {
   "cell_type": "code",
   "execution_count": null,
   "id": "47c49a98",
   "metadata": {},
   "outputs": [],
   "source": [
    "import sys\n",
    "sys.path.insert(0, '../')\n",
    "import bug"
   ]
  },
  {
   "cell_type": "markdown",
   "id": "3438404d",
   "metadata": {},
   "source": [
    "## Read the data\n",
    "Here, we read from the [excel file](https://github.com/pascalmichaillat/unemployment-gap/blob/main/code/data.xlsx) provided with the unemployment-gap matlab package.\n",
    "\n",
    "The goal of this notebook is to re-create analysis and some figures from the Unemployment Gap paper, so that we can verify we are getting the *same* outputs. (*Sameness* allowing for some small differences between the two language implementations)"
   ]
  },
  {
   "cell_type": "code",
   "execution_count": null,
   "id": "89d8442e",
   "metadata": {},
   "outputs": [],
   "source": [
    "df = pd.read_excel('../../code/data.xlsx', sheet_name='Recession dates', header=1, \n",
    "                   usecols=['Peak month', 'Trough month'],).drop([0]).reset_index() \n",
    "starts =  pd.to_datetime(df['Peak month'])\n",
    "ends = pd.to_datetime(df['Trough month'])"
   ]
  },
  {
   "cell_type": "code",
   "execution_count": null,
   "id": "089cf340",
   "metadata": {},
   "outputs": [],
   "source": [
    "df = pd.read_excel('../../code/data.xlsx', sheet_name='Monthly data',\n",
    "                           header=1, usecols=['Unemployment rate (percent)', 'Year', 'Month'],)\n",
    "# set the index \n",
    "dates = pd.PeriodIndex(pd.to_datetime(dict(year=df.Year, month=df.Month, day=15)).dt.to_period('m') ) \n",
    "unempl_rate = pd.Series(data=df['Unemployment rate (percent)'].values,\n",
    "                       index=dates, name='unempl_rate')"
   ]
  },
  {
   "cell_type": "code",
   "execution_count": null,
   "id": "6f9cf9e6",
   "metadata": {},
   "outputs": [],
   "source": [
    "df = pd.read_excel('../../code/data.xlsx', sheet_name='Monthly data',\n",
    "                           header=1, usecols=['Vacancy rate (thousands)', 'Year', 'Month'],)\n",
    "# set the index \n",
    "dates = pd.PeriodIndex(pd.to_datetime(dict(year=df.Year, month=df.Month, day=15)).dt.to_period('m') ) \n",
    "vac_rate_proxy = pd.Series(data=df['Vacancy rate (thousands)'].values,\n",
    "                       index=dates, name='vacancy_rate_proxy')"
   ]
  },
  {
   "cell_type": "code",
   "execution_count": null,
   "id": "e756c8b0",
   "metadata": {},
   "outputs": [],
   "source": [
    "df = pd.read_excel('../../code/data.xlsx', sheet_name='Monthly data',\n",
    "                           header=1, usecols=['Vacancy level (thousands)', 'Year', 'Month'],)\n",
    "# set the index \n",
    "dates = pd.PeriodIndex(pd.to_datetime(dict(year=df.Year, month=df.Month, day=15)).dt.to_period('m') ) \n",
    "vacancy_level = pd.Series(data=df['Vacancy level (thousands)'].values,\n",
    "                       index=dates, name='vacancy_level')"
   ]
  },
  {
   "cell_type": "code",
   "execution_count": null,
   "id": "afc2c881",
   "metadata": {},
   "outputs": [],
   "source": [
    "df = pd.read_excel('../../code/data.xlsx', sheet_name='Monthly data',\n",
    "                           header=1, usecols=['Labor force level (thousands of persons)', 'Year', 'Month'],)\n",
    "# set the index \n",
    "dates = pd.PeriodIndex(pd.to_datetime(dict(year=df.Year, month=df.Month, day=15)).dt.to_period('m') ) \n",
    "labor_level = pd.Series(data=df['Labor force level (thousands of persons)'].values,\n",
    "                       index=dates, name='labor_force_level')"
   ]
  },
  {
   "cell_type": "code",
   "execution_count": null,
   "id": "60bc3c42",
   "metadata": {},
   "outputs": [],
   "source": [
    "vacancy_rate_2001 = vacancy_level/labor_level\n",
    "vacancy_rate_splice = pd.concat([vac_rate_proxy.loc[:'2000-12'], vacancy_rate_2001.loc['2001-01':]*100])"
   ]
  },
  {
   "cell_type": "code",
   "execution_count": null,
   "id": "2e9f0f84",
   "metadata": {},
   "outputs": [],
   "source": [
    "u_q = unempl_rate.resample('Q').mean()/100\n",
    "u_q = u_q.loc[:u_q.last_valid_index()]\n",
    "\n",
    "v_q = vacancy_rate_splice.resample('Q').mean()/100\n",
    "v_q = v_q.loc[:v_q.last_valid_index()]"
   ]
  },
  {
   "cell_type": "markdown",
   "id": "47c6dbcb",
   "metadata": {},
   "source": [
    "## Sec 5.7\n",
    "### Matching elasticity\n",
    "Recall, `bug.compute_beveridge_elasticity()` function is expecting the **log** of the unemployment and vacancy rates series. "
   ]
  },
  {
   "cell_type": "code",
   "execution_count": null,
   "id": "7532811b",
   "metadata": {},
   "outputs": [],
   "source": [
    "bev_e, _ = bug.compute_beveridge_elasticity(np.log(u_q), np.log(v_q) )"
   ]
  },
  {
   "cell_type": "code",
   "execution_count": null,
   "id": "9a9c6cea",
   "metadata": {},
   "outputs": [],
   "source": [
    "bev_e.head()"
   ]
  },
  {
   "cell_type": "code",
   "execution_count": null,
   "id": "c8154545",
   "metadata": {},
   "outputs": [],
   "source": [
    "bug.plot_beveridge_elasticity_series(bev_e, recession_dates=[starts, ends],draw_legend=True)\n",
    "plt.ylim(0, 1.5)"
   ]
  },
  {
   "cell_type": "code",
   "execution_count": null,
   "id": "c15052b1",
   "metadata": {},
   "outputs": [],
   "source": []
  },
  {
   "cell_type": "markdown",
   "id": "ef7143c6",
   "metadata": {},
   "source": [
    "### Effect of Bev elasticity"
   ]
  },
  {
   "cell_type": "code",
   "execution_count": null,
   "id": "6a8233c8",
   "metadata": {},
   "outputs": [],
   "source": [
    "# social value of non-work\n",
    "zeta= 0.26\n",
    "zeta_range = (0.03, 0.49)"
   ]
  },
  {
   "cell_type": "code",
   "execution_count": null,
   "id": "fac7d54c",
   "metadata": {},
   "outputs": [],
   "source": [
    "# recruiting costs\n",
    "kappa=0.92\n",
    "kappa_range = (0.61, 1.23)"
   ]
  },
  {
   "cell_type": "code",
   "execution_count": null,
   "id": "5d7c3fea",
   "metadata": {},
   "outputs": [],
   "source": [
    "eff_unempl = bug.compute_efficient_unemployment(u_q, v_q, bev_e['E'], zeta=zeta, kappa=kappa)\n",
    "eff_unempl_ub = bug.compute_efficient_unemployment(u_q, v_q, bev_e['UB'], zeta=zeta, \n",
    "                                                   kappa=kappa)\n",
    "eff_unempl_lb = bug.compute_efficient_unemployment(u_q, v_q, bev_e['LB'], zeta=zeta, \n",
    "                                                   kappa=kappa)\n"
   ]
  },
  {
   "cell_type": "markdown",
   "id": "c4a62dfa",
   "metadata": {},
   "source": [
    "# FIGURE 8A\n",
    "## Beveridge elasticity 95% CI"
   ]
  },
  {
   "cell_type": "code",
   "execution_count": null,
   "id": "2be442fa",
   "metadata": {},
   "outputs": [],
   "source": [
    "ax = u_q.plot(color='navy', linewidth=2, figsize=(10, 7), label='Actual')\n",
    "eff_unempl.plot(ax=ax,color='magenta', linewidth=2,label='Efficient')\n",
    "eff_unempl_ub.plot(ax=ax,color='magenta', linestyle='dotted', linewidth=2, label='_nolegend_')\n",
    "eff_unempl_lb.plot(ax=ax,color='magenta',linestyle='dotted',  linewidth=2, label='_nolegend_')\n",
    "plt.fill_between(eff_unempl_lb.index, eff_unempl_lb, eff_unempl_ub, color='magenta', alpha=.2)\n",
    "\n",
    "bug.format_plot(ax, recession_dates=[starts, ends], xgrid=True, \n",
    "                augment_legend=True, legend_loc=4)\n",
    "\n",
    "plt.ylim(0, .12)\n",
    "plt.ylabel('Unemployment rate', fontsize=12)\n",
    "plt.title('Unemployment', fontsize=14)\n",
    "plt.suptitle('With Beveridge elasticity 95% CI')"
   ]
  },
  {
   "cell_type": "code",
   "execution_count": null,
   "id": "6952cad8",
   "metadata": {},
   "outputs": [],
   "source": []
  },
  {
   "cell_type": "markdown",
   "id": "1166d0e1",
   "metadata": {},
   "source": [
    "# FIGURE 8B\n",
    "### Effect of zeta Value of non-work"
   ]
  },
  {
   "cell_type": "code",
   "execution_count": null,
   "id": "344b717f",
   "metadata": {},
   "outputs": [],
   "source": [
    "eff_unempl = bug.compute_efficient_unemployment(u_q, v_q, bev_e['E'], zeta=zeta, kappa=kappa)\n",
    "eff_unempl_ub = bug.compute_efficient_unemployment(u_q, v_q, bev_e['E'], zeta=zeta_range[1], \n",
    "                                                   kappa=kappa)\n",
    "eff_unempl_lb = bug.compute_efficient_unemployment(u_q, v_q, bev_e['E'], zeta=zeta_range[0], \n",
    "                                                   kappa=kappa)"
   ]
  },
  {
   "cell_type": "code",
   "execution_count": null,
   "id": "4d29d6f0",
   "metadata": {},
   "outputs": [],
   "source": [
    "ax = u_q.plot(color='navy', linewidth=2, figsize=(10, 7), label='Actual')\n",
    "eff_unempl.plot(ax=ax,color='magenta', linewidth=2,label='Efficient')\n",
    "eff_unempl_ub.plot(ax=ax,color='magenta', linestyle='dotted', linewidth=2, label='_nolegend_')\n",
    "eff_unempl_lb.plot(ax=ax,color='magenta',linestyle='dotted',  linewidth=2, label='_nolegend_')\n",
    "plt.fill_between(eff_unempl_lb.index, eff_unempl_lb, eff_unempl_ub, color='magenta', alpha=.2)\n",
    "\n",
    "bug.format_plot(ax, recession_dates=[starts, ends], xgrid=True, augment_legend=True, \n",
    "                legend_loc=4)\n",
    "\n",
    "plt.ylim(0, .12)\n",
    "plt.ylabel('Unemployment rate', fontsize=12)\n",
    "plt.title('Unemployment', fontsize=14)\n",
    "plt.suptitle('With zeta value non-work in [0.03, 0.49]')"
   ]
  },
  {
   "cell_type": "code",
   "execution_count": null,
   "id": "dbb98581",
   "metadata": {},
   "outputs": [],
   "source": []
  },
  {
   "cell_type": "markdown",
   "id": "d7bf024d",
   "metadata": {},
   "source": [
    "# FIGURE 8C\n",
    "### Effect of kappa recruiting cost"
   ]
  },
  {
   "cell_type": "code",
   "execution_count": null,
   "id": "1c090dbb",
   "metadata": {},
   "outputs": [],
   "source": [
    "eff_unempl = bug.compute_efficient_unemployment(u_q, v_q, bev_e['E'], zeta=zeta, kappa=kappa)\n",
    "eff_unempl_ub = bug.compute_efficient_unemployment(u_q, v_q, bev_e['E'], zeta=zeta, \n",
    "                                                   kappa=kappa_range[1])\n",
    "eff_unempl_lb = bug.compute_efficient_unemployment(u_q, v_q, bev_e['E'], zeta=zeta, \n",
    "                                                   kappa=kappa_range[0])"
   ]
  },
  {
   "cell_type": "code",
   "execution_count": null,
   "id": "b8f1b678",
   "metadata": {},
   "outputs": [],
   "source": [
    "ax = u_q.plot(color='navy', linewidth=2, figsize=(10, 7), label='Actual')\n",
    "eff_unempl.plot(ax=ax,color='magenta', linewidth=2,label='Efficient')\n",
    "eff_unempl_ub.plot(ax=ax,color='magenta', linestyle='dotted', linewidth=2, label='_nolegend_')\n",
    "eff_unempl_lb.plot(ax=ax,color='magenta',linestyle='dotted',  linewidth=2, label='_nolegend_')\n",
    "plt.fill_between(eff_unempl_lb.index, eff_unempl_lb, eff_unempl_ub, color='magenta', alpha=.2)\n",
    "\n",
    "bug.format_plot(ax, recession_dates=[starts, ends], xgrid=True, augment_legend=True, \n",
    "                legend_loc=4)\n",
    "\n",
    "plt.ylim(0, .12)\n",
    "plt.ylabel('Unemployment rate', fontsize=12)\n",
    "plt.title('Unemployment', fontsize=14)\n",
    "plt.suptitle('With kappa recruiting cost in [0.61, 1.23]')"
   ]
  },
  {
   "cell_type": "code",
   "execution_count": null,
   "id": "7c68221e",
   "metadata": {},
   "outputs": [],
   "source": []
  },
  {
   "cell_type": "markdown",
   "id": "dcc6da49",
   "metadata": {},
   "source": [
    "# FIGURE 9A\n",
    "### inverse-optimum Beveridge elasticity\n",
    "Compute `bug.compute_beveridge_inverse()` with:\n",
    "  * theta, required\n",
    "  * zeta, optional, default zeta=0.26\n",
    "  * kappa, optional, default kappa=0.92"
   ]
  },
  {
   "cell_type": "code",
   "execution_count": null,
   "id": "dffa9b1b",
   "metadata": {},
   "outputs": [],
   "source": [
    "theta = v_q/u_q\n",
    "e_star = bug.compute_beveridge_inverse(theta)"
   ]
  },
  {
   "cell_type": "code",
   "execution_count": null,
   "id": "d0b805e3",
   "metadata": {},
   "outputs": [],
   "source": [
    "ax = e_star.plot(color='darkred', linewidth=2, figsize=(10, 7), label='Inverse Optimum')\n",
    "bev_e['E'].plot(ax=ax,color='blueviolet', linewidth=2,label='Bev Elasticity')\n",
    "bev_e['UB'].plot(ax=ax,color='blueviolet', linestyle='dotted', linewidth=2, \n",
    "                 label='_nolegend_')\n",
    "bev_e['LB'].plot(ax=ax,color='blueviolet', linestyle='dotted', linewidth=2, \n",
    "                 label='_nolegend_')\n",
    "plt.fill_between(bev_e['UB'].index, bev_e['LB'], bev_e['UB'], color='blueviolet', alpha=.3)\n",
    "\n",
    "bug.format_plot(ax, recession_dates=[starts, ends], xgrid=True, augment_legend=True, \n",
    "                legend_loc=2)\n",
    "\n",
    "plt.ylabel('Beveridge elasticity', fontsize=12)\n",
    "plt.title('Beveridge elasticity 95% CI', fontsize=14)"
   ]
  },
  {
   "cell_type": "markdown",
   "id": "9af9db08",
   "metadata": {},
   "source": [
    "# FIGURE 9B\n",
    "### inverse-optimum zeta value of non-work\n",
    "Compute `bug.compute_nonwork_inverse()` with:\n",
    "  * theta, required\n",
    "  * Beveridge elasticity, requried\n",
    "  * kappa, optional, default kappa=0.92"
   ]
  },
  {
   "cell_type": "code",
   "execution_count": null,
   "id": "79aa4b2b",
   "metadata": {},
   "outputs": [],
   "source": [
    "zeta_star = bug.compute_nonwork_inverse(theta, bev_e['E'], kappa)"
   ]
  },
  {
   "cell_type": "code",
   "execution_count": null,
   "id": "1d98319f",
   "metadata": {},
   "outputs": [],
   "source": [
    "ax = zeta_star.plot(color='darkred', linewidth=2, figsize=(10, 7), label='Inverse Optimum')\n",
    "plt.axhline(zeta_range[0],color='blueviolet', linestyle='dotted', linewidth=2, \n",
    "            label='_nolegend_')\n",
    "plt.axhline(zeta_range[1],color='blueviolet', linestyle='dotted', linewidth=2, \n",
    "            label='_nolegend_')\n",
    "plt.axhline(zeta,color='blueviolet', linewidth=2, label='value non-work')\n",
    "\n",
    "plt.fill_between(zeta_star.index, zeta_range[0], zeta_range[1], color='blueviolet', alpha=.3)\n",
    "\n",
    "bug.format_plot(ax, recession_dates=[starts, ends], xgrid=True, augment_legend=True, \n",
    "                legend_loc=4)\n",
    "\n",
    "plt.ylim(-.5, 1)\n",
    "plt.ylabel('Zeta', fontsize=12)\n",
    "plt.title('Zeta value of Non-work', fontsize=14)"
   ]
  },
  {
   "cell_type": "markdown",
   "id": "accb94a6",
   "metadata": {},
   "source": [
    "# FIGURE 9C\n",
    "### inverse-optimum kappa\n",
    "Compute `bug.compute_recruiting_inverse()` with:\n",
    "  * theta, required\n",
    "  * Beveridge elasticity, requried\n",
    "  * zeta, optional, default zeta=0.26"
   ]
  },
  {
   "cell_type": "code",
   "execution_count": null,
   "id": "98003343",
   "metadata": {},
   "outputs": [],
   "source": [
    "kappa_star = bug.compute_recruiting_inverse(theta, bev_e['E'], zeta)"
   ]
  },
  {
   "cell_type": "code",
   "execution_count": null,
   "id": "4fe680ea",
   "metadata": {},
   "outputs": [],
   "source": [
    "ax = kappa_star.plot(color='darkred', linewidth=2, figsize=(10, 7), label='Inverse Optimum')\n",
    "plt.axhline(kappa_range[0],color='blueviolet', linestyle='dotted', linewidth=2, \n",
    "            label='_nolegend_')\n",
    "plt.axhline(kappa_range[1],color='blueviolet', linestyle='dotted', linewidth=2, \n",
    "            label='_nolegend_')\n",
    "plt.axhline(kappa,color='blueviolet', linewidth=2, label='Recruiting Cost')\n",
    "\n",
    "plt.fill_between(kappa_star.index, kappa_range[0], kappa_range[1], color='blueviolet', \n",
    "                 alpha=.3)\n",
    "\n",
    "bug.format_plot(ax, recession_dates=[starts, ends], xgrid=True, augment_legend=True, \n",
    "                legend_loc=2)\n",
    "\n",
    "plt.ylim(0, 6)\n",
    "plt.ylabel('kappa', fontsize=12)\n",
    "plt.title('Kappa Recruiting Cost', fontsize=14)"
   ]
  },
  {
   "cell_type": "markdown",
   "id": "02335957",
   "metadata": {},
   "source": [
    "# FIGURE 10\n",
    "### with zeta = 0.96"
   ]
  },
  {
   "cell_type": "code",
   "execution_count": null,
   "id": "2ad88fed",
   "metadata": {},
   "outputs": [],
   "source": [
    "zeta_HM = 0.96"
   ]
  },
  {
   "cell_type": "code",
   "execution_count": null,
   "id": "95245c75",
   "metadata": {},
   "outputs": [],
   "source": [
    "u_HM = bug.compute_efficient_unemployment(u_q, v_q, bev_e['E'], zeta=zeta_HM)"
   ]
  },
  {
   "cell_type": "code",
   "execution_count": null,
   "id": "7005303a",
   "metadata": {},
   "outputs": [],
   "source": [
    "ax = u_HM.plot(color='magenta', linewidth=2, figsize=(9, 6), label='Efficent')\n",
    "u_q.plot(color='navy', linewidth=2,  label='Actual')\n",
    "\n",
    "bug.format_plot(ax, recession_dates=[starts, ends], xgrid=True, augment_legend=True, \n",
    "                legend_loc=2)\n",
    "\n",
    "plt.ylim(0,.32)\n",
    "plt.ylabel('Unemployment', fontsize=12)\n",
    "plt.title('Unemployment', fontsize=14)\n",
    "plt.suptitle('With zeta = 0.96')"
   ]
  },
  {
   "cell_type": "markdown",
   "id": "64d9a575",
   "metadata": {},
   "source": [
    "# Appendix E\n",
    "### Fluctuating social value of nonwork\n",
    "Read in data on labor productivity"
   ]
  },
  {
   "cell_type": "code",
   "execution_count": null,
   "id": "a3cdbdfc",
   "metadata": {},
   "outputs": [],
   "source": [
    "labor_p = pd.read_excel('../../code/data.xlsx', sheet_name='Quarterly data', header=1, \n",
    "                           usecols=['Real output per person (index)', 'Year', 'Quarter'],)\n",
    "# set the index \n",
    "labor_p['date'] = labor_p['Year'].astype(str) +'-Q' + labor_p['Quarter'].astype(str)\n",
    "labor_p['date'] = pd.PeriodIndex(labor_p['date'], freq='Q')\n",
    "labor_p = labor_p.set_index('date')\n",
    "labor_p.drop(columns=['Year', 'Quarter'], inplace=True)\n",
    "labor_p.rename(columns={'Real output per person (index)': 'Labor productivity'}, inplace=True)"
   ]
  },
  {
   "cell_type": "markdown",
   "id": "4714ec54",
   "metadata": {},
   "source": [
    "# FIGURE A8a\n",
    "### Labor productivity in the United States, 1951–2019\n",
    "#### run a high-pass filter"
   ]
  },
  {
   "cell_type": "code",
   "execution_count": null,
   "id": "fdd0e02b",
   "metadata": {},
   "outputs": [],
   "source": [
    "cycle, trend = hp.hpfilter(np.log(labor_p), 1600)"
   ]
  },
  {
   "cell_type": "code",
   "execution_count": null,
   "id": "3c41bd21",
   "metadata": {},
   "outputs": [],
   "source": [
    "ax = labor_p.plot(linewidth=3, figsize=(9, 6),)\n",
    "np.exp(trend).plot(linewidth=1.5, color='red')\n",
    "\n",
    "bug.format_plot(ax, recession_dates=[starts, ends], xgrid=True, augment_legend=True, \n",
    "                legend_loc=2)\n",
    "\n",
    "plt.ylim(0,120)\n",
    "plt.ylabel('Productivity Index', fontsize=12)\n",
    "plt.title('Productivity', fontsize=14)"
   ]
  },
  {
   "cell_type": "markdown",
   "id": "1d18b9f7",
   "metadata": {},
   "source": [
    "# FIGURE A8b"
   ]
  },
  {
   "cell_type": "code",
   "execution_count": null,
   "id": "f3faf880",
   "metadata": {},
   "outputs": [],
   "source": [
    "ax = np.exp(cycle).plot(linewidth=2, color='purple',figsize=(9, 6),)\n",
    "\n",
    "bug.format_plot(ax, recession_dates=[starts, ends], xgrid=True, augment_legend=True, \n",
    "                legend_loc=2)\n",
    "        \n",
    "plt.ylim(.94,1.06)\n",
    "plt.ylabel('Detrended Productivity Index', fontsize=12)\n",
    "plt.title('Detrended Productivity', fontsize=14)"
   ]
  },
  {
   "cell_type": "markdown",
   "id": "5f5ab2b5",
   "metadata": {},
   "source": [
    "# FIGURE A9\n",
    "### US efficient unemployment rate with fluctuating social value of nonwork"
   ]
  },
  {
   "cell_type": "code",
   "execution_count": null,
   "id": "90dd89cc",
   "metadata": {},
   "outputs": [],
   "source": [
    "u_fluct = bug.compute_efficient_unemployment(u_q, v_q, bev_e['E'], zeta= zeta/np.exp(cycle))"
   ]
  },
  {
   "cell_type": "code",
   "execution_count": null,
   "id": "7775fc79",
   "metadata": {},
   "outputs": [],
   "source": [
    "u_const = bug.compute_efficient_unemployment(u_q, v_q, bev_e['E'],)"
   ]
  },
  {
   "cell_type": "code",
   "execution_count": null,
   "id": "35bcdac4",
   "metadata": {},
   "outputs": [],
   "source": [
    "ax = u_const.plot(linewidth=1.5, color='magenta',figsize=(9, 6),label='Const social value')\n",
    "u_fluct.plot(color='darkblue', linewidth=3, linestyle='dotted', label='Fluct social value')\n",
    "\n",
    "bug.format_plot(ax, recession_dates=[starts, ends], xgrid=True, augment_legend=True, \n",
    "                legend_loc=4)\n",
    "\n",
    "plt.ylim(0,.06)\n",
    "plt.ylabel('Unemployment', fontsize=12)\n",
    "plt.title('Unemployment', fontsize=14)"
   ]
  },
  {
   "cell_type": "code",
   "execution_count": null,
   "id": "866e4977",
   "metadata": {},
   "outputs": [],
   "source": []
  }
 ],
 "metadata": {
  "kernelspec": {
   "display_name": "Python 3 (ipykernel)",
   "language": "python",
   "name": "python3"
  },
  "language_info": {
   "codemirror_mode": {
    "name": "ipython",
    "version": 3
   },
   "file_extension": ".py",
   "mimetype": "text/x-python",
   "name": "python",
   "nbconvert_exporter": "python",
   "pygments_lexer": "ipython3",
   "version": "3.9.12"
  }
 },
 "nbformat": 4,
 "nbformat_minor": 5
}
