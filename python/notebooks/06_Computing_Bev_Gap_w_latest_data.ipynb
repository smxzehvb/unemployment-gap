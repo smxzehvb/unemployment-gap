{
 "cells": [
  {
   "cell_type": "markdown",
   "id": "52cd38ca",
   "metadata": {},
   "source": [
    "# BUG: Beveridgean Unemployment Gap\n",
    "This series of notebooks demonstrates the python implementation of the \"Beveridgean Unemployment Gap\" by Pascal Michaillat and Emmanuel Saez (M&S). The original code was in MATLAB. See [GitHub link](https://github.com/pascalmichaillat/unemployment-gap) for original. \n",
    "\n",
    "## Using latest data\n",
    "Here we show how to pull the latest economic data and compute the BUG.\n",
    "\n",
    "### import packages"
   ]
  },
  {
   "cell_type": "code",
   "execution_count": null,
   "id": "8c2c0172",
   "metadata": {},
   "outputs": [],
   "source": [
    "import pandas as pd\n",
    "import numpy as np"
   ]
  },
  {
   "cell_type": "code",
   "execution_count": null,
   "id": "dea4eb04",
   "metadata": {},
   "outputs": [],
   "source": [
    "import matplotlib\n",
    "import matplotlib.pyplot as plt\n",
    "\n",
    "%matplotlib inline\n",
    "matplotlib.style.use('fivethirtyeight')"
   ]
  },
  {
   "cell_type": "code",
   "execution_count": null,
   "id": "25d95699",
   "metadata": {},
   "outputs": [],
   "source": [
    "import sys\n",
    "sys.path.insert(0, '../')\n",
    "import bug"
   ]
  },
  {
   "cell_type": "markdown",
   "id": "df12eb8c",
   "metadata": {},
   "source": [
    "## Get the data\n",
    "For computing the BUG, we need:\n",
    "  * unemployment rate: u\n",
    "  * vacancy rate: v\n",
    "  * beveridge curve elasticity (computed from u, v, and breakpoints on the v/u series)\n",
    "  * social value of non-work (default is zeta = 0.26)\n",
    "  * recruting costs (default is kappa = 0.92)\n",
    "  \n",
    "For context in the plots, we also want recession information.\n",
    "<br>\n",
    "\n",
    "### Data source: \n",
    "\n",
    "![image.png](https://fred.stlouisfed.org/images/fred-logo-2x.png)\n",
    "<br>\n",
    "\n",
    "The St. Louis Fed has an [API](https://fred.stlouisfed.org/docs/api/fred/series_observations.html) which allows you to pull data programatically.\n",
    "You can do this yourself with a registered API key. (See [here](https://fred.stlouisfed.org/docs/api/api_key.html) for info.)\n",
    "\n",
    "*Or, we can use the handy FredReader class from the [pandas-datareader](https://pandas-datareader.readthedocs.io/en/latest/index.html) package!*"
   ]
  },
  {
   "cell_type": "code",
   "execution_count": null,
   "id": "76384588-b6d6-4d4b-b6ae-016cbfbeac1a",
   "metadata": {},
   "outputs": [],
   "source": [
    "from pandas_datareader.fred import FredReader\n",
    "default_start_date = '1951-01-01'"
   ]
  },
  {
   "cell_type": "markdown",
   "id": "338b01bf",
   "metadata": {},
   "source": [
    "### Recession information"
   ]
  },
  {
   "cell_type": "code",
   "execution_count": null,
   "id": "53d8ec13-70f5-4f3e-938c-879bd56b13a4",
   "metadata": {},
   "outputs": [],
   "source": [
    "recession = FredReader('USREC', start=default_start_date).read()\n",
    "recession['starts'] = (recession.USREC- recession.USREC.shift(1) ==1)\n",
    "recession['ends'] = (recession.USREC- recession.USREC.shift(1) ==-1)"
   ]
  },
  {
   "cell_type": "code",
   "execution_count": null,
   "id": "06a6e63c",
   "metadata": {},
   "outputs": [],
   "source": [
    "starts = recession.index[recession['starts']==1].to_list()\n",
    "ends = recession.index[recession['ends']==1].to_list()"
   ]
  },
  {
   "cell_type": "markdown",
   "id": "b5235388",
   "metadata": {},
   "source": [
    "### unemployment rate"
   ]
  },
  {
   "cell_type": "code",
   "execution_count": null,
   "id": "6be929e4",
   "metadata": {},
   "outputs": [],
   "source": [
    "u = FredReader('UNRATE',start=default_start_date ).read()/100.0\n",
    "u = u.squeeze()\n",
    "u.head()"
   ]
  },
  {
   "cell_type": "code",
   "execution_count": null,
   "id": "e37945e9",
   "metadata": {},
   "outputs": [],
   "source": [
    "ax = u.plot(figsize=(8,5), linewidth=2, color='darkred')\n",
    "bug.format_plot(ax, recession_dates=[starts, ends], augment_legend=True, legend_loc=2)\n",
    "\n",
    "plt.ylim(0,.16)\n",
    "plt.title('Monthly Unemployment Rate')"
   ]
  },
  {
   "cell_type": "markdown",
   "id": "cac1dafb",
   "metadata": {},
   "source": [
    "### vacancy info\n",
    "For 1951–2000, we use the vacancy proxy \"Composite Help-Wanted index\" constructed by Barnichon (2010).\n",
    "\n",
    "For 2001--, we use the number of job openings measured by the BLS in the Job Opening and Labor Turnover Survey (JOLTS), divided by the civilian labor force from the Current Population Survey (CPS). \n",
    "\n",
    "We then splice the two series to obtain a vacancy rate."
   ]
  },
  {
   "cell_type": "markdown",
   "id": "669ec8ac",
   "metadata": {},
   "source": [
    "#### help-wanted index\n",
    "Ok, so the author has the HWI in a google drive document. Yes, we could download it with python, but the Google Drive API is a bit over-kill (and not really worth the learning curve) if this is the only thing we are using it for.\n",
    "\n",
    "So, we suggest downloading a copy of this file, and reading it from disk.\n",
    "\n",
    "For reference, the file link is: [HWI_index.txt](https://drive.google.com/file/d/1s9yGoAt6wfpKaBGkP7xV7Hvs7RVV9deS/view)\n",
    "\n",
    "Or, if you don't ned data before 2001, you can skip this step, as data for vacancy rate after 2001 is available from FRED."
   ]
  },
  {
   "cell_type": "code",
   "execution_count": null,
   "id": "6fcd0682",
   "metadata": {},
   "outputs": [],
   "source": [
    "hwi = pd.read_csv(\"../new_data/HWI_index.txt\", skiprows=6, header=None,delim_whitespace=True)\n",
    "hwi['date'] = pd.to_datetime(hwi[0].str[:4]+'-'+hwi[0].str[-2:]+'-01' )\n",
    "vac_proxy = pd.Series(data=pd.to_numeric(hwi[1].values),index=hwi['date'], name='help-wanted index') \n",
    "vac_proxy.index.freq = vac_proxy.index.inferred_freq"
   ]
  },
  {
   "cell_type": "markdown",
   "id": "03da3277",
   "metadata": {},
   "source": [
    "#### labor force level"
   ]
  },
  {
   "cell_type": "code",
   "execution_count": null,
   "id": "3ecc25ca",
   "metadata": {},
   "outputs": [],
   "source": [
    "labor_lev = FredReader('CLF16OV', start=default_start_date).read().astype(float)"
   ]
  },
  {
   "cell_type": "markdown",
   "id": "8c8321de",
   "metadata": {},
   "source": [
    "#### vacancies"
   ]
  },
  {
   "cell_type": "code",
   "execution_count": null,
   "id": "16d1a284",
   "metadata": {},
   "outputs": [],
   "source": [
    "nf_vac = FredReader('JTSJOL', start=default_start_date).read().astype(float)"
   ]
  },
  {
   "cell_type": "code",
   "execution_count": null,
   "id": "87e2b591",
   "metadata": {
    "scrolled": true
   },
   "outputs": [],
   "source": [
    "vac_rate = nf_vac.JTSJOL/labor_lev.CLF16OV\n",
    "vac_rate.index.freq = vac_rate.index.inferred_freq"
   ]
  },
  {
   "cell_type": "markdown",
   "id": "31671ba7",
   "metadata": {},
   "source": [
    "Here we splice the series together."
   ]
  },
  {
   "cell_type": "code",
   "execution_count": null,
   "id": "39d900a8",
   "metadata": {},
   "outputs": [],
   "source": [
    "v = pd.concat([vac_proxy.loc[:'2000-12-01']/100., vac_rate.loc['2001-01-01':]],)"
   ]
  },
  {
   "cell_type": "code",
   "execution_count": null,
   "id": "b6bd28e3",
   "metadata": {},
   "outputs": [],
   "source": [
    "ax = v.plot(figsize=(8,5), linewidth=2, color='darkgreen', label='vacancy')\n",
    "bug.format_plot(ax, recession_dates=[starts, ends], augment_legend=True, legend_loc=2)\n",
    "\n",
    "plt.ylim(0,.08)\n",
    "plt.title('Monthly Vacancy Rate')"
   ]
  },
  {
   "cell_type": "markdown",
   "id": "5c2cd56a",
   "metadata": {},
   "source": [
    "### Beveridge Curve"
   ]
  },
  {
   "cell_type": "code",
   "execution_count": null,
   "id": "79975615",
   "metadata": {},
   "outputs": [],
   "source": [
    "fig = plt.figure(figsize = (7,7))\n",
    "ax = fig.add_subplot(1, 1, 1)\n",
    "ax.plot(np.log(u), np.log(v), linewidth=1, color='navy')\n",
    "bug.format_plot(ax, xgrid=False)\n",
    "\n",
    "plt.ylabel('Log Vacancy Rate', fontsize=12)\n",
    "plt.xlabel('Log Unemployment Rate', fontsize=12)\n",
    "plt.title('Beveridge Curve (monthly)', fontsize=14)"
   ]
  },
  {
   "cell_type": "code",
   "execution_count": null,
   "id": "c85ec8af",
   "metadata": {},
   "outputs": [],
   "source": [
    "u_q = u.resample('Q').mean()\n",
    "v_q = v.resample('Q').mean()\n",
    "\n",
    "u_q.index = u_q.index.to_period('Q')\n",
    "v_q.index = v_q.index.to_period('Q')"
   ]
  },
  {
   "cell_type": "code",
   "execution_count": null,
   "id": "3f4c58eb-656d-4c4f-9009-2ea72624af29",
   "metadata": {},
   "outputs": [],
   "source": [
    "log_u_q = np.log(u_q)\n",
    "log_v_q = np.log(v_q)"
   ]
  },
  {
   "cell_type": "code",
   "execution_count": null,
   "id": "90ecff83",
   "metadata": {},
   "outputs": [],
   "source": [
    "fig = plt.figure(figsize = (7,7))\n",
    "ax = fig.add_subplot(1, 1, 1)\n",
    "ax.plot(log_u_q, log_v_q, linewidth=1,color='grey')\n",
    "\n",
    "plt.plot(log_u_q.loc['2020Q1':],log_v_q.loc['2020Q1':], \n",
    "         linewidth=2, color='darkred', alpha=.7, marker='o',)\n",
    "\n",
    "plt.annotate('2020Q1', (log_u_q.loc['2020Q1'], log_v_q.loc['2020Q1']),)\n",
    "plt.annotate('2020Q2', (log_u_q.loc['2020Q2'], log_v_q.loc['2020Q2']))\n",
    "plt.annotate('2021Q1', (log_u_q.loc['2021Q1'], log_v_q.loc['2021Q1']))\n",
    "plt.annotate('2022Q1', (log_u_q.loc['2022Q1'], log_v_q.loc['2022Q1']))\n",
    "plt.annotate('2023Q1', (log_u_q.loc['2023Q1'], log_v_q.loc['2023Q1']))\n",
    "\n",
    "\n",
    "bug.format_plot(ax, xgrid=False)\n",
    "\n",
    "plt.ylabel('Log Vacancy Rate', fontsize=12)\n",
    "plt.xlabel('Log Unemployment Rate', fontsize=12)\n",
    "plt.title('Beveridge Curve (quarterly)', fontsize=15)\n",
    "_=plt.suptitle('Highlighting COVID effects')"
   ]
  },
  {
   "cell_type": "markdown",
   "id": "64c4af78",
   "metadata": {},
   "source": [
    "## Beverige Elasticity\n",
    "### finding the v/u breakpoints\n",
    "#### Bai-Perron suggested parameterization\n",
    "The breakpoints in the original M&S paper were calculated on the series of log(vacancy) and log(unemployment) rates from 1951Q1 to 2019Q4 (length=276).  \n",
    "\n",
    "In implementing B-P, M&S set the value of the trimming parameter to 0.15, which then determines the minimun length for detected sub-sequences: floor(0.15×276)=41. \n",
    "\n",
    "Furthermore, setting this trimming parameter at 0.15 sets the max number of breaks at 5, as stated in B&P(2003, page 14).\n",
    "\n",
    "  * Then resulting values were: [0, 41, 84, 153, 194, 235, 276]; \n",
    "  * Corresponding to dates: [1951Q1, 1961Q2, 1972Q1, 1989Q2, 1999Q3, 2009Q4, 2019Q4]. \n",
    "\n",
    "By convention the first value and last values of the series are also listed as breakpoints. So in this case, we had 5 *internal* breakpoints."
   ]
  },
  {
   "cell_type": "markdown",
   "id": "72bd514c",
   "metadata": {},
   "source": [
    "### The new data\n",
    "OK, so what happens when we use the default B-P parameter values on our longer series 1951Q1 to the present quarter, FY2023 or later ?\n",
    "\n",
    "#### Can't find more than 5 internal breakpoints\n",
    "Which means the post-COVID era gets lumped in with the curve starting around 2009--2011 (depends on the dat ayou are fitting), and that seems _wrong_."
   ]
  },
  {
   "cell_type": "code",
   "execution_count": null,
   "id": "7a9337b4",
   "metadata": {},
   "outputs": [],
   "source": [
    "bkps_default = bug.get_bp_breakpoints(log_u_q, log_v_q, use_bp_defaults=True)\n",
    "bkps_default"
   ]
  },
  {
   "cell_type": "code",
   "execution_count": null,
   "id": "1ce68ede",
   "metadata": {},
   "outputs": [],
   "source": [
    "bug.plot_beveridge_curve_segments(log_u_q, log_v_q, bkps_default,)"
   ]
  },
  {
   "cell_type": "markdown",
   "id": "b284c316",
   "metadata": {},
   "source": [
    "### Compute the Bev elasticity given these breakpoints"
   ]
  },
  {
   "cell_type": "code",
   "execution_count": null,
   "id": "ad5d9036",
   "metadata": {},
   "outputs": [],
   "source": [
    "e, _ = bug.compute_beveridge_elasticity(log_u_q, log_v_q, bkps_in=bkps_default)"
   ]
  },
  {
   "cell_type": "code",
   "execution_count": null,
   "id": "da16b67c",
   "metadata": {},
   "outputs": [],
   "source": [
    "bug.plot_beveridge_elasticity_series(e, recession_dates=[starts,ends], draw_legend=True)\n",
    "plt.ylim(0,2.2)"
   ]
  },
  {
   "cell_type": "markdown",
   "id": "b88b91fe",
   "metadata": {},
   "source": [
    "#### Discussion\n",
    "So we see in the graph above, that the last period, from 2011Q3 to the end-point has a really wide confidence interval. (In fact, the average std. error across all segments is 0.097.) This is because the model breakpoints are likely mis-specified. \n",
    "\n",
    "We *KNOW* there was a huge shock to the US (and world-wide) economy due to COVID at the 2020Q2 period. It's really not reasonable to say that the time (2011Q3 to 2020Q1) and (2020Q2 to present quarter) are the *SAME* regime. \n",
    "\n",
    "The ONLY reason those 2 periods end up together is because of the default B-P parameterization, which does not allow a sequence short enough to distinguish the post-COVID time period.\n",
    "\n",
    "### Re-parameterize\n",
    "We are going to set the min sequence length as 10, and the number of breakpoints as 6, and see if this gives us Beveridge elasticity estimates with smaller CI.\n",
    "\n",
    "Bascially, we are guessing the B-P algorithm will identify the prior 5 breakpoints in the 1951-2019 span, and allow for the extra COVID period. "
   ]
  },
  {
   "cell_type": "code",
   "execution_count": null,
   "id": "56e55032",
   "metadata": {},
   "outputs": [],
   "source": [
    "bkps_new = bug.get_bp_breakpoints(log_u_q, log_v_q, use_bp_defaults=False, n_bkps=6, min_size=10)\n",
    "bkps_new"
   ]
  },
  {
   "cell_type": "code",
   "execution_count": null,
   "id": "b5d82134",
   "metadata": {},
   "outputs": [],
   "source": [
    "bug.plot_beveridge_curve_segments(log_u_q, log_v_q, bkps_new,)"
   ]
  },
  {
   "cell_type": "code",
   "execution_count": null,
   "id": "1a34d99f",
   "metadata": {},
   "outputs": [],
   "source": [
    "e_new, coeffs = bug.compute_beveridge_elasticity(log_u_q, log_v_q, bkps_in=bkps_new)"
   ]
  },
  {
   "cell_type": "code",
   "execution_count": null,
   "id": "54180ae0",
   "metadata": {},
   "outputs": [],
   "source": [
    "bug.plot_beveridge_elasticity_series(e_new, recession_dates=[starts,ends], draw_legend=True)\n",
    "plt.ylim(0,2.2)"
   ]
  },
  {
   "cell_type": "markdown",
   "id": "6b1d1994",
   "metadata": {},
   "source": [
    "## Beveridge unemployment gap: BUG"
   ]
  },
  {
   "cell_type": "code",
   "execution_count": null,
   "id": "98d7e556",
   "metadata": {},
   "outputs": [],
   "source": [
    "gap = bug.compute_unemployment_gap(u_q, v_q, e_new.E)"
   ]
  },
  {
   "cell_type": "code",
   "execution_count": null,
   "id": "02cb07f1",
   "metadata": {},
   "outputs": [],
   "source": [
    "bug.plot_beveridge_gap_series(gap, internal_bkps=[u_q.index[b] for b in bkps_new[:-1]], \n",
    "                              recession_dates=[starts, ends], ) \n",
    "plt.ylim(-.02,.12)"
   ]
  },
  {
   "cell_type": "code",
   "execution_count": null,
   "id": "c958cb4d-ac9b-4c70-b8f0-c689bc5cfd27",
   "metadata": {},
   "outputs": [],
   "source": [
    "bug.plot_beveridge_curve_fits(log_u_q, log_v_q, bkps_new, coeffs, figsize=(7,7))"
   ]
  },
  {
   "cell_type": "markdown",
   "id": "0c66e22f",
   "metadata": {},
   "source": [
    "### Note\n",
    "The main goal of this notebook was simply to show how to compute the BUG with new data.\n",
    "\n",
    "We will return to the issue of breakpoint estimation in more depth in the next notebook."
   ]
  },
  {
   "cell_type": "code",
   "execution_count": null,
   "id": "d62b91bd",
   "metadata": {},
   "outputs": [],
   "source": []
  }
 ],
 "metadata": {
  "kernelspec": {
   "display_name": "Python 3 (ipykernel)",
   "language": "python",
   "name": "python3"
  },
  "language_info": {
   "codemirror_mode": {
    "name": "ipython",
    "version": 3
   },
   "file_extension": ".py",
   "mimetype": "text/x-python",
   "name": "python",
   "nbconvert_exporter": "python",
   "pygments_lexer": "ipython3",
   "version": "3.11.5"
  }
 },
 "nbformat": 4,
 "nbformat_minor": 5
}
