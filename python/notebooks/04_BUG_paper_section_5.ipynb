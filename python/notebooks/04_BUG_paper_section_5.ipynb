{
 "cells": [
  {
   "cell_type": "markdown",
   "id": "52cd38ca",
   "metadata": {},
   "source": [
    "# BUG: Beveridgean Unemployment Gap\n",
    "This notebook demonstrates the python implementation of the \"Beveridgean Unemployment Gap\" by Pascal Michaillat and Emmanuel Saez (M&S). The original code was in MATLAB. See [GitHub link](https://github.com/pascalmichaillat/unemployment-gap) for original. \n",
    "\n",
    "## Section 5: Unemployment gap in the United States, 1951–2019"
   ]
  },
  {
   "cell_type": "markdown",
   "id": "b0f86922",
   "metadata": {},
   "source": [
    "## import packages"
   ]
  },
  {
   "cell_type": "code",
   "execution_count": null,
   "id": "8c2c0172",
   "metadata": {},
   "outputs": [],
   "source": [
    "import pandas as pd\n",
    "import numpy as np\n",
    "import ruptures as rpt"
   ]
  },
  {
   "cell_type": "code",
   "execution_count": null,
   "id": "dea4eb04",
   "metadata": {},
   "outputs": [],
   "source": [
    "import matplotlib\n",
    "import matplotlib.pyplot as plt\n",
    "%matplotlib inline\n",
    "matplotlib.style.use('fivethirtyeight')"
   ]
  },
  {
   "cell_type": "code",
   "execution_count": null,
   "id": "25d95699",
   "metadata": {},
   "outputs": [],
   "source": [
    "import sys\n",
    "sys.path.insert(0, '../')\n",
    "import bug"
   ]
  },
  {
   "cell_type": "markdown",
   "id": "df12eb8c",
   "metadata": {},
   "source": [
    "## Read the data\n",
    "Here, we read from the [excel file](https://github.com/pascalmichaillat/unemployment-gap/blob/main/code/data.xlsx) provided with the unemployment-gap matlab package.\n",
    "\n",
    "The goal of this notebook is to re-create analysis and some figures from the Unemployment Gap paper, so that we can verify we are getting the *same* outputs. (*Sameness* allowing for some small differences between the two language implementations)"
   ]
  },
  {
   "cell_type": "markdown",
   "id": "338b01bf",
   "metadata": {},
   "source": [
    "#### Recession information"
   ]
  },
  {
   "cell_type": "code",
   "execution_count": null,
   "id": "15e4af8c",
   "metadata": {},
   "outputs": [],
   "source": [
    "df = pd.read_excel('../../code/data.xlsx', sheet_name='Recession dates', header=1, \n",
    "                   usecols=['Peak month', 'Trough month'],).drop([0]).reset_index() \n",
    "starts =  pd.to_datetime(df['Peak month'])\n",
    "ends = pd.to_datetime(df['Trough month'])"
   ]
  },
  {
   "cell_type": "markdown",
   "id": "b5235388",
   "metadata": {},
   "source": [
    "#### unemployment rate"
   ]
  },
  {
   "cell_type": "code",
   "execution_count": null,
   "id": "8c546782",
   "metadata": {},
   "outputs": [],
   "source": [
    "df = pd.read_excel('../../code/data.xlsx', sheet_name='Monthly data',\n",
    "                           header=1, usecols=['Unemployment rate (percent)', 'Year', 'Month'],)\n",
    "# set the index \n",
    "dates = pd.PeriodIndex(pd.to_datetime(dict(year=df.Year, month=df.Month, day=15)).dt.to_period('m') ) \n",
    "unempl_rate = pd.Series(data=df['Unemployment rate (percent)'].values,\n",
    "                       index=dates, name='unempl_rate')"
   ]
  },
  {
   "cell_type": "markdown",
   "id": "cac1dafb",
   "metadata": {},
   "source": [
    "#### vacancy info\n",
    "For 1951–2000, we use the vacancy proxy constructed by Barnichon (2010).\n",
    "\n",
    "For 2001–2019, we use the number of job openings measured by the Bureau of\n",
    "Labor Statistics (2020b) in the Job Opening and Labor Turnover Survey,\n",
    "divided by the civilian labor force constructed by the Bureau of Labor\n",
    "Statistics (2020a) from the Current Population Survey. \n",
    "\n",
    "We then splice\n",
    "the two series to obtain a vacancy rate for 1951–2019 (Fig. 1(b))."
   ]
  },
  {
   "cell_type": "code",
   "execution_count": null,
   "id": "6ab8a2f8",
   "metadata": {},
   "outputs": [],
   "source": [
    "df = pd.read_excel('../../code/data.xlsx', sheet_name='Monthly data',\n",
    "                           header=1, usecols=['Vacancy rate (thousands)', 'Year', 'Month'],)\n",
    "# set the index \n",
    "dates = pd.PeriodIndex(pd.to_datetime(dict(year=df.Year, month=df.Month, day=15)).dt.to_period('m') ) \n",
    "vac_rate_proxy = pd.Series(data=df['Vacancy rate (thousands)'].values,\n",
    "                       index=dates, name='vacancy_rate_proxy')"
   ]
  },
  {
   "cell_type": "markdown",
   "id": "03da3277",
   "metadata": {},
   "source": [
    "#### labor force level"
   ]
  },
  {
   "cell_type": "code",
   "execution_count": null,
   "id": "cfed9fa5",
   "metadata": {},
   "outputs": [],
   "source": [
    "df = pd.read_excel('../../code/data.xlsx', sheet_name='Monthly data',\n",
    "                           header=1, usecols=['Labor force level (thousands of persons)', 'Year', 'Month'],)\n",
    "# set the index \n",
    "dates = pd.PeriodIndex(pd.to_datetime(dict(year=df.Year, month=df.Month, day=15)).dt.to_period('m') ) \n",
    "labor_level = pd.Series(data=df['Labor force level (thousands of persons)'].values,\n",
    "                       index=dates, name='labor_force_level')"
   ]
  },
  {
   "cell_type": "markdown",
   "id": "8c8321de",
   "metadata": {},
   "source": [
    "#### vacancies"
   ]
  },
  {
   "cell_type": "code",
   "execution_count": null,
   "id": "87e2b591",
   "metadata": {},
   "outputs": [],
   "source": [
    "df = pd.read_excel('../../code/data.xlsx', sheet_name='Monthly data',\n",
    "                           header=1, usecols=['Vacancy level (thousands)', 'Year', 'Month'],)\n",
    "# set the index \n",
    "dates = pd.PeriodIndex(pd.to_datetime(dict(year=df.Year, month=df.Month, day=15)).dt.to_period('m') ) \n",
    "vacancy_level = pd.Series(data=df['Vacancy level (thousands)'].values,\n",
    "                       index=dates, name='vacancy_level')"
   ]
  },
  {
   "cell_type": "code",
   "execution_count": null,
   "id": "39d900a8",
   "metadata": {},
   "outputs": [],
   "source": [
    "vacancy_rate_2001 = vacancy_level/labor_level\n",
    "vacancy_rate_splice = pd.concat([vac_rate_proxy.loc[:'2000-12'], vacancy_rate_2001.loc['2001-01':]*100])"
   ]
  },
  {
   "cell_type": "code",
   "execution_count": null,
   "id": "407730ed",
   "metadata": {},
   "outputs": [],
   "source": []
  },
  {
   "cell_type": "markdown",
   "id": "32cb43af",
   "metadata": {},
   "source": [
    "# Section 5.1 \n",
    "## Beveridge Elasticity\n",
    "From the M&S paper:\n",
    "\n",
    "\"We estimate the Beveridge elasticity in the United States by regressing log vacancy rate (from Fig. 1(b)) on log unemployment rate\n",
    "(from Fig. 1(a)). The data are quarterly from 1951Q1 to 2019Q4, so\n",
    "the sample contains 276 observations. Since the Beveridge curve shifts\n",
    "at multiple points in time, we use the algorithm proposed by Bai and\n",
    "Perron (1998, 2003) to estimate linear models with multiple structural\n",
    "breaks.\""
   ]
  },
  {
   "cell_type": "code",
   "execution_count": null,
   "id": "56e55032",
   "metadata": {},
   "outputs": [],
   "source": [
    "# create the quarterly rates series\n",
    "u_q = unempl_rate.resample('Q').mean()/100\n",
    "u_q = u_q.loc[:u_q.last_valid_index()]\n",
    "\n",
    "log_u_q = np.log(unempl_rate.resample('Q').mean()/100)\n",
    "log_u_q = log_u_q.loc[:log_u_q.last_valid_index()]"
   ]
  },
  {
   "cell_type": "code",
   "execution_count": null,
   "id": "1a8d51e2",
   "metadata": {},
   "outputs": [],
   "source": [
    "# create the quarterly rates series\n",
    "v_q = vacancy_rate_splice.resample('Q').mean()/100\n",
    "v_q = v_q.loc[:v_q.last_valid_index()]\n",
    "\n",
    "log_v_q = np.log(vacancy_rate_splice.resample('Q').mean()/100)\n",
    "log_v_q = log_v_q.loc[:log_v_q.last_valid_index()]"
   ]
  },
  {
   "cell_type": "code",
   "execution_count": null,
   "id": "436287b2",
   "metadata": {},
   "outputs": [],
   "source": [
    "fig = plt.figure(figsize = (7,7))\n",
    "ax = fig.add_subplot(1, 1, 1)\n",
    "ax.plot(log_u_q, log_v_q, linewidth=1,)\n",
    "\n",
    "bug.format_plot(ax, xgrid=False)\n",
    "plt.xlim(-3.8, -2.1)\n",
    "plt.ylim(-4.3, -2.95)\n",
    "plt.ylabel('Log Vacancy Rate', fontsize=12)\n",
    "plt.xlabel('Log Unemployment Rate', fontsize=12)\n",
    "plt.title('Beveridge Curve (quarterly)', fontsize=14)"
   ]
  },
  {
   "cell_type": "markdown",
   "id": "88737246",
   "metadata": {},
   "source": [
    "## structural breaks with Bai-Perron "
   ]
  },
  {
   "cell_type": "markdown",
   "id": "987c074c",
   "metadata": {},
   "source": [
    "### Input parameters\n",
    "\n",
    "The Matlab implemtation takes a parameter 'epsilon,' which then determines the parameter for maximum number fo breaks (m) in the series. M&S set epsilon=0.15 (which then sets m=5), since that was recommended by B&P. \n",
    "\n",
    "The python implementation in the *ruptures* packages takes a min\\_size parameter, which we set to `min_size=41`, since this is a result of the epsilon parameter (epsilon\\*series length). We also need to set `jump=1` to allow the breakpoints to happen at any point, and not at multiples of jump (where the ruptures default jump is 2).\n",
    "\n",
    "We have set our default bug implementation to mimic the matlab, such that, if run on the same series of data, the breaks and coeffs returned should match the matlab."
   ]
  },
  {
   "cell_type": "code",
   "execution_count": null,
   "id": "89f86812",
   "metadata": {},
   "outputs": [],
   "source": [
    "# from the matlab file getBreakDate.m:\n",
    "mat_breaks = [0, 41, 84, 153, 194, 235, 276]\n",
    "\n",
    "# from getBeveridgeElasticity.m:\n",
    "mat_coeffs = [0.8437, 1.0182, 0.8376, 0.9390, 0.9985, 0.8364]"
   ]
  },
  {
   "cell_type": "markdown",
   "id": "f1fed988",
   "metadata": {},
   "source": [
    "### Get breakpoints\n",
    "Call the function `bug.get_bp_breakpoints()` with arguments:\n",
    "  * **log** unemployment rate, required\n",
    "  * **log** vacancy rate, required\n",
    "  * `use_bp_defaults` optional, default is True\n",
    "  * `min_size`, optional, default is None.  A valid parameter (int) to be used with *ruptures* `rpt.Dynp` algorithm. Must be specified if `use_bp_defaults=False`.\n",
    "  * `n_bkps`, optional, default is None. A valid parameter (int). Must be specified if `use_bp_defaults=False`.\n",
    "\n",
    "Returns: the estimated breakpoints"
   ]
  },
  {
   "cell_type": "code",
   "execution_count": null,
   "id": "45bfc985",
   "metadata": {},
   "outputs": [],
   "source": [
    "est_bkps = bug.get_bp_breakpoints(log_u_q, log_v_q, use_bp_defaults=True,)"
   ]
  },
  {
   "cell_type": "code",
   "execution_count": null,
   "id": "c98e7d1b",
   "metadata": {},
   "outputs": [],
   "source": [
    "est_bkps"
   ]
  },
  {
   "cell_type": "markdown",
   "id": "dc11f73f",
   "metadata": {},
   "source": [
    "#### Visualize with the ruptures pakages\n",
    "The black lines represent our python computed breakpoints. The pink/blue regions are the matlab computed breakpoints.\n",
    "\n",
    "As you can see, they line up exactly"
   ]
  },
  {
   "cell_type": "code",
   "execution_count": null,
   "id": "d281daa7",
   "metadata": {},
   "outputs": [],
   "source": [
    "y = np.array(log_v_q)\n",
    "X = np.array(log_u_q).T\n",
    "signal = np.column_stack((y.reshape(-1, 1), X))\n",
    "rpt.show.display(signal, mat_breaks, est_bkps, figsize=(10, 6))\n",
    "plt.title(\"Log Vacancy (TOP); Log Unemployment (BOTTOM)\")\n",
    "plt.show()"
   ]
  },
  {
   "cell_type": "markdown",
   "id": "9c1c4a2f",
   "metadata": {},
   "source": [
    "#### Visualize like the M&S paper\n",
    "# FIGURE 5 \n",
    "### Beveridge-curve branches in the United States, 1951–2019."
   ]
  },
  {
   "cell_type": "code",
   "execution_count": null,
   "id": "101b0708",
   "metadata": {
    "scrolled": false
   },
   "outputs": [],
   "source": [
    "bug.plot_beveridge_curve_segments(log_u_q, log_v_q, est_bkps)"
   ]
  },
  {
   "cell_type": "code",
   "execution_count": null,
   "id": "19c4137b",
   "metadata": {},
   "outputs": [],
   "source": []
  },
  {
   "cell_type": "markdown",
   "id": "39d37802",
   "metadata": {},
   "source": [
    "## Get Elasticity as a series \n",
    "### (calls the breakpoint estimation internally)\n",
    "Call the function `bug.compute_beveridge_elasticity()` with arguments:\n",
    "  * **log** unemployment rate, required\n",
    "  * **log** vacancy rate, required\n",
    "  * list of breakpoints, optional, deafult is None. If None, to get the necessary breakpoints, the `bug.get_bp_breakpoints()` function will be called under the hood with option `use_bp_defaults=True`."
   ]
  },
  {
   "cell_type": "code",
   "execution_count": null,
   "id": "53f00cdb",
   "metadata": {},
   "outputs": [],
   "source": [
    "bev_e, python_coeffs = bug.compute_beveridge_elasticity(log_u_q, log_v_q)"
   ]
  },
  {
   "cell_type": "markdown",
   "id": "ac4a9b40",
   "metadata": {},
   "source": [
    "# FIGURE  6 \n",
    "## Beveridge elasticity in the United States, 1951–2019."
   ]
  },
  {
   "cell_type": "code",
   "execution_count": null,
   "id": "1a636265",
   "metadata": {},
   "outputs": [],
   "source": [
    "bug.plot_beveridge_elasticity_series(bev_e, recession_dates=[starts, ends],draw_legend=True)\n",
    "plt.ylim(0, 1.5)"
   ]
  },
  {
   "cell_type": "code",
   "execution_count": null,
   "id": "51f4d3a6",
   "metadata": {},
   "outputs": [],
   "source": []
  },
  {
   "cell_type": "markdown",
   "id": "731c0839",
   "metadata": {},
   "source": [
    "#### Check python estimated coeffs vs matlab"
   ]
  },
  {
   "cell_type": "code",
   "execution_count": null,
   "id": "3d337861",
   "metadata": {},
   "outputs": [],
   "source": [
    "[round(c[0],4) for c in python_coeffs]"
   ]
  },
  {
   "cell_type": "code",
   "execution_count": null,
   "id": "394a9c16",
   "metadata": {},
   "outputs": [],
   "source": [
    "mat_coeffs"
   ]
  },
  {
   "cell_type": "markdown",
   "id": "70dccbfd",
   "metadata": {},
   "source": [
    "### Standard errors of the Elasticity estimate\n",
    "Here is where our estimates using python will diverge from the results found with the matlab implementation. Why? Because of the choice of robust covaraince estimator.\n",
    "\n",
    "We can find the exact same breakpoints as the matlab method, and from there we can fit a regression model to each sub-sequence. **We get the same fitted coefficients, why don't we get the same standard errors?** \n",
    "\n",
    "Any regression model requires an assumption on the nature of the errors. For time series like this, we want to allow for heteroskedasticy as well as autocorrelation in the error terms. The type of covaraince estimator we want is a 'HAC.'\n",
    "\n",
    "Bai & Perron suggest using the HAC estimator from Andrews (1991), and this is the approach implemented in the matlab code. This was not the main focus of the work by M&S, so if they settled on using the B&P method for finding the breaks, then they simply also incorporated the B&P suggested defaults, which included Andrews HAC.\n",
    "\n"
   ]
  },
  {
   "cell_type": "markdown",
   "id": "aa59766d",
   "metadata": {},
   "source": [
    "Like M&S, we want to be judicious in leveraging exisitng methods for parameter estimation. In the package we use for OLS regression (python `statsmodels`), the robust HAC method that is implemented is the Newey & West (1994) estimator. The Andrews HAC is not available. \n",
    "\n",
    "See [Cheung and Lai (1997)](https://people.ucsc.edu/~cheung/WorkingPapers/BandWidthSelectionPowerPPTest_ET1997.pdf) for nice discussion of N-W vs Andrews HAC. \n",
    "\n",
    "(TL/DR: Different kernels, different bandwidth estimation)"
   ]
  },
  {
   "cell_type": "code",
   "execution_count": null,
   "id": "9538d0b5",
   "metadata": {},
   "outputs": [],
   "source": [
    "# from getBeveridgeElasticity.m:\n",
    "mat_se = [0.066707, 0.068795, 0.11244, 0.14772, 0.057224, 0.056694];"
   ]
  },
  {
   "cell_type": "code",
   "execution_count": null,
   "id": "3498eefe",
   "metadata": {},
   "outputs": [],
   "source": [
    "# Our estimates\n",
    "bev_e['SE'].unique()"
   ]
  },
  {
   "cell_type": "markdown",
   "id": "d3b81901",
   "metadata": {},
   "source": [
    "### Confidence intervals of break points\n",
    "Alas, this is one aspect that we have not been able to port into our python code. We hope to work on this in the future."
   ]
  },
  {
   "cell_type": "code",
   "execution_count": null,
   "id": "72128b89",
   "metadata": {},
   "outputs": [],
   "source": []
  },
  {
   "cell_type": "markdown",
   "id": "4cebc330",
   "metadata": {},
   "source": [
    "# Section 5.4\n",
    "## Unemployment Gap"
   ]
  },
  {
   "cell_type": "markdown",
   "id": "6e89d8cf",
   "metadata": {},
   "source": [
    "Call the function `bug.compute_efficient_tightness()` with arguments:\n",
    "  * Beveridge elasticity, required\n",
    "  * value of non-work (zeta), optional; default is zeta=0.26\n",
    "  * recruitment cost (kappa), optional; default is kappa=0.92\n",
    "  \n",
    "Theta is labor market tightness"
   ]
  },
  {
   "cell_type": "code",
   "execution_count": null,
   "id": "5d4e5e17",
   "metadata": {},
   "outputs": [],
   "source": [
    "eff_mar_tightness = bug.compute_efficient_tightness(bev_e['E'])\n",
    "theta = v_q/u_q"
   ]
  },
  {
   "cell_type": "markdown",
   "id": "ceb0cd5f",
   "metadata": {},
   "source": [
    "# FIGURE 7A\n",
    "## Efficeient labor market tightness"
   ]
  },
  {
   "cell_type": "code",
   "execution_count": null,
   "id": "5cbda9e0",
   "metadata": {},
   "outputs": [],
   "source": [
    "ax = theta.plot(color='navy', linewidth=2, figsize=(10, 7), label='Actual')\n",
    "eff_mar_tightness.plot(ax=ax,color='magenta', linewidth=2,label='Efficient')\n",
    "\n",
    "plt.fill_between(theta.index, eff_mar_tightness, \n",
    "                 np.max((theta, eff_mar_tightness), axis=0),color='magenta', alpha=.2)\n",
    "plt.fill_between(theta.index, eff_mar_tightness, \n",
    "                 np.min((theta, eff_mar_tightness), axis=0),color='navy', alpha=.2)\n",
    "\n",
    "bug.format_plot(ax, recession_dates=[starts, ends], xgrid=True, \n",
    "                augment_legend=True, legend_loc=1)\n",
    "plt.ylim(0, 1.6)\n",
    "plt.ylabel('Labor Market Tightness', fontsize=12)\n",
    "plt.title('Labor Market Tightness', fontsize=14)\n"
   ]
  },
  {
   "cell_type": "markdown",
   "id": "8d524af8",
   "metadata": {},
   "source": [
    "# FIGURE 7B\n",
    "## Efficient unemployment rate\n",
    "Call the function `bug.compute_efficient_unemployment()` with arguments:\n",
    "  * unemployment rate, required\n",
    "  * vacancy rate, required\n",
    "  * Beveridge elasticity, required\n",
    "  * value of non-work (zeta), optional; default is zeta=0.26\n",
    "  * recruitment cost (kappa), optional; default is kappa=0.92"
   ]
  },
  {
   "cell_type": "code",
   "execution_count": null,
   "id": "34075dd9",
   "metadata": {},
   "outputs": [],
   "source": [
    "eff_unempl = bug.compute_efficient_unemployment(u_q, v_q, bev_e['E'], zeta=0.26, kappa=0.92)"
   ]
  },
  {
   "cell_type": "code",
   "execution_count": null,
   "id": "81f65cdd",
   "metadata": {},
   "outputs": [],
   "source": [
    "ax = u_q.plot(color='navy', linewidth=2, figsize=(10, 7), label='Actual')\n",
    "eff_unempl.plot(ax=ax,color='magenta', linewidth=2,label='Efficient')\n",
    "\n",
    "plt.fill_between(theta.index, eff_unempl, \n",
    "                 np.min((u_q, eff_unempl), axis=0),color='magenta', alpha=.2)\n",
    "plt.fill_between(theta.index, eff_unempl, \n",
    "                 np.max((u_q, eff_unempl), axis=0),color='navy', alpha=.2)\n",
    "\n",
    "bug.format_plot(ax, recession_dates=[starts, ends], xgrid=True, \n",
    "                augment_legend=True, legend_loc=4)\n",
    "plt.ylim(0, .12)\n",
    "\n",
    "plt.ylabel('Unemployment', fontsize=12)\n",
    "plt.title('Unemployment', fontsize=14)"
   ]
  },
  {
   "cell_type": "markdown",
   "id": "d1d2093a",
   "metadata": {},
   "source": [
    "# FIGURE 7C\n",
    "## Unemployment gap\n",
    "Call the function `bug.compute_unemployment_gap()` with arguments:\n",
    "  * unemployment rate, required\n",
    "  * vacancy rate, required\n",
    "  * Beveridge elasticity, required\n",
    "  * value of non-work (zeta), optional; default is zeta=0.26\n",
    "  * recruitment cost (kappa), optional; default is kappa=0.92"
   ]
  },
  {
   "cell_type": "code",
   "execution_count": null,
   "id": "2fd4cd8f",
   "metadata": {},
   "outputs": [],
   "source": [
    "unepl_gap = bug.compute_unemployment_gap(u_q, v_q, bev_e['E'], zeta=0.26, kappa=0.92)"
   ]
  },
  {
   "cell_type": "code",
   "execution_count": null,
   "id": "59cf112e",
   "metadata": {},
   "outputs": [],
   "source": [
    "ax = unepl_gap.plot(color='navy', linewidth=2, figsize=(10, 7), label='unemployment gap')\n",
    "plt.axhline(y=0, color='magenta', linewidth=2,)\n",
    "\n",
    "plt.fill_between(unepl_gap.index, 0, [min(0,g) for g in unepl_gap],color='magenta', alpha=.2)\n",
    "plt.fill_between(unepl_gap.index, 0, [max(0,g) for g in unepl_gap],color='navy', alpha=.2)\n",
    "\n",
    "plt.ylim(-.02, .08)\n",
    "bug.format_plot(ax, recession_dates=[starts, ends], xgrid=True, \n",
    "                augment_legend=True, legend_loc=2)\n",
    "plt.ylabel('Unemployment Gap', fontsize=12)\n",
    "plt.title('Unemployment Gap', fontsize=14)"
   ]
  },
  {
   "cell_type": "code",
   "execution_count": null,
   "id": "d0a657c9",
   "metadata": {},
   "outputs": [],
   "source": []
  },
  {
   "cell_type": "markdown",
   "id": "3b3c6556",
   "metadata": {},
   "source": [
    "# Sec 5.6: Other unemployment Gaps"
   ]
  },
  {
   "cell_type": "code",
   "execution_count": null,
   "id": "f115732a",
   "metadata": {},
   "outputs": [],
   "source": [
    "nairu = pd.read_excel('../../code/data.xlsx', sheet_name='Quarterly data',\n",
    "                           header=1, usecols=['NAIRU (percent)', 'Year', 'Quarter'],)\n",
    "nairu['date'] = nairu['Year'].astype(str) +'-Q' + nairu['Quarter'].astype(str)\n",
    "nairu['NAIRU (percent)'] = nairu['NAIRU (percent)']/100.\n",
    "nairu['date'] = pd.PeriodIndex(nairu['date'], freq='Q').to_timestamp()\n",
    "nairu = nairu.set_index('date')"
   ]
  },
  {
   "cell_type": "code",
   "execution_count": null,
   "id": "762d03a6",
   "metadata": {},
   "outputs": [],
   "source": [
    "natural = pd.read_excel('../../code/data.xlsx', sheet_name='Quarterly data',\n",
    "                           header=1, usecols=['Natural rate of unemployment (percent)', 'Year', 'Quarter'],)\n",
    "natural['date'] = natural['Year'].astype(str) +'-Q' + natural['Quarter'].astype(str)\n",
    "natural['Natural rate of unemployment (percent)'] = natural['Natural rate of unemployment (percent)']/100.\n",
    "natural['date'] = pd.PeriodIndex(natural['date'], freq='Q').to_timestamp()\n",
    "natural = natural.set_index('date')\n"
   ]
  },
  {
   "cell_type": "code",
   "execution_count": null,
   "id": "8deeadb6",
   "metadata": {},
   "outputs": [],
   "source": [
    "trend = pd.read_excel('../../code/data.xlsx', sheet_name='Quarterly data',\n",
    "                           header=1, usecols=['Trend of unemployment rate (percent)', 'Year', 'Quarter'],)\n",
    "trend['date'] = trend['Year'].astype(str) +'-Q' + trend['Quarter'].astype(str)\n",
    "trend['Trend of unemployment rate (percent)'] = trend['Trend of unemployment rate (percent)']/100.\n",
    "trend['date'] = pd.PeriodIndex(trend['date'], freq='Q').to_timestamp()\n",
    "trend = trend.set_index('date')"
   ]
  },
  {
   "cell_type": "markdown",
   "id": "b0ab1ba3",
   "metadata": {},
   "source": [
    "# FIGURE 7D\n",
    "## Alternative unemployment rates"
   ]
  },
  {
   "cell_type": "code",
   "execution_count": null,
   "id": "60a7f8a9",
   "metadata": {},
   "outputs": [],
   "source": [
    "ax = eff_unempl.plot(figsize=(10, 7),color='magenta', linewidth=2,label='Efficient')\n",
    "nairu['NAIRU (percent)'].plot(color='darkorange', linewidth=2,label='NAIRU')\n",
    "natural['Natural rate of unemployment (percent)'].plot(color='darkgreen', \n",
    "                                                       linestyle='dashed',linewidth=2,\n",
    "                                                       label='Natural')\n",
    "trend['Trend of unemployment rate (percent)'].plot(color='k', \n",
    "                                                   linestyle='dotted',linewidth=2.5,\n",
    "                                                   label='Trend')\n",
    "\n",
    "bug.format_plot(ax, recession_dates=[starts, ends], xgrid=True, \n",
    "                augment_legend=True, legend_loc=4)\n",
    "\n",
    "plt.ylim(0, .1)\n",
    "plt.title('Alternate Unemployment Rates', fontsize=14)\n"
   ]
  }
 ],
 "metadata": {
  "kernelspec": {
   "display_name": "Python 3 (ipykernel)",
   "language": "python",
   "name": "python3"
  },
  "language_info": {
   "codemirror_mode": {
    "name": "ipython",
    "version": 3
   },
   "file_extension": ".py",
   "mimetype": "text/x-python",
   "name": "python",
   "nbconvert_exporter": "python",
   "pygments_lexer": "ipython3",
   "version": "3.9.12"
  }
 },
 "nbformat": 4,
 "nbformat_minor": 5
}
