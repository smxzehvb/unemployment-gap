{
 "cells": [
  {
   "cell_type": "markdown",
   "id": "07a6b964",
   "metadata": {},
   "source": [
    "# Appendix C: \n",
    "## Endogenous Beveridge elasticity\n",
    "Paraphrased from Michaillat and Saez:\n",
    "\n",
    "In the DMP model, the Beveridge elasticity depends on the unemployment rate. But we show here that this dependence is weak, and therefore we can use a formula for the efficient unemployment rate that does not depend on unemployment or vacancy rates."
   ]
  },
  {
   "cell_type": "code",
   "execution_count": null,
   "id": "c2616122",
   "metadata": {},
   "outputs": [],
   "source": [
    "import pandas as pd\n",
    "import numpy as np"
   ]
  },
  {
   "cell_type": "code",
   "execution_count": null,
   "id": "00989d69",
   "metadata": {},
   "outputs": [],
   "source": [
    "import matplotlib\n",
    "import matplotlib.pyplot as plt\n",
    "%matplotlib inline\n",
    "matplotlib.style.use('fivethirtyeight')"
   ]
  },
  {
   "cell_type": "code",
   "execution_count": null,
   "id": "47c49a98",
   "metadata": {},
   "outputs": [],
   "source": [
    "import sys\n",
    "sys.path.insert(0, '../')\n",
    "import bug"
   ]
  },
  {
   "cell_type": "markdown",
   "id": "3438404d",
   "metadata": {},
   "source": [
    "## Read the data\n",
    "Here, we read from the [excel file](https://github.com/pascalmichaillat/unemployment-gap/blob/main/code/data.xlsx) provided with the unemployment-gap matlab package.\n",
    "\n",
    "The goal of this notebook is to re-create analysis and some figures from the Unemployment Gap paper, so that we can verify we are getting the *same* outputs. (*Sameness* allowing for some small differences between the two language implementations)"
   ]
  },
  {
   "cell_type": "code",
   "execution_count": null,
   "id": "89d8442e",
   "metadata": {},
   "outputs": [],
   "source": [
    "df = pd.read_excel('../../code/data.xlsx', sheet_name='Recession dates', header=1, \n",
    "                   usecols=['Peak month', 'Trough month'],).drop([0]).reset_index() \n",
    "starts =  pd.to_datetime(df['Peak month'])\n",
    "ends = pd.to_datetime(df['Trough month'])"
   ]
  },
  {
   "cell_type": "code",
   "execution_count": null,
   "id": "089cf340",
   "metadata": {},
   "outputs": [],
   "source": [
    "df = pd.read_excel('../../code/data.xlsx', sheet_name='Monthly data',\n",
    "                           header=1, usecols=['Unemployment rate (percent)', 'Year', 'Month'],)\n",
    "# set the index \n",
    "dates = pd.PeriodIndex(pd.to_datetime(dict(year=df.Year, month=df.Month, day=15)).dt.to_period('m') ) \n",
    "unempl_rate = pd.Series(data=df['Unemployment rate (percent)'].values,\n",
    "                       index=dates, name='unempl_rate')"
   ]
  },
  {
   "cell_type": "code",
   "execution_count": null,
   "id": "6f9cf9e6",
   "metadata": {},
   "outputs": [],
   "source": [
    "df = pd.read_excel('../../code/data.xlsx', sheet_name='Monthly data',\n",
    "                           header=1, usecols=['Vacancy rate (thousands)', 'Year', 'Month'],)\n",
    "# set the index \n",
    "dates = pd.PeriodIndex(pd.to_datetime(dict(year=df.Year, month=df.Month, day=15)).dt.to_period('m') ) \n",
    "vac_rate_proxy = pd.Series(data=df['Vacancy rate (thousands)'].values,\n",
    "                       index=dates, name='vacancy_rate_proxy')"
   ]
  },
  {
   "cell_type": "code",
   "execution_count": null,
   "id": "e756c8b0",
   "metadata": {},
   "outputs": [],
   "source": [
    "df = pd.read_excel('../../code/data.xlsx', sheet_name='Monthly data',\n",
    "                           header=1, usecols=['Vacancy level (thousands)', 'Year', 'Month'],)\n",
    "# set the index \n",
    "dates = pd.PeriodIndex(pd.to_datetime(dict(year=df.Year, month=df.Month, day=15)).dt.to_period('m') ) \n",
    "vacancy_level = pd.Series(data=df['Vacancy level (thousands)'].values,\n",
    "                       index=dates, name='vacancy_level')"
   ]
  },
  {
   "cell_type": "code",
   "execution_count": null,
   "id": "afc2c881",
   "metadata": {},
   "outputs": [],
   "source": [
    "df = pd.read_excel('../../code/data.xlsx', sheet_name='Monthly data',\n",
    "                           header=1, usecols=['Labor force level (thousands of persons)', 'Year', 'Month'],)\n",
    "# set the index \n",
    "dates = pd.PeriodIndex(pd.to_datetime(dict(year=df.Year, month=df.Month, day=15)).dt.to_period('m') ) \n",
    "labor_level = pd.Series(data=df['Labor force level (thousands of persons)'].values,\n",
    "                       index=dates, name='labor_force_level')"
   ]
  },
  {
   "cell_type": "code",
   "execution_count": null,
   "id": "60bc3c42",
   "metadata": {},
   "outputs": [],
   "source": [
    "vacancy_rate_2001 = vacancy_level/labor_level\n",
    "vacancy_rate_splice = pd.concat([vac_rate_proxy.loc[:'2000-12'], vacancy_rate_2001.loc['2001-01':]*100])"
   ]
  },
  {
   "cell_type": "code",
   "execution_count": null,
   "id": "2e9f0f84",
   "metadata": {},
   "outputs": [],
   "source": [
    "# create the quarterly rates and log of quarterly rates\n",
    "u_q = unempl_rate.resample('Q').mean()/100\n",
    "u_q = u_q.loc[:u_q.last_valid_index()]\n",
    "log_u_q = np.log(u_q)\n",
    "\n",
    "v_q = vacancy_rate_splice.resample('Q').mean()/100\n",
    "v_q = v_q.loc[:v_q.last_valid_index()]\n",
    "log_v_q = np.log(v_q)"
   ]
  },
  {
   "cell_type": "markdown",
   "id": "47c6dbcb",
   "metadata": {},
   "source": [
    "### Matching elasticity\n",
    "Call the function `bug.compute_beveridge_elasticity()` with arguments:\n",
    "  * log of unemployment rate, required\n",
    "  * log of vacancy rate, required\n",
    "  "
   ]
  },
  {
   "cell_type": "code",
   "execution_count": null,
   "id": "7532811b",
   "metadata": {},
   "outputs": [],
   "source": [
    "bev = bug.compute_beveridge_elasticity(log_u_q, log_v_q, )"
   ]
  },
  {
   "cell_type": "markdown",
   "id": "1052a9c4",
   "metadata": {},
   "source": [
    "The function `bug.compute_beveridge_elasticity()` outputs 2 things:\n",
    "  * The estimated Beveridge elasticity and 95% confidence intervals for that estimate, in the form of a pandas DataFrame\n",
    "  * The estimated linear regression coefficients from the piece-wise linear fit of log unemployment vs log vacancy\n",
    "  \n",
    "For next computing the matching elasticity, we just need the Beveridge elasticity\n",
    "\n",
    "\n",
    "Call the function `bug.compute_matching_elasticity()` with arguments:\n",
    "  * unemployment rate, required\n",
    "  * Beveridge elasticity, required\n"
   ]
  },
  {
   "cell_type": "code",
   "execution_count": null,
   "id": "7ca13b25",
   "metadata": {},
   "outputs": [],
   "source": [
    "eta = bug.compute_matching_elasticity(u_q, bev[0].E)"
   ]
  },
  {
   "cell_type": "markdown",
   "id": "7cd32dca",
   "metadata": {},
   "source": [
    "# FIGURE A4\n",
    "## Matching elasticity in the United States, 1951–2019"
   ]
  },
  {
   "cell_type": "code",
   "execution_count": null,
   "id": "a080b993",
   "metadata": {},
   "outputs": [],
   "source": [
    "ax = eta.plot(color='blueviolet', linewidth=2, figsize=(9, 6), label='matching_elasticity')\n",
    "\n",
    "plt.ylim(0, .6)\n",
    "bug.format_plot(ax, recession_dates=[starts, ends], augment_legend=True)\n",
    "\n",
    "plt.ylabel('Matching Elasticity', fontsize=12)\n",
    "plt.title('Matching Elasticity', fontsize=14)"
   ]
  },
  {
   "cell_type": "markdown",
   "id": "b675ecc5",
   "metadata": {},
   "source": [
    "### Endogenous Bev elasticity\n",
    "Call the function `bug.compute_efficient_unemployment()` with arguments:\n",
    "  * unemployment rate, required\n",
    "  * vacancy rate, required\n",
    "  * Beveridge elasticity, required\n",
    "  * Social value of nonwork (zeta); optional, default zeta=0.26\n",
    "  * Recruiting cost (kappa); optional, default kappa=0.92\n",
    "  \n",
    "Call the function `bug.compute_separation_efficacy()` with arguments:\n",
    "  * unemployment rate, required\n",
    "  * Matching elasticity, required\n",
    "  * Labor market tightness (theta)\n"
   ]
  },
  {
   "cell_type": "code",
   "execution_count": null,
   "id": "0a4cc8d5",
   "metadata": {},
   "outputs": [],
   "source": [
    "ustar = bug.compute_efficient_unemployment(u_q, v_q, bev[0].E)"
   ]
  },
  {
   "cell_type": "code",
   "execution_count": null,
   "id": "0805049b",
   "metadata": {},
   "outputs": [],
   "source": [
    "theta = v_q/u_q\n",
    "lamomega = bug.compute_separation_efficacy(u_q, eta, theta)"
   ]
  },
  {
   "cell_type": "markdown",
   "id": "7e5a50a4",
   "metadata": {},
   "source": [
    "Call the function `bug.compute_endogenous_efficiency()` with arguments:\n",
    "  * Matching elasticity, required\n",
    "  * separation-efficiency ratio (lambda/omega), required\n",
    "  * Social value of nonwork (zeta); optional, default zeta=0.26\n",
    "  * Recruiting cost (kappa); optional, default kappa=0.92"
   ]
  },
  {
   "cell_type": "code",
   "execution_count": null,
   "id": "f6989c85",
   "metadata": {},
   "outputs": [],
   "source": [
    "# here we are illustrating how to use the optional arguments \n",
    "# (even though we are just using default values)\n",
    "\n",
    "ustar_endo, theta_star = bug.compute_endogenous_efficiency(eta, lamomega, zeta=.26, kappa=.92)"
   ]
  },
  {
   "cell_type": "markdown",
   "id": "4a878c78",
   "metadata": {},
   "source": [
    "# FIGURE A5\n",
    "## US efficient unemployment rate with endogenous Beveridge elasticity"
   ]
  },
  {
   "cell_type": "code",
   "execution_count": null,
   "id": "b3408bbc",
   "metadata": {},
   "outputs": [],
   "source": [
    "ax= ustar.plot(color='magenta', linewidth=2, figsize=(9, 6), label=\"Exogenous\")\n",
    "ustar_endo.plot(color='darkorange', linewidth=2,  label=\"Endogenous\")\n",
    "\n",
    "plt.ylim(0, .06)\n",
    "bug.format_plot(ax, recession_dates=[starts, ends], augment_legend=True)\n",
    "\n",
    "plt.ylabel('Efficient unemployment rate', fontsize=12)\n",
    "plt.title('Beveridge Elasticity', fontsize=14)"
   ]
  },
  {
   "cell_type": "code",
   "execution_count": null,
   "id": "d1ef6183",
   "metadata": {},
   "outputs": [],
   "source": []
  },
  {
   "cell_type": "markdown",
   "id": "563eb4ca",
   "metadata": {},
   "source": [
    "# Appendix D: \n",
    "## Hosios condition in the DMP model"
   ]
  },
  {
   "cell_type": "code",
   "execution_count": null,
   "id": "0df24732",
   "metadata": {},
   "outputs": [],
   "source": [
    "df = pd.read_excel('../../code/data.xlsx', sheet_name='Monthly data',\n",
    "                           header=1, usecols=['Unemployment level (thousands of persons)', 'Year', 'Month'],)\n",
    "# set the index \n",
    "dates = pd.PeriodIndex(pd.to_datetime(dict(year=df.Year, month=df.Month, day=15)).dt.to_period('m') ) \n",
    "unempl_level = pd.Series(data=df['Unemployment level (thousands of persons)'].values,\n",
    "                        index=dates, name='unempl_level')"
   ]
  },
  {
   "cell_type": "code",
   "execution_count": null,
   "id": "c20b7b58",
   "metadata": {},
   "outputs": [],
   "source": [
    "df = pd.read_excel('../../code/data.xlsx', sheet_name='Monthly data',\n",
    "                           header=1, usecols=['Short-term unemployment level (thousands of persons)', 'Year', 'Month'],)\n",
    "# set the index \n",
    "dates = pd.PeriodIndex(pd.to_datetime(dict(year=df.Year, month=df.Month, day=15)).dt.to_period('m') ) \n",
    "ushort_level = pd.Series(data=df['Short-term unemployment level (thousands of persons)'].values, \n",
    "                        index=dates, name='short_term_unempl_level')"
   ]
  },
  {
   "cell_type": "markdown",
   "id": "14dc6034",
   "metadata": {},
   "source": [
    "Call the function `bug.compute_job_finding_rate()` with arguments:\n",
    "  * monthly unemployment level, required\n",
    "  * monthly short-term unemployment level, required\n",
    "  * True/False for whether to convert monthly to quarterly, optional; default is True\n",
    "  * True/False for whether to adjust the short-term level begining at 1994, as in Shimer (2012), optional; default is True\n",
    "  \n",
    "Call the function `bug.compute_matching_efficacy()` with arguments:\n",
    "  * job-finding rate, required\n",
    "  * Labor-market tightness (theta), required\n",
    "  * Matching elasticity (eta), required"
   ]
  },
  {
   "cell_type": "code",
   "execution_count": null,
   "id": "90275e73",
   "metadata": {},
   "outputs": [],
   "source": [
    "f = bug.compute_job_finding_rate(unempl_level, ushort_level, True,)"
   ]
  },
  {
   "cell_type": "code",
   "execution_count": null,
   "id": "26616927",
   "metadata": {},
   "outputs": [],
   "source": [
    "omega = bug.compute_matching_efficacy(f, theta, eta)"
   ]
  },
  {
   "cell_type": "markdown",
   "id": "fecf05f9",
   "metadata": {},
   "source": [
    "# FIGURE A6 \n",
    "## Matching efficacy in the United States, 1951–2019"
   ]
  },
  {
   "cell_type": "code",
   "execution_count": null,
   "id": "c866f8f8",
   "metadata": {},
   "outputs": [],
   "source": [
    "ax= omega.plot(color='darkred', linewidth=2, figsize=(9, 6), label='match_efficacy')\n",
    "\n",
    "plt.ylim(0, 4)\n",
    "bug.format_plot(ax, recession_dates=[starts, ends], augment_legend=True)\n",
    "\n",
    "plt.ylabel('Matching Efficacy', fontsize=12)\n",
    "plt.title('Matching Efficacy', fontsize=14)"
   ]
  },
  {
   "cell_type": "markdown",
   "id": "047a0036",
   "metadata": {},
   "source": [
    "### Job-separation rate\n",
    "Call the function `bug.compute_job_separation_rate()` with arguments:\n",
    "  * monthly unemployment level, required\n",
    "  * monthly short-term unemployment level, required\n",
    "  * monthly labor force level, required\n",
    "  * True/False for whether to convert monthly to quarterly, optional; default is True\n",
    "  * True/False for whether to adjust the short-term level begining at 1994, as in Shimer (2012), optional; default is True"
   ]
  },
  {
   "cell_type": "code",
   "execution_count": null,
   "id": "00533ea1",
   "metadata": {},
   "outputs": [],
   "source": [
    "df = pd.read_excel('../../code/data.xlsx', sheet_name='Monthly data',\n",
    "                           header=1, usecols=['Labor force level (thousands of persons)', 'Year', 'Month'],)\n",
    "# set the index \n",
    "dates = pd.PeriodIndex(pd.to_datetime(dict(year=df.Year, month=df.Month, day=15)).dt.to_period('m') ) \n",
    "labor_level = pd.Series(data=df['Labor force level (thousands of persons)'].values,\n",
    "                       index=dates, name='labor_force_level')"
   ]
  },
  {
   "cell_type": "code",
   "execution_count": null,
   "id": "666722a9",
   "metadata": {},
   "outputs": [],
   "source": [
    "lamb = bug.compute_job_separation_rate(unempl_level, ushort_level, labor_level, True,)"
   ]
  },
  {
   "cell_type": "markdown",
   "id": "f0a6e5bb",
   "metadata": {},
   "source": [
    "Call the function `bug.compute_hosios_efficiency()` with arguments:\n",
    "  * Matching elasticity (eta), required\n",
    "  * job separation rate (lambda), required\n",
    "  * Matching efficacy (omega), required\n",
    "  * An initial value for the efficient unemployment rate (u0), required\n",
    "  * discount rate; optional, default is r=0.012\n",
    "  * Social value of nonwork (zeta); optional, default zeta=0.26\n",
    "  * Recruiting cost (kappa); optional, default kappa=0.92  \n"
   ]
  },
  {
   "cell_type": "code",
   "execution_count": null,
   "id": "b99d713c",
   "metadata": {},
   "outputs": [],
   "source": [
    "#% Calibrate discount rate as discussed in online appendix D\n",
    "r = 0.012\n",
    "u_hosios, th_hosios = bug.compute_hosios_efficiency(eta, lamb, omega, u0=u_q[0], r=r)"
   ]
  },
  {
   "cell_type": "markdown",
   "id": "27d33d7b",
   "metadata": {},
   "source": [
    "# FIGURE A7\n",
    "## Hosiosian efficient unemployment rate in the United States, 1951–2019"
   ]
  },
  {
   "cell_type": "code",
   "execution_count": null,
   "id": "093ca468",
   "metadata": {},
   "outputs": [],
   "source": [
    "ax= u_hosios.plot(color='darkorange', linewidth=2, figsize=(9, 6), label=\"Hosios\" )\n",
    "ustar_endo.plot(color='magenta', linewidth=2,  label=\"Endogenous\")\n",
    "\n",
    "plt.ylim(0, .06)\n",
    "bug.format_plot(ax, recession_dates=[starts, ends], augment_legend=True)\n",
    "\n",
    "plt.ylabel('Efficient unemployment rate', fontsize=12)\n",
    "plt.title('Efficient unemployment rate', fontsize=14)"
   ]
  },
  {
   "cell_type": "code",
   "execution_count": null,
   "id": "de092548",
   "metadata": {},
   "outputs": [],
   "source": []
  }
 ],
 "metadata": {
  "kernelspec": {
   "display_name": "Python 3 (ipykernel)",
   "language": "python",
   "name": "python3"
  },
  "language_info": {
   "codemirror_mode": {
    "name": "ipython",
    "version": 3
   },
   "file_extension": ".py",
   "mimetype": "text/x-python",
   "name": "python",
   "nbconvert_exporter": "python",
   "pygments_lexer": "ipython3",
   "version": "3.9.12"
  }
 },
 "nbformat": 4,
 "nbformat_minor": 5
}
