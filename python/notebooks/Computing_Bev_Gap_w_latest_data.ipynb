{
 "cells": [
  {
   "cell_type": "markdown",
   "id": "52cd38ca",
   "metadata": {},
   "source": [
    "# BUG: Beveridgean Unemployment Gap\n",
    "This series of notebooks demonstrates the python implementation of the \"Beveridgean Unemployment Gap\" by Pascal Michaillat and Emmanuel Saez (M&S). The original code was in MATLAB. See [GitHub link](https://github.com/pascalmichaillat/unemployment-gap) for original. \n",
    "\n",
    "## Using latest data\n",
    "Here we show how to pull the latest economic data and compute the BUG.\n",
    "\n",
    "### import packages"
   ]
  },
  {
   "cell_type": "code",
   "execution_count": null,
   "id": "8c2c0172",
   "metadata": {},
   "outputs": [],
   "source": [
    "import pandas as pd\n",
    "import numpy as np\n",
    "import urllib.request\n",
    "import json"
   ]
  },
  {
   "cell_type": "code",
   "execution_count": null,
   "id": "dea4eb04",
   "metadata": {},
   "outputs": [],
   "source": [
    "import matplotlib\n",
    "import matplotlib.pyplot as plt\n",
    "\n",
    "%matplotlib inline\n",
    "matplotlib.style.use('fivethirtyeight')"
   ]
  },
  {
   "cell_type": "code",
   "execution_count": null,
   "id": "25d95699",
   "metadata": {},
   "outputs": [],
   "source": [
    "import sys\n",
    "sys.path.insert(0, '../bug')\n",
    "import bug"
   ]
  },
  {
   "cell_type": "markdown",
   "id": "df12eb8c",
   "metadata": {},
   "source": [
    "## Get the data\n",
    "For computing the BUG, we need:\n",
    "  * unemployment rate: u\n",
    "  * vacancy rate: v\n",
    "  * beveridge curve elasticity (computed from u, v, and breakpoints on the v/u series)\n",
    "  * social value of non-work (default is zeta = 0.26)\n",
    "  * recruting costs (default is kappa = 0.92)\n",
    "  \n",
    "For context in the plots, we also want recession information.\n",
    "<br>\n",
    "\n",
    "### Data source: \n",
    "\n",
    "![image.png](https://fred.stlouisfed.org/images/fred-logo-2x.png)\n",
    "<br>\n",
    "\n",
    "The St.Louis Fed has an [API](https://fred.stlouisfed.org/docs/api/fred/series_observations.html) which alows you to pull data programatically.\n",
    "\n",
    "**You will need a registered API key**. See [here](https://fred.stlouisfed.org/docs/api/api_key.html) for info."
   ]
  },
  {
   "cell_type": "code",
   "execution_count": null,
   "id": "5a4b142f",
   "metadata": {},
   "outputs": [],
   "source": [
    "# a helper function for pulling json formatted data from FRED\n",
    "def get_series(series_id, my_key, start_date='1951-01-01'):\n",
    "    \n",
    "    link = 'https://api.stlouisfed.org/fred/series/observations?series_id='+series_id+'&observation_start='+start_date+'&file_type=json&api_key='+my_key\n",
    "    content = urllib.request.urlopen(link).read()\n",
    "    data = json.loads(content)\n",
    "    df = pd.DataFrame(data['observations'])[['date', 'value']]\n",
    "    \n",
    "    return df\n",
    " "
   ]
  },
  {
   "cell_type": "code",
   "execution_count": null,
   "id": "cacb487f",
   "metadata": {},
   "outputs": [],
   "source": [
    "## This key is an EXAMPLE ONLY!! \n",
    "# You will need to replace this with your actual registered key for the FRED API\n",
    "my_key = 'abcdef1234567890abcdef'"
   ]
  },
  {
   "cell_type": "markdown",
   "id": "338b01bf",
   "metadata": {},
   "source": [
    "### Recession information"
   ]
  },
  {
   "cell_type": "code",
   "execution_count": null,
   "id": "7adaa2bb",
   "metadata": {},
   "outputs": [],
   "source": [
    "recession = get_series('USREC', my_key)\n",
    "recession['date'] = pd.to_datetime(recession['date'] )\n",
    "recession['value'] = recession['value'].astype(int)\n",
    "recession.set_index('date', inplace=True)\n",
    "recession['starts'] = (recession.value- recession.value.shift(1) ==1)\n",
    "recession['ends'] = (recession.value- recession.value.shift(1) ==-1)"
   ]
  },
  {
   "cell_type": "code",
   "execution_count": null,
   "id": "06a6e63c",
   "metadata": {},
   "outputs": [],
   "source": [
    "starts = recession.index[recession['starts']==1].to_list()\n",
    "ends = recession.index[recession['ends']==1].to_list()"
   ]
  },
  {
   "cell_type": "code",
   "execution_count": null,
   "id": "79d4dd02",
   "metadata": {},
   "outputs": [],
   "source": [
    "ax = recession.plot(color='grey',  linewidth=1, alpha=.6, figsize=(9,6),legend=False )\n",
    "plt.fill_between(recession.index, 0, recession.value, color='grey', alpha=.6, zorder=-100)\n",
    "\n",
    "ax.grid(axis='x')\n",
    "plt.ylim(0,1)\n",
    "plt.title('NBER based Recession Indicators for the United States')\n",
    "ax.spines[\"bottom\"].set_linewidth(1.5)\n",
    "ax.spines[\"bottom\"].set_color('k')\n",
    "ax.spines[\"left\"].set_linewidth(1.5)\n",
    "ax.spines[\"left\"].set_color('k')"
   ]
  },
  {
   "cell_type": "markdown",
   "id": "b5235388",
   "metadata": {},
   "source": [
    "### unemployment rate"
   ]
  },
  {
   "cell_type": "code",
   "execution_count": null,
   "id": "6be929e4",
   "metadata": {},
   "outputs": [],
   "source": [
    "unempl = get_series('UNRATE', my_key)\n",
    "unempl['date'] = pd.PeriodIndex(pd.to_datetime(unempl['date'] ).dt.to_period('m') )\n",
    "u = pd.Series(data=unempl['value'].values,index=unempl['date'], name='unempl_rate')\n",
    "u = pd.to_numeric(u)/100.0"
   ]
  },
  {
   "cell_type": "code",
   "execution_count": null,
   "id": "970f4af1",
   "metadata": {},
   "outputs": [],
   "source": [
    "u_q = u.resample('Q').mean()"
   ]
  },
  {
   "cell_type": "code",
   "execution_count": null,
   "id": "e37945e9",
   "metadata": {},
   "outputs": [],
   "source": [
    "ax = u.plot(figsize=(9,6), linewidth=2, color='darkred', label='unemployment')\n",
    "\n",
    "for idx, s in enumerate(starts):\n",
    "    plt.axvspan(starts[idx], ends[idx], facecolor='grey', alpha=0.6,zorder=-100)\n",
    "\n",
    "\n",
    "plt.legend()\n",
    "ax.grid(axis='x')\n",
    "plt.ylim(0,.18)\n",
    "plt.title('Monthly Unemployment Rate')\n",
    "ax.spines[\"bottom\"].set_linewidth(1.5)\n",
    "ax.spines[\"bottom\"].set_color('k')\n",
    "ax.spines[\"left\"].set_linewidth(1.5)\n",
    "ax.spines[\"left\"].set_color('k')"
   ]
  },
  {
   "cell_type": "markdown",
   "id": "cac1dafb",
   "metadata": {},
   "source": [
    "### vacancy info\n",
    "For 1951–2000, we use the vacancy proxy \"Composite Help-Wanted index\" constructed by Barnichon (2010).\n",
    "\n",
    "For 2001--, we use the number of job openings measured by the BLS in the Job Opening and Labor Turnover Survey (JOLTS), divided by the civilian labor force from the Current Population Survey (CPS). \n",
    "\n",
    "We then splice the two series to obtain a vacancy rate."
   ]
  },
  {
   "cell_type": "markdown",
   "id": "669ec8ac",
   "metadata": {},
   "source": [
    "#### help-wanted index\n",
    "Ok, so the author has the HWI in a google drive document. Yes, we could download it with python, but the Google Drive API is a bit over-kill (and not really worth the learning curve) if this is the only thing we are using it for.\n",
    "\n",
    "So, we suggest downloading a copy of this file, and reading it from disk.\n",
    "\n",
    "For reference, the file link is: [HWI_index.txt](https://drive.google.com/file/d/1s9yGoAt6wfpKaBGkP7xV7Hvs7RVV9deS/view)\n",
    "\n",
    "Or, if you don't ned data before 2001, you can skip this step, as data for vacancy rate after 2001 is available from FRED."
   ]
  },
  {
   "cell_type": "code",
   "execution_count": null,
   "id": "6fcd0682",
   "metadata": {},
   "outputs": [],
   "source": [
    "hwi = pd.read_csv(\"../new_data/HWI_index.txt\", skiprows=6, header=None,delim_whitespace=True)\n",
    "hwi['date'] = pd.PeriodIndex(pd.to_datetime(hwi[0].str[:4]+'-'+hwi[0].str[-2:] ).dt.to_period('m') )\n",
    "vac_proxy = pd.Series(data=pd.to_numeric(hwi[1].values),index=hwi['date'], name='help-wanted index') "
   ]
  },
  {
   "cell_type": "markdown",
   "id": "03da3277",
   "metadata": {},
   "source": [
    "#### labor force level"
   ]
  },
  {
   "cell_type": "code",
   "execution_count": null,
   "id": "3ecc25ca",
   "metadata": {},
   "outputs": [],
   "source": [
    "labor_lev = get_series('CLF16OV', my_key)\n",
    "labor_lev['date'] = pd.PeriodIndex(pd.to_datetime(labor_lev['date'] ).dt.to_period('m') )\n",
    "lfl = pd.Series(data=pd.to_numeric(labor_lev['value'].values),index=labor_lev['date'], name='labor_force_level')"
   ]
  },
  {
   "cell_type": "markdown",
   "id": "8c8321de",
   "metadata": {},
   "source": [
    "#### vacancies"
   ]
  },
  {
   "cell_type": "code",
   "execution_count": null,
   "id": "16d1a284",
   "metadata": {},
   "outputs": [],
   "source": [
    "nf_vac = get_series('JTSJOL', my_key)\n",
    "nf_vac['date'] = pd.PeriodIndex(pd.to_datetime(nf_vac['date'] ).dt.to_period('m') )\n",
    "vac = pd.Series(data=pd.to_numeric(nf_vac['value'].values),index=nf_vac['date'], name='nonfarm_vacancies')"
   ]
  },
  {
   "cell_type": "code",
   "execution_count": null,
   "id": "87e2b591",
   "metadata": {
    "scrolled": true
   },
   "outputs": [],
   "source": [
    "vac_rate = vac/lfl"
   ]
  },
  {
   "cell_type": "markdown",
   "id": "31671ba7",
   "metadata": {},
   "source": [
    "Here we splice the series together."
   ]
  },
  {
   "cell_type": "code",
   "execution_count": null,
   "id": "39d900a8",
   "metadata": {},
   "outputs": [],
   "source": [
    "v = pd.concat([vac_proxy.loc[:'2000-12']/100., vac_rate.loc['2001-01':]],)\n",
    "v_q = v.resample('Q').mean()"
   ]
  },
  {
   "cell_type": "code",
   "execution_count": null,
   "id": "b6bd28e3",
   "metadata": {},
   "outputs": [],
   "source": [
    "ax = v.plot(figsize=(9,6), linewidth=2, color='darkgreen', label='vacancy')\n",
    "\n",
    "for idx, s in enumerate(starts):\n",
    "    plt.axvspan(starts[idx], ends[idx], facecolor='grey', alpha=0.6,zorder=-100)\n",
    "\n",
    "plt.legend()\n",
    "ax.grid(axis='x')\n",
    "plt.ylim(0,.09)\n",
    "plt.title('Monthly Vacancy Rate')\n",
    "ax.spines[\"bottom\"].set_linewidth(1.5)\n",
    "ax.spines[\"bottom\"].set_color('k')\n",
    "ax.spines[\"left\"].set_linewidth(1.5)\n",
    "ax.spines[\"left\"].set_color('k')"
   ]
  },
  {
   "cell_type": "code",
   "execution_count": null,
   "id": "67e9322a",
   "metadata": {},
   "outputs": [],
   "source": []
  },
  {
   "cell_type": "markdown",
   "id": "5c2cd56a",
   "metadata": {},
   "source": [
    "### Beveridge Curve"
   ]
  },
  {
   "cell_type": "code",
   "execution_count": null,
   "id": "79975615",
   "metadata": {},
   "outputs": [],
   "source": [
    "plt.figure(figsize = (8,8))\n",
    "plt.plot(np.log(u), np.log(v), linewidth=1, color='darkblue')\n",
    "\n",
    "plt.gca().spines[\"bottom\"].set_linewidth(1.5)\n",
    "plt.gca().spines[\"bottom\"].set_color('k')\n",
    "plt.gca().spines[\"left\"].set_linewidth(1.5)\n",
    "plt.gca().spines[\"left\"].set_color('k')\n",
    "\n",
    "plt.ylabel('Log Vacancy Rate', fontsize=12)\n",
    "plt.xlabel('Log Unemployment Rate', fontsize=12)\n",
    "plt.title('Beveridge Curve (monthly)', fontsize=14)"
   ]
  },
  {
   "cell_type": "code",
   "execution_count": null,
   "id": "c85ec8af",
   "metadata": {},
   "outputs": [],
   "source": [
    "log_u_q = np.log(u.resample('Q').mean())\n",
    "log_v_q = np.log(v.resample('Q').mean())"
   ]
  },
  {
   "cell_type": "code",
   "execution_count": null,
   "id": "90ecff83",
   "metadata": {},
   "outputs": [],
   "source": [
    "plt.figure(figsize = (8,8))\n",
    "plt.plot(log_u_q, log_v_q, linewidth=1,color='darkblue')\n",
    "\n",
    "plt.plot(log_u_q.loc['2020Q1':'2022Q1'],log_v_q.loc['2020Q1':'2022Q1'], \n",
    "         linewidth=3, color='darkcyan', alpha=.5)\n",
    "\n",
    "plt.annotate('2020Q1', (log_u_q.loc['2020Q1'], log_v_q.loc['2020Q1']))\n",
    "plt.annotate('2022Q1', (log_u_q.loc['2022Q1'], log_v_q.loc['2022Q1']))\n",
    "\n",
    "\n",
    "plt.gca().spines[\"bottom\"].set_linewidth(1.5)\n",
    "plt.gca().spines[\"bottom\"].set_color('k')\n",
    "plt.gca().spines[\"left\"].set_linewidth(1.5)\n",
    "plt.gca().spines[\"left\"].set_color('k')\n",
    "\n",
    "plt.ylabel('Log Vacancy Rate', fontsize=12)\n",
    "plt.xlabel('Log Unemployment Rate', fontsize=12)\n",
    "plt.title('Beveridge Curve (quarterly)', fontsize=15)\n",
    "plt.suptitle('Highlighting COVID effects')"
   ]
  },
  {
   "cell_type": "markdown",
   "id": "64c4af78",
   "metadata": {},
   "source": [
    "## Beverige Elasticity\n",
    "### finding the v/u breakpoints\n",
    "#### Bai-Perron suggested parameterization\n",
    "The breakpoints in the original M&S paper were calculated on the series of log(vacancy) and log(unemployment) rates from 1951Q1 to 2019Q4 (length=276).  \n",
    "\n",
    "In implementing B-P, M&S set the value of the trimming parameter to 0.15, which then determines the minimun length for detected sub-sequences: floor(0.15×276)=41. \n",
    "\n",
    "Furthermore, setting this trimming parameter at 0.15 sets the max number of breaks at 5, as stated in B&P(2003, page 14).\n",
    "\n",
    "  * Then resulting values were: [0, 41, 84, 153, 194, 235, 276]; \n",
    "  * Corresponding to dates: [1951Q1, 1961Q2, 1972Q1, 1989Q2, 1999Q3, 2009Q4, 2019Q4]. \n",
    "\n",
    "By convention the first value and last values of the series are also listed as breakpoints. So in this case, we had 5 *internal* breakpoints."
   ]
  },
  {
   "cell_type": "markdown",
   "id": "72bd514c",
   "metadata": {},
   "source": [
    "### The new data\n",
    "OK, so what happens when we use the default B-P parameter values on our longer series 1951Q1 to 2022Q1 (length=285)?"
   ]
  },
  {
   "cell_type": "code",
   "execution_count": null,
   "id": "7a9337b4",
   "metadata": {},
   "outputs": [],
   "source": [
    "bkps_default = bug.get_bp_breakpoints(log_u_q, log_v_q, use_bp_defaults=True)\n",
    "bkps_default"
   ]
  },
  {
   "cell_type": "code",
   "execution_count": null,
   "id": "d25da799",
   "metadata": {
    "scrolled": false
   },
   "outputs": [],
   "source": [
    "for idx, b in enumerate(bkps_default[:-1]):\n",
    "\n",
    "    plt.figure(figsize = (6,6))\n",
    "    plt.plot(log_u_q, log_v_q, linewidth=1, color='grey')\n",
    "    plt.plot(log_u_q.iloc[bkps_default[idx]:bkps_default[idx+1]],log_v_q.iloc[bkps_default[idx]:bkps_default[idx+1]], \n",
    "             linewidth=3, color='teal')\n",
    "    \n",
    "    plt.annotate(str(log_u_q.index[bkps_default[idx]]), (log_u_q.iloc[bkps_default[idx]], log_v_q.iloc[bkps_default[idx]]) )\n",
    "    plt.annotate(str(log_u_q.index[bkps_default[idx+1]-1]), (log_u_q.iloc[bkps_default[idx+1]-1], log_v_q.iloc[bkps_default[idx+1]-1] ) )\n",
    "\n",
    "    plt.gca().spines[\"bottom\"].set_linewidth(1.5)\n",
    "    plt.gca().spines[\"bottom\"].set_color('k')\n",
    "    plt.gca().spines[\"left\"].set_linewidth(1.5)\n",
    "    plt.gca().spines[\"left\"].set_color('k')\n",
    "    plt.ylabel('Log Vacancy Rate', fontsize=12)\n",
    "    plt.xlabel('Log Unemployment Rate', fontsize=12)\n",
    "    plt.title('Beveridge Curve (quarterly)', fontsize=14)"
   ]
  },
  {
   "cell_type": "markdown",
   "id": "b284c316",
   "metadata": {},
   "source": [
    "### Compute the Bev elasticity given these breakpoints"
   ]
  },
  {
   "cell_type": "code",
   "execution_count": null,
   "id": "ad5d9036",
   "metadata": {},
   "outputs": [],
   "source": [
    "e = bug.compute_beveridge_elasticity(u, v, bkps_in=bkps_default)"
   ]
  },
  {
   "cell_type": "code",
   "execution_count": null,
   "id": "82ec3d04",
   "metadata": {},
   "outputs": [],
   "source": [
    "ax= e['E'].plot(color='blueviolet', linewidth=2, figsize=(9, 6))\n",
    "e[['LB', 'UB']].plot(ax=ax, color='blueviolet', linewidth=2,linestyle='dotted',)\n",
    "plt.fill_between(e.index, e['UB'], e['LB'], color='blueviolet', alpha=.3)\n",
    "\n",
    "\n",
    "for idx, s in enumerate(starts):\n",
    "    plt.axvspan(starts[idx], ends[idx], facecolor='grey', alpha=0.6,zorder=-100)\n",
    "\n",
    "ax.grid(axis='x')\n",
    "plt.ylim(0,2.2)\n",
    "ax.spines[\"bottom\"].set_linewidth(1.5)\n",
    "ax.spines[\"bottom\"].set_color('k')\n",
    "ax.spines[\"left\"].set_linewidth(1.5)\n",
    "ax.spines[\"left\"].set_color('k')\n",
    "plt.ylabel('Beveridge Elasticity', fontsize=12)\n",
    "plt.title('Beveridge Elasticity', fontsize=14)\n"
   ]
  },
  {
   "cell_type": "code",
   "execution_count": null,
   "id": "6d0406b5",
   "metadata": {},
   "outputs": [],
   "source": [
    "e.SE.unique().mean()"
   ]
  },
  {
   "cell_type": "markdown",
   "id": "b88b91fe",
   "metadata": {},
   "source": [
    "#### Discussion\n",
    "So we see in the graph above, that the last period, from 2011Q3 to 2022Q1 has a really wide confidence interval. (In fact, the average std. error across all segments is 0.097.) This is because the model breakpoints are likely mis-specified. \n",
    "\n",
    "We *KNOW* there was a huge shock to the US (and world-wide) economy due to COVID at the 2020Q2 period. It's really not reasonable to say that the time (2011Q3 to 2020Q1) and (2020Q2 to 2022Q1) are the *SAME* regime. \n",
    "\n",
    "The ONLY reason those 2 periods end up together is because of the default B-P parameterization, which does not allow a sequence as short as 8 time periods (the current post-COVID period).\n",
    "\n",
    "### Re-parameterize\n",
    "We are going to set the min sequence length as 8, and the number of breakpoints as 6, and see if this gives us Beveridge elasticity estimates with smaller CI.\n",
    "\n",
    "Bascially, we are guessing the B-P algorithm will identify the prior 5 breakpoints in the 1951-2019 span, and allow for the extra COVID period. "
   ]
  },
  {
   "cell_type": "code",
   "execution_count": null,
   "id": "56e55032",
   "metadata": {},
   "outputs": [],
   "source": [
    "bkps_new = bug.get_bp_breakpoints(log_u_q, log_v_q, use_bp_defaults=False,n_bkps=6, min_size=8)\n",
    "bkps_new"
   ]
  },
  {
   "cell_type": "code",
   "execution_count": null,
   "id": "6ab9dbc5",
   "metadata": {
    "scrolled": false
   },
   "outputs": [],
   "source": [
    "for idx, b in enumerate(bkps_new[:-1]):\n",
    "\n",
    "    plt.figure(figsize = (6,6))\n",
    "    plt.plot(log_u_q, log_v_q, linewidth=1, color='grey')\n",
    "    plt.plot(log_u_q.iloc[bkps_new[idx]:bkps_new[idx+1]],log_v_q.iloc[bkps_new[idx]:bkps_new[idx+1]], \n",
    "             linewidth=3, color='teal')\n",
    "    \n",
    "    plt.annotate(str(log_u_q.index[bkps_new[idx]]), (log_u_q.iloc[bkps_new[idx]], log_v_q.iloc[bkps_new[idx]]) )\n",
    "    plt.annotate(str(log_u_q.index[bkps_new[idx+1]-1]), (log_u_q.iloc[bkps_new[idx+1]-1], log_v_q.iloc[bkps_new[idx+1]-1] ) )\n",
    "\n",
    "    plt.gca().spines[\"bottom\"].set_linewidth(1.5)\n",
    "    plt.gca().spines[\"bottom\"].set_color('k')\n",
    "    plt.gca().spines[\"left\"].set_linewidth(1.5)\n",
    "    plt.gca().spines[\"left\"].set_color('k')\n",
    "    plt.ylabel('Log Vacancy Rate', fontsize=12)\n",
    "    plt.xlabel('Log Unemployment Rate', fontsize=12)\n",
    "    plt.title('Beveridge Curve (quarterly)', fontsize=14)"
   ]
  },
  {
   "cell_type": "code",
   "execution_count": null,
   "id": "ed78879c",
   "metadata": {},
   "outputs": [],
   "source": []
  },
  {
   "cell_type": "code",
   "execution_count": null,
   "id": "1a34d99f",
   "metadata": {},
   "outputs": [],
   "source": [
    "e_new = bug.compute_beveridge_elasticity(u, v, bkps_in=bkps_new)"
   ]
  },
  {
   "cell_type": "code",
   "execution_count": null,
   "id": "1d730d06",
   "metadata": {},
   "outputs": [],
   "source": [
    "ax= e_new['E'].plot(color='blueviolet', linewidth=2, figsize=(9, 6))\n",
    "e_new[['LB', 'UB']].plot(ax=ax, color='blueviolet', linewidth=2,linestyle='dotted',)\n",
    "plt.legend()\n",
    "\n",
    "for idx, s in enumerate(starts):\n",
    "    plt.axvspan(starts[idx], ends[idx], facecolor='grey', alpha=0.6,zorder=-100)\n",
    "\n",
    "plt.fill_between(e_new.index, e_new['UB'], e_new['LB'], color='blueviolet', alpha=.3)\n",
    "\n",
    "ax.grid(axis='x')\n",
    "plt.ylim(0,2.2)\n",
    "ax.spines[\"bottom\"].set_linewidth(1.5)\n",
    "ax.spines[\"bottom\"].set_color('k')\n",
    "ax.spines[\"left\"].set_linewidth(1.5)\n",
    "ax.spines[\"left\"].set_color('k')\n",
    "plt.ylabel('Beveridge Elasticity', fontsize=12)\n",
    "plt.title('Beveridge Elasticity', fontsize=14)"
   ]
  },
  {
   "cell_type": "code",
   "execution_count": null,
   "id": "51ee20d9",
   "metadata": {},
   "outputs": [],
   "source": [
    "e_new.SE.unique().mean()"
   ]
  },
  {
   "cell_type": "markdown",
   "id": "3c4dc860",
   "metadata": {},
   "source": [
    "Notice the smaller confidence intervals. In fact the average std error across *ALL* segments dropped from 0.097 to 0.061!"
   ]
  },
  {
   "cell_type": "markdown",
   "id": "6b1d1994",
   "metadata": {},
   "source": [
    "## Beveridge unemployment gap: BUG"
   ]
  },
  {
   "cell_type": "code",
   "execution_count": null,
   "id": "98d7e556",
   "metadata": {},
   "outputs": [],
   "source": [
    "gap = bug.compute_unemployment_gap(u_q, v_q, e_new['E'])"
   ]
  },
  {
   "cell_type": "code",
   "execution_count": null,
   "id": "094165b3",
   "metadata": {},
   "outputs": [],
   "source": [
    "ax = gap.plot(color='navy', linewidth=2, figsize=(9, 6), label='unemployment gap')\n",
    "plt.axhline(y=0, color='magenta', linewidth=2,)\n",
    "plt.legend()\n",
    "\n",
    "for idx, s in enumerate(starts):\n",
    "    plt.axvspan(starts[idx], ends[idx], facecolor='grey', alpha=0.6,zorder=-100)\n",
    "\n",
    "ax.grid(axis='x')\n",
    "plt.ylim(-.02,.1)\n",
    "ax.spines[\"bottom\"].set_linewidth(1.5)\n",
    "ax.spines[\"bottom\"].set_color('k')\n",
    "ax.spines[\"left\"].set_linewidth(1.5)\n",
    "ax.spines[\"left\"].set_color('k')\n",
    "plt.ylabel('Unemployment Gap', fontsize=12)\n",
    "plt.title('Unemployment Gap', fontsize=14)"
   ]
  },
  {
   "cell_type": "markdown",
   "id": "0c66e22f",
   "metadata": {},
   "source": [
    "### Note\n",
    "The main goal of this notebook was simply to show how to compute the BUG with new data.\n",
    "\n",
    "We will return to the issue of breakpoint estimation in another notebook."
   ]
  },
  {
   "cell_type": "code",
   "execution_count": null,
   "id": "d62b91bd",
   "metadata": {},
   "outputs": [],
   "source": []
  }
 ],
 "metadata": {
  "kernelspec": {
   "display_name": "Python 3 (ipykernel)",
   "language": "python",
   "name": "python3"
  },
  "language_info": {
   "codemirror_mode": {
    "name": "ipython",
    "version": 3
   },
   "file_extension": ".py",
   "mimetype": "text/x-python",
   "name": "python",
   "nbconvert_exporter": "python",
   "pygments_lexer": "ipython3",
   "version": "3.9.12"
  }
 },
 "nbformat": 4,
 "nbformat_minor": 5
}
