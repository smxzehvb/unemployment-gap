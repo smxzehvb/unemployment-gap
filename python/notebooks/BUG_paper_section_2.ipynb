{
 "cells": [
  {
   "cell_type": "markdown",
   "id": "52cd38ca",
   "metadata": {},
   "source": [
    "# BUG: Beveridgean Unemployment Gap\n",
    "This notebook demonstrates the python implementation of the \"Beveridgean Unemployment Gap\" by Pascal Michaillat and Emmanuel Saez. The original code was in MATLAB. See [GitHub link](https://github.com/pascalmichaillat/unemployment-gap) for original. \n",
    "\n",
    "## Section 2: Beveridgean model of the labor market"
   ]
  },
  {
   "cell_type": "markdown",
   "id": "b0f86922",
   "metadata": {},
   "source": [
    "## import packages"
   ]
  },
  {
   "cell_type": "code",
   "execution_count": null,
   "id": "8c2c0172",
   "metadata": {},
   "outputs": [],
   "source": [
    "import pandas as pd\n",
    "import numpy as np\n",
    "from scipy.optimize import root"
   ]
  },
  {
   "cell_type": "code",
   "execution_count": null,
   "id": "dea4eb04",
   "metadata": {},
   "outputs": [],
   "source": [
    "import matplotlib\n",
    "import matplotlib.pyplot as plt\n",
    "\n",
    "%matplotlib inline\n",
    "matplotlib.style.use('fivethirtyeight')"
   ]
  },
  {
   "cell_type": "code",
   "execution_count": null,
   "id": "25d95699",
   "metadata": {},
   "outputs": [],
   "source": [
    "import sys\n",
    "sys.path.insert(0, '../bug')\n",
    "import bug"
   ]
  },
  {
   "cell_type": "markdown",
   "id": "df12eb8c",
   "metadata": {},
   "source": [
    "## Read the data\n",
    "Here, we read from the [excel file](https://github.com/pascalmichaillat/unemployment-gap/blob/main/code/data.xlsx) provided with the unemployment-gap matlab package.\n",
    "\n",
    "The goal of this notebook is to re-create analysis and some figures from the Unemployment Gap paper, so that we can verify we are getting the *same* outputs. (*Sameness* allowing for some small differences between the two language implementations)"
   ]
  },
  {
   "cell_type": "markdown",
   "id": "338b01bf",
   "metadata": {},
   "source": [
    "#### Recession information"
   ]
  },
  {
   "cell_type": "code",
   "execution_count": null,
   "id": "15e4af8c",
   "metadata": {},
   "outputs": [],
   "source": [
    "df = pd.read_excel('../../code/data.xlsx', sheet_name='Recession dates',\n",
    "                           header=1, usecols=['Peak month', 'Trough month'],) \n",
    "starts =  pd.to_datetime(df['Peak month'])\n",
    "\n",
    "ends = pd.to_datetime(df['Trough month'])"
   ]
  },
  {
   "cell_type": "markdown",
   "id": "b5235388",
   "metadata": {},
   "source": [
    "#### unemployment rate"
   ]
  },
  {
   "cell_type": "code",
   "execution_count": null,
   "id": "8c546782",
   "metadata": {},
   "outputs": [],
   "source": [
    "df = pd.read_excel('../../code/data.xlsx', sheet_name='Monthly data',\n",
    "                           header=1, usecols=['Unemployment rate (percent)', 'Year', 'Month'],)"
   ]
  },
  {
   "cell_type": "code",
   "execution_count": null,
   "id": "10c4523e",
   "metadata": {},
   "outputs": [],
   "source": [
    "# set the index \n",
    "dates = pd.PeriodIndex(pd.to_datetime(dict(year=df.Year, month=df.Month, day=15)).dt.to_period('m') ) \n",
    "unempl_rate = pd.Series(data=df['Unemployment rate (percent)'].values,\n",
    "                       index=dates, name='unempl_rate')"
   ]
  },
  {
   "cell_type": "markdown",
   "id": "cac1dafb",
   "metadata": {},
   "source": [
    "#### vacancy info\n",
    "For 1951–2000, we use the vacancy proxy constructed by Barnichon (2010).\n",
    "\n",
    "For 2001–2019, we use the number of job openings measured by the Bureau of\n",
    "Labor Statistics (2020b) in the Job Opening and Labor Turnover Survey,\n",
    "divided by the civilian labor force constructed by the Bureau of Labor\n",
    "Statistics (2020a) from the Current Population Survey. \n",
    "\n",
    "We then splice\n",
    "the two series to obtain a vacancy rate for 1951–2019 (Fig. 1(b))."
   ]
  },
  {
   "cell_type": "code",
   "execution_count": null,
   "id": "6ab8a2f8",
   "metadata": {},
   "outputs": [],
   "source": [
    "df = pd.read_excel('../../code/data.xlsx', sheet_name='Monthly data',\n",
    "                           header=1, usecols=['Vacancy rate (thousands)', 'Year', 'Month'],)"
   ]
  },
  {
   "cell_type": "code",
   "execution_count": null,
   "id": "94fe9de1",
   "metadata": {},
   "outputs": [],
   "source": [
    "# set the index \n",
    "dates = pd.PeriodIndex(pd.to_datetime(dict(year=df.Year, month=df.Month, day=15)).dt.to_period('m') ) \n",
    "vac_rate_proxy = pd.Series(data=df['Vacancy rate (thousands)'].values,\n",
    "                       index=dates, name='vacancy_rate_proxy')"
   ]
  },
  {
   "cell_type": "markdown",
   "id": "03da3277",
   "metadata": {},
   "source": [
    "#### labor force level"
   ]
  },
  {
   "cell_type": "code",
   "execution_count": null,
   "id": "cfed9fa5",
   "metadata": {},
   "outputs": [],
   "source": [
    "df = pd.read_excel('../../code/data.xlsx', sheet_name='Monthly data',\n",
    "                           header=1, usecols=['Labor force level (thousands of persons)', 'Year', 'Month'],)"
   ]
  },
  {
   "cell_type": "code",
   "execution_count": null,
   "id": "f2887995",
   "metadata": {},
   "outputs": [],
   "source": [
    "# set the index \n",
    "dates = pd.PeriodIndex(pd.to_datetime(dict(year=df.Year, month=df.Month, day=15)).dt.to_period('m') ) \n",
    "labor_level = pd.Series(data=df['Labor force level (thousands of persons)'].values,\n",
    "                       index=dates, name='labor_force_level')"
   ]
  },
  {
   "cell_type": "markdown",
   "id": "8c8321de",
   "metadata": {},
   "source": [
    "#### vacancies"
   ]
  },
  {
   "cell_type": "code",
   "execution_count": null,
   "id": "87e2b591",
   "metadata": {},
   "outputs": [],
   "source": [
    "df = pd.read_excel('../../code/data.xlsx', sheet_name='Monthly data',\n",
    "                           header=1, usecols=['Vacancy level (thousands)', 'Year', 'Month'],)"
   ]
  },
  {
   "cell_type": "code",
   "execution_count": null,
   "id": "172bfe27",
   "metadata": {},
   "outputs": [],
   "source": [
    "# set the index \n",
    "dates = pd.PeriodIndex(pd.to_datetime(dict(year=df.Year, month=df.Month, day=15)).dt.to_period('m') ) \n",
    "vacancy_level = pd.Series(data=df['Vacancy level (thousands)'].values,\n",
    "                       index=dates, name='vacancy_level')"
   ]
  },
  {
   "cell_type": "code",
   "execution_count": null,
   "id": "39d900a8",
   "metadata": {},
   "outputs": [],
   "source": [
    "vacancy_rate_2001 = vacancy_level/labor_level\n",
    "vacancy_rate_splice = pd.concat([vac_rate_proxy.loc[:'2000-12'], vacancy_rate_2001.loc['2001-01':]*100])"
   ]
  },
  {
   "cell_type": "code",
   "execution_count": null,
   "id": "407730ed",
   "metadata": {},
   "outputs": [],
   "source": []
  },
  {
   "cell_type": "markdown",
   "id": "32cb43af",
   "metadata": {},
   "source": [
    "### Figure 1A"
   ]
  },
  {
   "cell_type": "code",
   "execution_count": null,
   "id": "a9bf51ad",
   "metadata": {},
   "outputs": [],
   "source": [
    "ax = unempl_rate.plot(figsize=(9,6),linewidth=2, color='purple',)\n",
    "\n",
    "for idx, s in enumerate(starts):\n",
    "    if starts.loc[idx] > pd.to_datetime('1951-1'):\n",
    "        plt.axvspan(starts.loc[idx], ends.loc[idx], facecolor='grey', alpha=0.5,zorder=-100)\n",
    "\n",
    "ax.grid(axis='x')\n",
    "plt.ylim(0, unempl_rate.max()*1.1)\n",
    "ax.spines[\"bottom\"].set_linewidth(1.5)\n",
    "ax.spines[\"bottom\"].set_color('k')\n",
    "ax.spines[\"left\"].set_linewidth(1.5)\n",
    "ax.spines[\"left\"].set_color('k')\n",
    "plt.ylabel('Unemployment Rate', fontsize=12)\n",
    "plt.title('Unemployment Rate', fontsize=14)"
   ]
  },
  {
   "cell_type": "markdown",
   "id": "d588b104",
   "metadata": {},
   "source": [
    "### Figure 1B"
   ]
  },
  {
   "cell_type": "code",
   "execution_count": null,
   "id": "0426106e",
   "metadata": {},
   "outputs": [],
   "source": [
    "ax = vacancy_rate_splice.plot(figsize=(9,6),linewidth=2, color='purple',)\n",
    "\n",
    "for idx, s in enumerate(starts):\n",
    "    if starts.loc[idx] > pd.to_datetime('1951-1'):\n",
    "        plt.axvspan(starts.loc[idx], ends.loc[idx], facecolor='grey', alpha=0.5,zorder=-100)\n",
    "\n",
    "ax.grid(axis='x')\n",
    "plt.ylim(0, vacancy_rate_splice.max()*1.1)\n",
    "ax.spines[\"bottom\"].set_linewidth(1.5)\n",
    "ax.spines[\"bottom\"].set_color('k')\n",
    "ax.spines[\"left\"].set_linewidth(1.5)\n",
    "ax.spines[\"left\"].set_color('k')\n",
    "plt.ylabel('Vacancy Rate', fontsize=12)\n",
    "plt.title('Vacancy Rate', fontsize=14)\n"
   ]
  },
  {
   "cell_type": "markdown",
   "id": "5c2cd56a",
   "metadata": {},
   "source": [
    "### Figure 1C-1F"
   ]
  },
  {
   "cell_type": "code",
   "execution_count": null,
   "id": "79975615",
   "metadata": {},
   "outputs": [],
   "source": [
    "\n",
    "plt.figure(figsize = (8,8))\n",
    "plt.plot(np.log(unempl_rate/100), np.log(vacancy_rate_splice/100), linewidth=1)\n",
    "\n",
    "plt.gca().spines[\"bottom\"].set_linewidth(1.5)\n",
    "plt.gca().spines[\"bottom\"].set_color('k')\n",
    "plt.gca().spines[\"left\"].set_linewidth(1.5)\n",
    "plt.gca().spines[\"left\"].set_color('k')\n",
    "plt.xlim(-3.8, -2.1)\n",
    "plt.ylim(-4.3, -2.95)\n",
    "plt.ylabel('Log Vacancy Rate', fontsize=12)\n",
    "plt.xlabel('Log Unemployment Rate', fontsize=12)\n",
    "plt.title('Beveridge Curve (monthly)', fontsize=14)"
   ]
  },
  {
   "cell_type": "code",
   "execution_count": null,
   "id": "c85ec8af",
   "metadata": {},
   "outputs": [],
   "source": [
    "log_unempl_rate_q = np.log(unempl_rate.resample('Q').mean()/100)\n",
    "log_vacancy_rate_q = np.log(vacancy_rate_splice.resample('Q').mean()/100)"
   ]
  },
  {
   "cell_type": "code",
   "execution_count": null,
   "id": "90ecff83",
   "metadata": {},
   "outputs": [],
   "source": [
    "\n",
    "plt.figure(figsize = (8,8))\n",
    "plt.plot(log_unempl_rate_q, log_vacancy_rate_q, linewidth=1,)\n",
    "\n",
    "plt.gca().spines[\"bottom\"].set_linewidth(1.5)\n",
    "plt.gca().spines[\"bottom\"].set_color('k')\n",
    "plt.gca().spines[\"left\"].set_linewidth(1.5)\n",
    "plt.gca().spines[\"left\"].set_color('k')\n",
    "plt.xlim(-3.8, -2.1)\n",
    "plt.ylim(-4.3, -2.95)\n",
    "plt.ylabel('Log Vacancy Rate', fontsize=12)\n",
    "plt.xlabel('Log Unemployment Rate', fontsize=12)\n",
    "plt.title('Beveridge Curve (quarterly)', fontsize=14)"
   ]
  },
  {
   "cell_type": "code",
   "execution_count": null,
   "id": "4ba14c26",
   "metadata": {},
   "outputs": [],
   "source": [
    "\n",
    "plt.figure(figsize = (8,8))\n",
    "plt.plot(log_unempl_rate_q, log_vacancy_rate_q, linewidth=1, color='grey')\n",
    "plt.plot(log_unempl_rate_q.loc['1951Q1':'1969Q4'],log_vacancy_rate_q.loc['1951Q1':'1969Q4'], linewidth=3, color='orange')\n",
    "\n",
    "plt.annotate('1951', (log_unempl_rate_q.loc['1951Q1'], log_vacancy_rate_q.loc['1951Q1']))\n",
    "plt.annotate('1969', (log_unempl_rate_q.loc['1969Q4'], log_vacancy_rate_q.loc['1969Q4']))\n",
    "\n",
    "plt.gca().spines[\"bottom\"].set_linewidth(1.5)\n",
    "plt.gca().spines[\"bottom\"].set_color('k')\n",
    "plt.gca().spines[\"left\"].set_linewidth(1.5)\n",
    "plt.gca().spines[\"left\"].set_color('k')\n",
    "plt.xlim(-3.8, -2.1)\n",
    "plt.ylim(-4.3, -2.95)\n",
    "plt.ylabel('Log Vacancy Rate', fontsize=12)\n",
    "plt.xlabel('Log Unemployment Rate', fontsize=12)\n",
    "plt.title('Beveridge Curve 1951-1969', fontsize=14)"
   ]
  },
  {
   "cell_type": "code",
   "execution_count": null,
   "id": "808af1bf",
   "metadata": {},
   "outputs": [],
   "source": [
    "\n",
    "plt.figure(figsize = (8,8))\n",
    "plt.plot(log_unempl_rate_q, log_vacancy_rate_q, linewidth=1, color='grey')\n",
    "plt.plot(log_unempl_rate_q.loc['1970Q1':'1989Q4'],log_vacancy_rate_q.loc['1970Q1':'1989Q4'], linewidth=3, color='orange')\n",
    "\n",
    "plt.annotate('1970', (log_unempl_rate_q.loc['1970Q1'], log_vacancy_rate_q.loc['1970Q1']))\n",
    "plt.annotate('1989', (log_unempl_rate_q.loc['1989Q4'], log_vacancy_rate_q.loc['1989Q4']))\n",
    "\n",
    "plt.gca().spines[\"bottom\"].set_linewidth(1.5)\n",
    "plt.gca().spines[\"bottom\"].set_color('k')\n",
    "plt.gca().spines[\"left\"].set_linewidth(1.5)\n",
    "plt.gca().spines[\"left\"].set_color('k')\n",
    "plt.xlim(-3.8, -2.1)\n",
    "plt.ylim(-4.3, -2.95)\n",
    "plt.ylabel('Log Vacancy Rate', fontsize=12)\n",
    "plt.xlabel('Log Unemployment Rate', fontsize=12)\n",
    "plt.title('Beveridge Curve 1970-1989', fontsize=14)"
   ]
  },
  {
   "cell_type": "code",
   "execution_count": null,
   "id": "9c96849b",
   "metadata": {},
   "outputs": [],
   "source": [
    "\n",
    "plt.figure(figsize = (8,8))\n",
    "plt.plot(log_unempl_rate_q, log_vacancy_rate_q, linewidth=1, color='grey')\n",
    "plt.plot(log_unempl_rate_q.loc['1990Q1':'2009Q4'],log_vacancy_rate_q.loc['1990Q1':'2009Q4'], linewidth=3, color='orange')\n",
    "\n",
    "plt.annotate('1990', (log_unempl_rate_q.loc['1990Q1'], log_vacancy_rate_q.loc['1990Q1']))\n",
    "plt.annotate('2009', (log_unempl_rate_q.loc['2009Q4'], log_vacancy_rate_q.loc['2009Q4']))\n",
    "\n",
    "plt.gca().spines[\"bottom\"].set_linewidth(1.5)\n",
    "plt.gca().spines[\"bottom\"].set_color('k')\n",
    "plt.gca().spines[\"left\"].set_linewidth(1.5)\n",
    "plt.gca().spines[\"left\"].set_color('k')\n",
    "plt.xlim(-3.8, -2.1)\n",
    "plt.ylim(-4.3, -2.95)\n",
    "plt.ylabel('Log Vacancy Rate', fontsize=12)\n",
    "plt.xlabel('Log Unemployment Rate', fontsize=12)\n",
    "plt.title('Beveridge Curve 1990-2009', fontsize=14)"
   ]
  },
  {
   "cell_type": "code",
   "execution_count": null,
   "id": "6b311f08",
   "metadata": {},
   "outputs": [],
   "source": [
    "\n",
    "plt.figure(figsize = (8,8))\n",
    "plt.plot(log_unempl_rate_q, log_vacancy_rate_q, linewidth=1, color='grey')\n",
    "plt.plot(log_unempl_rate_q.loc['2010Q1':'2019Q4'],log_vacancy_rate_q.loc['2010Q1':'2019Q4'], linewidth=3, color='orange')\n",
    "\n",
    "plt.annotate('2010', (log_unempl_rate_q.loc['2010Q1'], log_vacancy_rate_q.loc['2010Q1']))\n",
    "plt.annotate('2019', (log_unempl_rate_q.loc['2019Q4'], log_vacancy_rate_q.loc['2019Q4']))\n",
    "\n",
    "plt.gca().spines[\"bottom\"].set_linewidth(1.5)\n",
    "plt.gca().spines[\"bottom\"].set_color('k')\n",
    "plt.gca().spines[\"left\"].set_linewidth(1.5)\n",
    "plt.gca().spines[\"left\"].set_color('k')\n",
    "plt.xlim(-3.8, -2.1)\n",
    "plt.ylim(-4.3, -2.95)\n",
    "plt.ylabel('Log Vacancy Rate', fontsize=12)\n",
    "plt.xlabel('Log Unemployment Rate', fontsize=12)\n",
    "plt.title('Beveridge Curve 2010-2019', fontsize=14)"
   ]
  },
  {
   "cell_type": "code",
   "execution_count": null,
   "id": "515c70d1",
   "metadata": {},
   "outputs": [],
   "source": []
  },
  {
   "cell_type": "code",
   "execution_count": null,
   "id": "56e55032",
   "metadata": {},
   "outputs": [],
   "source": []
  }
 ],
 "metadata": {
  "kernelspec": {
   "display_name": "Python 3 (ipykernel)",
   "language": "python",
   "name": "python3"
  },
  "language_info": {
   "codemirror_mode": {
    "name": "ipython",
    "version": 3
   },
   "file_extension": ".py",
   "mimetype": "text/x-python",
   "name": "python",
   "nbconvert_exporter": "python",
   "pygments_lexer": "ipython3",
   "version": "3.9.12"
  }
 },
 "nbformat": 4,
 "nbformat_minor": 5
}
