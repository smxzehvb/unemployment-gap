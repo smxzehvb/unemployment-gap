{
 "cells": [
  {
   "cell_type": "markdown",
   "id": "52cd38ca",
   "metadata": {},
   "source": [
    "# BUG: Beveridgean Unemployment Gap\n",
    "This notebook demonstrates the python implementation of the \"Beveridgean Unemployment Gap\" by Pascal Michaillat and Emmanuel Saez. The original code was in MATLAB. See [GitHub link](https://github.com/pascalmichaillat/unemployment-gap) for original. "
   ]
  },
  {
   "cell_type": "markdown",
   "id": "b0f86922",
   "metadata": {},
   "source": [
    "## import packages"
   ]
  },
  {
   "cell_type": "code",
   "execution_count": null,
   "id": "8c2c0172",
   "metadata": {},
   "outputs": [],
   "source": [
    "import pandas as pd\n",
    "import numpy as np\n",
    "from scipy.optimize import root"
   ]
  },
  {
   "cell_type": "code",
   "execution_count": null,
   "id": "25d95699",
   "metadata": {},
   "outputs": [],
   "source": [
    "import sys\n",
    "sys.path.insert(0, '../bug')\n",
    "import bug"
   ]
  },
  {
   "cell_type": "markdown",
   "id": "df12eb8c",
   "metadata": {},
   "source": [
    "## Read the data\n",
    "Here, we read from the [excel file](https://github.com/pascalmichaillat/unemployment-gap/blob/main/code/data.xlsx) provided with the unemployment-gap matlab package.\n",
    "\n",
    "The goal of this notebook is to re-create analysis and some figures from the Unemployment Gap paper, so that we can verify we are getting the *same* outputs. (*Sameness* allowing for some small differences between the two language implementations)"
   ]
  },
  {
   "cell_type": "markdown",
   "id": "b5235388",
   "metadata": {},
   "source": [
    "#### unemployment rate"
   ]
  },
  {
   "cell_type": "code",
   "execution_count": null,
   "id": "8c546782",
   "metadata": {},
   "outputs": [],
   "source": [
    "df = pd.read_excel('../../code/data.xlsx', sheet_name='Monthly data',\n",
    "                           header=1, usecols=['Unemployment rate (percent)', 'Year', 'Month'],)"
   ]
  },
  {
   "cell_type": "code",
   "execution_count": null,
   "id": "10c4523e",
   "metadata": {},
   "outputs": [],
   "source": [
    "# set the index \n",
    "dates = pd.PeriodIndex(pd.to_datetime(dict(year=df.Year, month=df.Month, day=15)).dt.to_period('m') ) \n",
    "unempl_rate = pd.Series(data=df['Unemployment rate (percent)'].values,\n",
    "                       index=dates, name='unempl_rate')"
   ]
  },
  {
   "cell_type": "markdown",
   "id": "5e0369ef",
   "metadata": {},
   "source": [
    "#### unemployment level"
   ]
  },
  {
   "cell_type": "code",
   "execution_count": null,
   "id": "2544e23d",
   "metadata": {},
   "outputs": [],
   "source": [
    "df = pd.read_excel('../../code/data.xlsx', sheet_name='Monthly data',\n",
    "                           header=1, usecols=['Unemployment level (thousands of persons)', 'Year', 'Month'],)"
   ]
  },
  {
   "cell_type": "code",
   "execution_count": null,
   "id": "bbd2a9a6",
   "metadata": {},
   "outputs": [],
   "source": [
    "# set the index \n",
    "dates = pd.PeriodIndex(pd.to_datetime(dict(year=df.Year, month=df.Month, day=15)).dt.to_period('m') ) \n",
    "unempl_level = pd.Series(data=df['Unemployment level (thousands of persons)'].values,\n",
    "                        index=dates, name='unempl_level')"
   ]
  },
  {
   "cell_type": "markdown",
   "id": "fae2ef00",
   "metadata": {},
   "source": [
    "#### short-term unemployment level"
   ]
  },
  {
   "cell_type": "code",
   "execution_count": null,
   "id": "957d0d70",
   "metadata": {},
   "outputs": [],
   "source": [
    "df = pd.read_excel('../../code/data.xlsx', sheet_name='Monthly data',\n",
    "                           header=1, usecols=['Short-term unemployment level (thousands of persons)', 'Year', 'Month'],)"
   ]
  },
  {
   "cell_type": "code",
   "execution_count": null,
   "id": "5e104504",
   "metadata": {},
   "outputs": [],
   "source": [
    "# set the index \n",
    "dates = pd.PeriodIndex(pd.to_datetime(dict(year=df.Year, month=df.Month, day=15)).dt.to_period('m') ) \n",
    "ushort_level = pd.Series(data=df['Short-term unemployment level (thousands of persons)'].values, \n",
    "                        index=dates, name='short_term_unempl_level')"
   ]
  },
  {
   "cell_type": "markdown",
   "id": "7956167d",
   "metadata": {},
   "source": [
    "#### labor force level"
   ]
  },
  {
   "cell_type": "code",
   "execution_count": null,
   "id": "ac90600e",
   "metadata": {},
   "outputs": [],
   "source": [
    "df = pd.read_excel('../../code/data.xlsx', sheet_name='Monthly data',\n",
    "                           header=1, usecols=['Labor force level (thousands of persons)', 'Year', 'Month'],)"
   ]
  },
  {
   "cell_type": "code",
   "execution_count": null,
   "id": "b8e7cd7e",
   "metadata": {},
   "outputs": [],
   "source": [
    "# set the index \n",
    "dates = pd.PeriodIndex(pd.to_datetime(dict(year=df.Year, month=df.Month, day=15)).dt.to_period('m') ) \n",
    "labor_level = pd.Series(data=df['Labor force level (thousands of persons)'].values,\n",
    "                       index=dates, name='labor_force_level')"
   ]
  },
  {
   "cell_type": "code",
   "execution_count": null,
   "id": "6f4a602b",
   "metadata": {},
   "outputs": [],
   "source": []
  },
  {
   "cell_type": "code",
   "execution_count": null,
   "id": "15e4af8c",
   "metadata": {},
   "outputs": [],
   "source": [
    "find_rate =  bug.compute_job_finding_rate(unempl_level, ushort_level)"
   ]
  },
  {
   "cell_type": "code",
   "execution_count": null,
   "id": "3fc486e5",
   "metadata": {},
   "outputs": [],
   "source": [
    "find_rate.name='job_find_rate'"
   ]
  },
  {
   "cell_type": "code",
   "execution_count": null,
   "id": "881c75f8",
   "metadata": {},
   "outputs": [],
   "source": [
    "find_rate"
   ]
  },
  {
   "cell_type": "code",
   "execution_count": null,
   "id": "d74e0fcd",
   "metadata": {},
   "outputs": [],
   "source": []
  },
  {
   "cell_type": "code",
   "execution_count": null,
   "id": "7b755702",
   "metadata": {},
   "outputs": [],
   "source": []
  },
  {
   "cell_type": "code",
   "execution_count": null,
   "id": "c090c6ec",
   "metadata": {},
   "outputs": [],
   "source": []
  },
  {
   "cell_type": "code",
   "execution_count": null,
   "id": "80c839a2",
   "metadata": {},
   "outputs": [],
   "source": []
  },
  {
   "cell_type": "code",
   "execution_count": null,
   "id": "87ae85b2",
   "metadata": {},
   "outputs": [],
   "source": []
  },
  {
   "cell_type": "code",
   "execution_count": null,
   "id": "a9bf51ad",
   "metadata": {},
   "outputs": [],
   "source": []
  },
  {
   "cell_type": "code",
   "execution_count": null,
   "id": "2069193a",
   "metadata": {},
   "outputs": [],
   "source": []
  },
  {
   "cell_type": "code",
   "execution_count": null,
   "id": "0426106e",
   "metadata": {},
   "outputs": [],
   "source": []
  },
  {
   "cell_type": "code",
   "execution_count": null,
   "id": "fd8e231e",
   "metadata": {},
   "outputs": [],
   "source": []
  },
  {
   "cell_type": "code",
   "execution_count": null,
   "id": "79975615",
   "metadata": {},
   "outputs": [],
   "source": []
  },
  {
   "cell_type": "code",
   "execution_count": null,
   "id": "515c70d1",
   "metadata": {},
   "outputs": [],
   "source": []
  },
  {
   "cell_type": "code",
   "execution_count": null,
   "id": "ab52a1b1",
   "metadata": {},
   "outputs": [],
   "source": [
    "\n",
    "def job_sep_eqn(lambda_rate, *consts):\n",
    "    find_rate, u_level, u_level_next, h_level = consts\n",
    "    expr = (1. - np.exp(-(find_rate+lambda_rate))) * lambda_rate/(find_rate+lambda_rate) * h_level + np.exp(-(find_rate+lambda_rate)) * u_level - u_level_next  \n",
    "    \n",
    "    return expr \n"
   ]
  },
  {
   "cell_type": "code",
   "execution_count": null,
   "id": "6548cc63",
   "metadata": {},
   "outputs": [],
   "source": [
    "solution = root(job_sep_eqn, 0, (find_rate, u_level, u_level_next, h_level))"
   ]
  },
  {
   "cell_type": "code",
   "execution_count": null,
   "id": "36e4d1ef",
   "metadata": {},
   "outputs": [],
   "source": [
    "solution.x"
   ]
  },
  {
   "cell_type": "code",
   "execution_count": null,
   "id": "565bba74",
   "metadata": {},
   "outputs": [],
   "source": [
    "lambda_rate = [root(job_sep_eqn, 0, (find_rate.loc[t], unempl_level.loc[t], unempl_level.loc[t+1], labor_level.loc[t])).x[0] for t in find_rate.index[:-1]]    "
   ]
  },
  {
   "cell_type": "code",
   "execution_count": null,
   "id": "94b935f5",
   "metadata": {},
   "outputs": [],
   "source": [
    "lambda_rate"
   ]
  },
  {
   "cell_type": "code",
   "execution_count": null,
   "id": "56e55032",
   "metadata": {},
   "outputs": [],
   "source": []
  }
 ],
 "metadata": {
  "kernelspec": {
   "display_name": "Python 3 (ipykernel)",
   "language": "python",
   "name": "python3"
  },
  "language_info": {
   "codemirror_mode": {
    "name": "ipython",
    "version": 3
   },
   "file_extension": ".py",
   "mimetype": "text/x-python",
   "name": "python",
   "nbconvert_exporter": "python",
   "pygments_lexer": "ipython3",
   "version": "3.9.12"
  }
 },
 "nbformat": 4,
 "nbformat_minor": 5
}
