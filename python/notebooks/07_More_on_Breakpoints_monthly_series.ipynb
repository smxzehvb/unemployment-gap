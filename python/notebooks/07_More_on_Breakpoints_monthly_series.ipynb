{
 "cells": [
  {
   "cell_type": "markdown",
   "id": "742ffad2",
   "metadata": {},
   "source": [
    "# Further discussion on breakpoint detection\n",
    "In this notebook, we explore in more detail the issue of detecting structural breaks in the regression of log(vacancy rate) on the log(unemployment rate).\n",
    "\n",
    "These breakpoints are needed because the Beveridge Elasticity is computed directly from this regression. \n",
    "\n",
    "## monthly series?\n",
    "The original paper uses quarterly series of log(vacancy rate) and log(unemployment rate). But why? These are actually derived from the monthly values.\n"
   ]
  },
  {
   "cell_type": "markdown",
   "id": "4dc102f4",
   "metadata": {},
   "source": [
    "## Get our economic data\n",
    "For computing the BUG, we need:\n",
    "  * unemployment rate: u\n",
    "  * vacancy rate: v\n",
    "  * beveridge curve elasticity (computed from u, v, and breakpoints on the v/u series)\n",
    "  * social value of non-work (default is zeta = 0.26)\n",
    "  * recruting costs (default is kappa = 0.92)\n",
    "\n",
    "The vacancy rate is the most tricky to get. We can compute vacancy rate from the total non-farm job openings and the labor level. Both of those series are available from 2001 onwards. Fro pre-2001, we would need to splice-in the \"composite help-wanted index (cHWI)\" values from Barnichon (2010). However, we prefer to avoid this, as the cHWI is not as easilly obtained as the other economic data.\n",
    "\n",
    "This is another reason to consider the monthly Beveridge Gap, so that we have enough data points (vs a quarterly series) starting in 2001.\n",
    "\n",
    "<br>\n",
    "\n",
    "### Data source: \n",
    "\n",
    "![image.png](https://fred.stlouisfed.org/images/fred-logo-2x.png)\n",
    "<br>\n",
    "\n",
    "The St.Louis Fed has an [API](https://fred.stlouisfed.org/docs/api/fred/series_observations.html) which alows you to pull data programatically.\n",
    "\n",
    "**You will need a registered API key**. See [here](https://fred.stlouisfed.org/docs/api/api_key.html) for info."
   ]
  },
  {
   "cell_type": "code",
   "execution_count": null,
   "id": "a5d9c358",
   "metadata": {},
   "outputs": [],
   "source": [
    "import pandas as pd\n",
    "import numpy as np\n",
    "import urllib.request\n",
    "import json\n",
    "import ruptures as rpt\n",
    "from kneed import KneeLocator"
   ]
  },
  {
   "cell_type": "code",
   "execution_count": null,
   "id": "b992aa9e",
   "metadata": {},
   "outputs": [],
   "source": [
    "import matplotlib\n",
    "import matplotlib.pyplot as plt\n",
    "%matplotlib inline\n",
    "matplotlib.style.use('fivethirtyeight')"
   ]
  },
  {
   "cell_type": "code",
   "execution_count": null,
   "id": "f77f0ed4",
   "metadata": {},
   "outputs": [],
   "source": [
    "import sys\n",
    "sys.path.insert(0, '../')\n",
    "import bug"
   ]
  },
  {
   "cell_type": "code",
   "execution_count": null,
   "id": "cae0b3f4",
   "metadata": {},
   "outputs": [],
   "source": [
    "# a helper function for pulling json formatted data from FRED\n",
    "def get_series(series_id, my_key, start_date='2001-01-01'):\n",
    "    \n",
    "    link = 'https://api.stlouisfed.org/fred/series/observations?series_id='+series_id+'&observation_start='+start_date+'&file_type=json&api_key='+my_key\n",
    "    content = urllib.request.urlopen(link).read()\n",
    "    data = json.loads(content)\n",
    "    df = pd.DataFrame(data['observations'])[['date', 'value']]\n",
    "    \n",
    "    return df"
   ]
  },
  {
   "cell_type": "code",
   "execution_count": null,
   "id": "12ac5d6a",
   "metadata": {},
   "outputs": [],
   "source": [
    "## This key is an EXAMPLE ONLY!! \n",
    "# You will need to replace this with your actual registered key for the FRED API\n",
    "my_key = 'abcdef1234567890abcdef'\n"
   ]
  },
  {
   "cell_type": "code",
   "execution_count": null,
   "id": "0b5f96b2",
   "metadata": {},
   "outputs": [],
   "source": [
    "# Recession information\n",
    "recession = get_series('USREC', my_key,start_date='1998-01-01')\n",
    "recession['date'] = pd.to_datetime(recession['date'] )\n",
    "recession['value'] = recession['value'].astype(int)\n",
    "recession.set_index('date', inplace=True)\n",
    "recession['starts'] = (recession.value- recession.value.shift(1) ==1)\n",
    "recession['ends'] = (recession.value- recession.value.shift(1) ==-1)\n",
    "starts = recession.index[recession['starts']==1].to_list()\n",
    "ends = recession.index[recession['ends']==1].to_list()"
   ]
  },
  {
   "cell_type": "code",
   "execution_count": null,
   "id": "f5057dc1",
   "metadata": {},
   "outputs": [],
   "source": [
    "unempl = get_series('UNRATE', my_key)\n",
    "unempl['date'] = pd.PeriodIndex(pd.to_datetime(unempl['date'] ).dt.to_period('m') )\n",
    "u = pd.Series(data=unempl['value'].values,index=unempl['date'], name='unempl_rate')\n",
    "u = pd.to_numeric(u)/100.0"
   ]
  },
  {
   "cell_type": "code",
   "execution_count": null,
   "id": "2b35738e",
   "metadata": {},
   "outputs": [],
   "source": [
    "labor_lev = get_series('CLF16OV', my_key)\n",
    "labor_lev['date'] = pd.PeriodIndex(pd.to_datetime(labor_lev['date'] ).dt.to_period('m') )\n",
    "lfl = pd.Series(data=pd.to_numeric(labor_lev['value'].values),index=labor_lev['date'], name='labor_force_level')"
   ]
  },
  {
   "cell_type": "code",
   "execution_count": null,
   "id": "556c10cd",
   "metadata": {},
   "outputs": [],
   "source": [
    "nf_vac = get_series('JTSJOL', my_key)\n",
    "nf_vac['date'] = pd.PeriodIndex(pd.to_datetime(nf_vac['date'] ).dt.to_period('m') )\n",
    "vac = pd.Series(data=pd.to_numeric(nf_vac['value'].values),index=nf_vac['date'], name='nonfarm_vacancies')\n",
    "v = vac/lfl"
   ]
  },
  {
   "cell_type": "code",
   "execution_count": null,
   "id": "8b87b94a",
   "metadata": {},
   "outputs": [],
   "source": [
    "last = min(v.last_valid_index(),u.last_valid_index())\n",
    "v = v.loc[:last]\n",
    "u = u.loc[:last]\n",
    "log_v = np.log(v)\n",
    "log_u = np.log(u)"
   ]
  },
  {
   "cell_type": "markdown",
   "id": "a0ef7ce1",
   "metadata": {},
   "source": [
    "### Beveridge Curve"
   ]
  },
  {
   "cell_type": "code",
   "execution_count": null,
   "id": "8aaad4ed",
   "metadata": {},
   "outputs": [],
   "source": [
    "fig = plt.figure(figsize = (7,7))\n",
    "ax = fig.add_subplot(1, 1, 1)\n",
    "ax.plot(np.log(u), np.log(v), linewidth=1, color='darkblue')\n",
    "bug.format_plot(ax, xgrid=False)\n",
    "\n",
    "plt.ylabel('Log Vacancy Rate', fontsize=12)\n",
    "plt.xlabel('Log Unemployment Rate', fontsize=12)\n",
    "plt.title('Beveridge Curve (monthly)', fontsize=14)"
   ]
  },
  {
   "cell_type": "markdown",
   "id": "57eb0776",
   "metadata": {},
   "source": [
    "### How to decide the number of breaks\n",
    "Other than just eyeballing?\n",
    "\n",
    "Bai & Perron (2003) suggest supF type tests; e.g. for no break (*m=0*) vs *m=k* breaks. Further, this can be extended to test of *m* breaks vs *m+1* breaks. The possibility of examining BIC or other information criteria is also discussed. \n",
    "\n",
    "The ruptures package does not include hypothesis testing for determining the number of breaks--so we'll have to write some tests for ourselves. \n",
    "\n",
    "#### Evaluating the BIC/SSR plots\n",
    "Find the the \"elbow\" or \"knee\" where the curve starts to show diminishing returns.\n",
    "\n",
    "We can eyeball it, or try the \"kneed\" package detector"
   ]
  },
  {
   "cell_type": "code",
   "execution_count": null,
   "id": "95c441a3",
   "metadata": {},
   "outputs": [],
   "source": [
    "# get the data into the format that the ruptures package likes\n",
    "signal = np.column_stack((np.array(log_v).reshape(-1, 1), np.vstack((log_u, np.ones(len(log_u)))).T))"
   ]
  },
  {
   "cell_type": "code",
   "execution_count": null,
   "id": "8fe42b03",
   "metadata": {},
   "outputs": [],
   "source": [
    "Eval = bug.evaluate_num_breaks(signal, max_bkps=8, min_size=16)"
   ]
  },
  {
   "cell_type": "code",
   "execution_count": null,
   "id": "ae0a0667",
   "metadata": {},
   "outputs": [],
   "source": [
    "Eval.f_stats_zero_v_m"
   ]
  },
  {
   "cell_type": "code",
   "execution_count": null,
   "id": "942f1801",
   "metadata": {},
   "outputs": [],
   "source": [
    "k = KneeLocator(np.arange(1,Eval.max_bkps + 1), [x['F'] for x in Eval.f_stats_zero_v_m[1:]], curve=\"concave\", direction=\"increasing\")\n",
    "ax = k.plot_knee()\n",
    "plt.title('F-test: null=0 breaks, alt=m breaks')"
   ]
  },
  {
   "cell_type": "code",
   "execution_count": null,
   "id": "6ce3bd49",
   "metadata": {},
   "outputs": [],
   "source": [
    "Eval.f_stats_running"
   ]
  },
  {
   "cell_type": "code",
   "execution_count": null,
   "id": "dcef6ffa",
   "metadata": {},
   "outputs": [],
   "source": [
    "k = KneeLocator(np.arange(1,Eval.max_bkps +1), [x['F'] for x in Eval.f_stats_running[1:]], curve=\"concave\", direction=\"increasing\")\n",
    "ax = k.plot_knee()\n",
    "plt.title('F-test: null=m-1 breaks, alt=m breaks')"
   ]
  },
  {
   "cell_type": "code",
   "execution_count": null,
   "id": "786f4ad1",
   "metadata": {},
   "outputs": [],
   "source": [
    "k = KneeLocator(np.arange(0,Eval.max_bkps + 1), Eval.ssr, curve=\"convex\", direction=\"decreasing\")\n",
    "ax = k.plot_knee()\n",
    "plt.title('SSR')"
   ]
  },
  {
   "cell_type": "code",
   "execution_count": null,
   "id": "ed7d981d",
   "metadata": {},
   "outputs": [],
   "source": [
    "k = KneeLocator(np.arange(0,Eval.max_bkps + 1), Eval.bic, curve=\"convex\", direction=\"decreasing\")\n",
    "ax = k.plot_knee()\n",
    "plt.title('BIC')"
   ]
  },
  {
   "cell_type": "code",
   "execution_count": null,
   "id": "94a4a71a",
   "metadata": {},
   "outputs": [],
   "source": [
    "k = KneeLocator(np.arange(0,Eval.max_bkps + 1), Eval.lwz, curve=\"convex\", direction=\"decreasing\")\n",
    "ax = k.plot_knee()\n",
    "plt.title('LWZ')"
   ]
  },
  {
   "cell_type": "markdown",
   "id": "d2a591b5",
   "metadata": {},
   "source": [
    "### The consensus seems to be 2 breakpoints!!"
   ]
  },
  {
   "cell_type": "code",
   "execution_count": null,
   "id": "bb65caab",
   "metadata": {},
   "outputs": [],
   "source": [
    "opt = Eval.bkps[k.knee]\n",
    "opt"
   ]
  },
  {
   "cell_type": "code",
   "execution_count": null,
   "id": "552e16aa",
   "metadata": {},
   "outputs": [],
   "source": [
    "e_opt, coeffs = bug.compute_beveridge_elasticity(log_u, log_v, bkps_in=opt )\n",
    "gap_opt = bug.compute_unemployment_gap(u, v, e_opt['E'])"
   ]
  },
  {
   "cell_type": "code",
   "execution_count": null,
   "id": "39cf156c",
   "metadata": {},
   "outputs": [],
   "source": [
    "bug.plot_beveridge_gap_series(gap_opt, [u.index[b] for b in opt[:-1]], \n",
    "                              recession_dates=[starts, ends], )\n",
    "plt.ylim(-.03,.13)"
   ]
  },
  {
   "cell_type": "code",
   "execution_count": null,
   "id": "8e3195f9",
   "metadata": {},
   "outputs": [],
   "source": [
    "bug.plot_beveridge_elasticity_series(e_opt, recession_dates=[starts, ends], draw_legend=True)\n",
    "plt.ylim(0,2)"
   ]
  },
  {
   "cell_type": "code",
   "execution_count": null,
   "id": "f8aaf3d8",
   "metadata": {},
   "outputs": [],
   "source": [
    "bug.plot_beveridge_curve_fits(log_u, log_v, opt, coeffs, figsize=(8,8))"
   ]
  },
  {
   "cell_type": "code",
   "execution_count": null,
   "id": "22d40e26",
   "metadata": {},
   "outputs": [],
   "source": []
  }
 ],
 "metadata": {
  "kernelspec": {
   "display_name": "Python 3 (ipykernel)",
   "language": "python",
   "name": "python3"
  },
  "language_info": {
   "codemirror_mode": {
    "name": "ipython",
    "version": 3
   },
   "file_extension": ".py",
   "mimetype": "text/x-python",
   "name": "python",
   "nbconvert_exporter": "python",
   "pygments_lexer": "ipython3",
   "version": "3.9.12"
  }
 },
 "nbformat": 4,
 "nbformat_minor": 5
}
