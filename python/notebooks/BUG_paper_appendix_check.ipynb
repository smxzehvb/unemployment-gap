{
 "cells": [
  {
   "cell_type": "markdown",
   "id": "52cd38ca",
   "metadata": {},
   "source": [
    "# BUG: Beveridgean Unemployment Gap\n",
    "This series of notebooks demonstrate the python implementation of the \"Beveridgean Unemployment Gap\" by Pascal Michaillat and Emmanuel Saez. The original code was in MATLAB. See [GitHub link](https://github.com/pascalmichaillat/unemployment-gap) for original. \n",
    "\n",
    "## Appendix\n",
    "This notebook examines the python implementation of functions in the paper's online appendix. [link](https://ars.els-cdn.com/content/image/1-s2.0-S2666551421000048-mmc1.pdf)"
   ]
  },
  {
   "cell_type": "markdown",
   "id": "b0f86922",
   "metadata": {},
   "source": [
    "## import packages"
   ]
  },
  {
   "cell_type": "code",
   "execution_count": null,
   "id": "8c2c0172",
   "metadata": {},
   "outputs": [],
   "source": [
    "import pandas as pd\n",
    "import numpy as np\n",
    "from matplotlib import pyplot as plt\n",
    "from matplotlib import style\n",
    "plt.style.use('fivethirtyeight')\n",
    "%matplotlib inline"
   ]
  },
  {
   "cell_type": "code",
   "execution_count": null,
   "id": "1d1d1b36",
   "metadata": {},
   "outputs": [],
   "source": [
    "import sys\n",
    "sys.path.insert(0, '../bug')\n",
    "import bug"
   ]
  },
  {
   "cell_type": "markdown",
   "id": "df12eb8c",
   "metadata": {},
   "source": [
    "## Read the data\n",
    "Here, we read from the [excel file](https://github.com/pascalmichaillat/unemployment-gap/blob/main/code/data.xlsx) provided with the unemployment-gap matlab package.\n",
    "\n",
    "The goal of this notebook is to re-create function and figures from the Unemployment Gap paper appendix, so that we can verify we are getting the *same* outputs. (*Sameness* allowing for some small differences between the two language implementations)"
   ]
  },
  {
   "cell_type": "markdown",
   "id": "6cf3af22",
   "metadata": {},
   "source": [
    "#### unemployment rate"
   ]
  },
  {
   "cell_type": "code",
   "execution_count": null,
   "id": "8c546782",
   "metadata": {},
   "outputs": [],
   "source": [
    "df = pd.read_excel('../../code/data.xlsx', sheet_name='Monthly data',\n",
    "                           header=1, usecols=['Unemployment rate (percent)', 'Year', 'Month'],)"
   ]
  },
  {
   "cell_type": "code",
   "execution_count": null,
   "id": "142d37b8",
   "metadata": {},
   "outputs": [],
   "source": [
    "# set the index \n",
    "dates = pd.PeriodIndex(pd.to_datetime(dict(year=df.Year, month=df.Month, day=15)).dt.to_period('m') ) \n",
    "unempl_rate = pd.Series(data=df['Unemployment rate (percent)'].values,\n",
    "                       index=dates, name='unempl_rate')"
   ]
  },
  {
   "cell_type": "markdown",
   "id": "700346f2",
   "metadata": {},
   "source": [
    "#### unemployment level"
   ]
  },
  {
   "cell_type": "code",
   "execution_count": null,
   "id": "bb59be30",
   "metadata": {},
   "outputs": [],
   "source": [
    "df = pd.read_excel('../../code/data.xlsx', sheet_name='Monthly data',\n",
    "                           header=1, usecols=['Unemployment level (thousands of persons)', 'Year', 'Month'],)"
   ]
  },
  {
   "cell_type": "code",
   "execution_count": null,
   "id": "964b427e",
   "metadata": {},
   "outputs": [],
   "source": [
    "# set the index \n",
    "dates = pd.PeriodIndex(pd.to_datetime(dict(year=df.Year, month=df.Month, day=15)).dt.to_period('m') ) \n",
    "unempl_level = pd.Series(data=df['Unemployment level (thousands of persons)'].values,\n",
    "                        index=dates, name='unempl_level')"
   ]
  },
  {
   "cell_type": "markdown",
   "id": "7f54149c",
   "metadata": {},
   "source": [
    "#### short-term unemployment level"
   ]
  },
  {
   "cell_type": "code",
   "execution_count": null,
   "id": "796e3b1d",
   "metadata": {},
   "outputs": [],
   "source": [
    "df = pd.read_excel('../../code/data.xlsx', sheet_name='Monthly data',\n",
    "                           header=1, usecols=['Short-term unemployment level (thousands of persons)', 'Year', 'Month'],)"
   ]
  },
  {
   "cell_type": "code",
   "execution_count": null,
   "id": "813aa369",
   "metadata": {},
   "outputs": [],
   "source": [
    "# set the index \n",
    "dates = pd.PeriodIndex(pd.to_datetime(dict(year=df.Year, month=df.Month, day=15)).dt.to_period('m') ) \n",
    "ushort_level = pd.Series(data=df['Short-term unemployment level (thousands of persons)'].values, \n",
    "                        index=dates, name='short_term_unempl_level')"
   ]
  },
  {
   "cell_type": "markdown",
   "id": "f25071c8",
   "metadata": {},
   "source": [
    "#### labor force level"
   ]
  },
  {
   "cell_type": "code",
   "execution_count": null,
   "id": "b0d52bfb",
   "metadata": {},
   "outputs": [],
   "source": [
    "df = pd.read_excel('../../code/data.xlsx', sheet_name='Monthly data',\n",
    "                           header=1, usecols=['Labor force level (thousands of persons)', 'Year', 'Month'],)"
   ]
  },
  {
   "cell_type": "code",
   "execution_count": null,
   "id": "56759e3a",
   "metadata": {},
   "outputs": [],
   "source": [
    "# set the index \n",
    "dates = pd.PeriodIndex(pd.to_datetime(dict(year=df.Year, month=df.Month, day=15)).dt.to_period('m') ) \n",
    "labor_level = pd.Series(data=df['Labor force level (thousands of persons)'].values,\n",
    "                       index=dates, name='labor_force_level')"
   ]
  },
  {
   "cell_type": "markdown",
   "id": "7d2f019e",
   "metadata": {},
   "source": [
    "#### Recession information"
   ]
  },
  {
   "cell_type": "code",
   "execution_count": null,
   "id": "742d4413",
   "metadata": {},
   "outputs": [],
   "source": []
  },
  {
   "cell_type": "code",
   "execution_count": null,
   "id": "a964a3cd",
   "metadata": {},
   "outputs": [],
   "source": []
  },
  {
   "cell_type": "code",
   "execution_count": null,
   "id": "40cc53e6",
   "metadata": {},
   "outputs": [],
   "source": []
  },
  {
   "cell_type": "markdown",
   "id": "20890567",
   "metadata": {},
   "source": [
    "## Appendix B: Job-related rates"
   ]
  },
  {
   "cell_type": "markdown",
   "id": "25ab0a25",
   "metadata": {},
   "source": [
    "\n",
    "### Job-finding rate\n",
    "Call the function `bug.compute_job_finding_rate()` with arguments:\n",
    "  * unemployment level, required\n",
    "  * short-term unemployment level, required\n",
    "  * True/False for whether to convert monthly to quarterly, optional; default is True\n",
    "  * True/False for whether to adjust the short-term level after 1994, as in Shimer (2012), optional; default is True\n",
    "  "
   ]
  },
  {
   "cell_type": "code",
   "execution_count": null,
   "id": "3b3e438a",
   "metadata": {},
   "outputs": [],
   "source": [
    "find_rate_q =  bug.compute_job_finding_rate(unempl_level, ushort_level, True, True)\n",
    "find_rate_m =  bug.compute_job_finding_rate(unempl_level, ushort_level, False, True)"
   ]
  },
  {
   "cell_type": "code",
   "execution_count": null,
   "id": "1f6b685f",
   "metadata": {},
   "outputs": [],
   "source": [
    "find_rate_q.head()"
   ]
  },
  {
   "cell_type": "code",
   "execution_count": null,
   "id": "9dc3f976",
   "metadata": {},
   "outputs": [],
   "source": [
    "find_rate_q.tail()"
   ]
  },
  {
   "cell_type": "markdown",
   "id": "a5902228",
   "metadata": {},
   "source": [
    "#### Re-create figure A1\n",
    "Job-finding rate in the US, 1951-2019"
   ]
  },
  {
   "cell_type": "code",
   "execution_count": null,
   "id": "91625743",
   "metadata": {},
   "outputs": [],
   "source": [
    "ax = find_rate_q.plot(figsize=(9,7), linewidth=1, label='Quarterly')\n",
    "find_rate_m.plot(ax=ax, linewidth=1, label='Monthly')\n",
    "plt.ylabel('Job-finding rate', fontsize=13)\n",
    "plt.legend(fontsize=12)"
   ]
  },
  {
   "cell_type": "code",
   "execution_count": null,
   "id": "78913a19",
   "metadata": {},
   "outputs": [],
   "source": [
    "app_data = read.excel('../')"
   ]
  },
  {
   "cell_type": "code",
   "execution_count": null,
   "id": "e2d383fd",
   "metadata": {},
   "outputs": [],
   "source": []
  },
  {
   "cell_type": "code",
   "execution_count": null,
   "id": "6b5bf443",
   "metadata": {},
   "outputs": [],
   "source": []
  },
  {
   "cell_type": "code",
   "execution_count": null,
   "id": "d26dc856",
   "metadata": {},
   "outputs": [],
   "source": []
  },
  {
   "cell_type": "code",
   "execution_count": null,
   "id": "375578df",
   "metadata": {},
   "outputs": [],
   "source": []
  },
  {
   "cell_type": "code",
   "execution_count": null,
   "id": "678733e8",
   "metadata": {},
   "outputs": [],
   "source": []
  },
  {
   "cell_type": "code",
   "execution_count": null,
   "id": "79975615",
   "metadata": {},
   "outputs": [],
   "source": []
  },
  {
   "cell_type": "code",
   "execution_count": null,
   "id": "515c70d1",
   "metadata": {},
   "outputs": [],
   "source": []
  },
  {
   "cell_type": "code",
   "execution_count": null,
   "id": "ab52a1b1",
   "metadata": {},
   "outputs": [],
   "source": [
    "\n",
    "def job_sep_eqn(lambda_rate, *consts):\n",
    "    find_rate, u_level, u_level_next, h_level = consts\n",
    "    expr = (1. - np.exp(-(find_rate+lambda_rate))) * lambda_rate/(find_rate+lambda_rate) * h_level + np.exp(-(find_rate+lambda_rate)) * u_level - u_level_next  \n",
    "    \n",
    "    return expr \n"
   ]
  },
  {
   "cell_type": "code",
   "execution_count": null,
   "id": "6548cc63",
   "metadata": {},
   "outputs": [],
   "source": [
    "solution = root(job_sep_eqn, 0, (find_rate, u_level, u_level_next, h_level))"
   ]
  },
  {
   "cell_type": "code",
   "execution_count": null,
   "id": "36e4d1ef",
   "metadata": {},
   "outputs": [],
   "source": [
    "solution.x"
   ]
  },
  {
   "cell_type": "code",
   "execution_count": null,
   "id": "565bba74",
   "metadata": {},
   "outputs": [],
   "source": [
    "lambda_rate = [root(job_sep_eqn, 0, (find_rate.loc[t], unempl_level.loc[t], unempl_level.loc[t+1], labor_level.loc[t])).x[0] for t in find_rate.index[:-1]]    "
   ]
  },
  {
   "cell_type": "code",
   "execution_count": null,
   "id": "94b935f5",
   "metadata": {},
   "outputs": [],
   "source": [
    "lambda_rate"
   ]
  },
  {
   "cell_type": "code",
   "execution_count": null,
   "id": "cc55e64b",
   "metadata": {},
   "outputs": [],
   "source": []
  }
 ],
 "metadata": {
  "kernelspec": {
   "display_name": "Python 3 (ipykernel)",
   "language": "python",
   "name": "python3"
  },
  "language_info": {
   "codemirror_mode": {
    "name": "ipython",
    "version": 3
   },
   "file_extension": ".py",
   "mimetype": "text/x-python",
   "name": "python",
   "nbconvert_exporter": "python",
   "pygments_lexer": "ipython3",
   "version": "3.9.12"
  }
 },
 "nbformat": 4,
 "nbformat_minor": 5
}
