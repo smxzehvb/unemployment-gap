{
 "cells": [
  {
   "cell_type": "markdown",
   "id": "52cd38ca",
   "metadata": {},
   "source": [
    "# BUG: Beveridgean Unemployment Gap\n",
    "This notebook demonstrates the python implementation of the \"Beveridgean Unemployment Gap\" by Pascal Michaillat and Emmanuel Saez. The original code was in MATLAB. See [GitHub link](https://github.com/pascalmichaillat/unemployment-gap) for original. "
   ]
  },
  {
   "cell_type": "markdown",
   "id": "b0f86922",
   "metadata": {},
   "source": [
    "## import packages"
   ]
  },
  {
   "cell_type": "code",
   "execution_count": 76,
   "id": "8c2c0172",
   "metadata": {},
   "outputs": [],
   "source": [
    "import pandas as pd\n",
    "import numpy as np\n",
    "from scipy.optimize import fsolve, root\n"
   ]
  },
  {
   "cell_type": "markdown",
   "id": "df12eb8c",
   "metadata": {},
   "source": [
    "## Read the data\n",
    "Here, we read from the [excel file](https://github.com/pascalmichaillat/unemployment-gap/blob/main/code/data.xlsx) provided with the unemployment-gap matlab package.\n",
    "\n",
    "The goal of this notebook is to re-create analysis and some figures from the Unemployment Gap paper, so that we can verify we are getting the *same* outputs. (*Sameness* allowing for some small differences between the two language implementations)"
   ]
  },
  {
   "cell_type": "code",
   "execution_count": null,
   "id": "8c546782",
   "metadata": {},
   "outputs": [],
   "source": []
  },
  {
   "cell_type": "code",
   "execution_count": 105,
   "id": "342e2066",
   "metadata": {},
   "outputs": [],
   "source": [
    "u_level = 7518.\n",
    "ushort_level_next = 1000.\n",
    "h_level = 162000.\n",
    "u_level_next= 7399.\n",
    "f = 1. - (u_level_next - ushort_level_next)/u_level\n",
    "find_rate = -np.log(1. - f)"
   ]
  },
  {
   "cell_type": "code",
   "execution_count": 106,
   "id": "79975615",
   "metadata": {},
   "outputs": [
    {
     "data": {
      "text/plain": [
       "0.14884277733439744"
      ]
     },
     "execution_count": 106,
     "metadata": {},
     "output_type": "execute_result"
    }
   ],
   "source": [
    "f"
   ]
  },
  {
   "cell_type": "code",
   "execution_count": 107,
   "id": "515c70d1",
   "metadata": {},
   "outputs": [
    {
     "data": {
      "text/plain": [
       "0.16115841698466302"
      ]
     },
     "execution_count": 107,
     "metadata": {},
     "output_type": "execute_result"
    }
   ],
   "source": [
    "find_rate"
   ]
  },
  {
   "cell_type": "code",
   "execution_count": 108,
   "id": "ab52a1b1",
   "metadata": {},
   "outputs": [],
   "source": [
    "\n",
    "def job_sep_eqn(lambda_rate, *consts):\n",
    "    find_rate, u_level, u_level_next, h_level = consts\n",
    "    expr = (1. - np.exp(-(find_rate+lambda_rate))) * lambda_rate/(find_rate+lambda_rate) * h_level + np.exp(-(find_rate+lambda_rate)) * u_level - u_level_next  \n",
    "    \n",
    "    return expr \n"
   ]
  },
  {
   "cell_type": "code",
   "execution_count": 109,
   "id": "6548cc63",
   "metadata": {},
   "outputs": [],
   "source": [
    "solution = root(job_sep_eqn, 0, (find_rate, u_level, u_level_next, h_level))"
   ]
  },
  {
   "cell_type": "code",
   "execution_count": 113,
   "id": "36e4d1ef",
   "metadata": {},
   "outputs": [
    {
     "data": {
      "text/plain": [
       "0.007006012941624492"
      ]
     },
     "execution_count": 113,
     "metadata": {},
     "output_type": "execute_result"
    }
   ],
   "source": [
    "solution.x[0]"
   ]
  },
  {
   "cell_type": "code",
   "execution_count": 114,
   "id": "565bba74",
   "metadata": {},
   "outputs": [
    {
     "data": {
      "text/plain": [
       "    fjac: array([[-1.]])\n",
       "     fun: array([0.])\n",
       " message: 'The solution converged.'\n",
       "    nfev: 9\n",
       "     qtf: array([1.81353244e-09])\n",
       "       r: array([-142249.14236412])\n",
       "  status: 1\n",
       " success: True\n",
       "       x: array([0.00700601])"
      ]
     },
     "execution_count": 114,
     "metadata": {},
     "output_type": "execute_result"
    }
   ],
   "source": [
    "root(job_sep_eqn, 0, (find_rate, u_level, u_level_next, h_level))"
   ]
  },
  {
   "cell_type": "code",
   "execution_count": null,
   "id": "94b935f5",
   "metadata": {},
   "outputs": [],
   "source": []
  }
 ],
 "metadata": {
  "kernelspec": {
   "display_name": "Python 3 (ipykernel)",
   "language": "python",
   "name": "python3"
  },
  "language_info": {
   "codemirror_mode": {
    "name": "ipython",
    "version": 3
   },
   "file_extension": ".py",
   "mimetype": "text/x-python",
   "name": "python",
   "nbconvert_exporter": "python",
   "pygments_lexer": "ipython3",
   "version": "3.9.12"
  }
 },
 "nbformat": 4,
 "nbformat_minor": 5
}
