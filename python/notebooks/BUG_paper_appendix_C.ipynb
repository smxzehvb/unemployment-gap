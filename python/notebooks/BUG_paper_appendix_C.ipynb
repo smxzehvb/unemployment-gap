{
 "cells": [
  {
   "cell_type": "markdown",
   "id": "07a6b964",
   "metadata": {},
   "source": [
    "# Appendix C: \n",
    "## Endogenous Beveridge elasticity\n",
    "Paraphrased from Michaillat and Saez:\n",
    "\n",
    "In the DMP model, the Beveridge elasticity depends on the unemployment rate. But we show here that this dependence is weak, and therefore we can use a formula for the efficient unemployment rate that does not depend on unemployment or vacancy rates."
   ]
  },
  {
   "cell_type": "code",
   "execution_count": null,
   "id": "b021670c",
   "metadata": {},
   "outputs": [],
   "source": [
    "z = 0.26 # social value of non-work\n",
    "c = 0.92 # recruiting cost"
   ]
  },
  {
   "cell_type": "code",
   "execution_count": null,
   "id": "9a9c6cea",
   "metadata": {},
   "outputs": [],
   "source": []
  }
 ],
 "metadata": {
  "kernelspec": {
   "display_name": "Python 3 (ipykernel)",
   "language": "python",
   "name": "python3"
  },
  "language_info": {
   "codemirror_mode": {
    "name": "ipython",
    "version": 3
   },
   "file_extension": ".py",
   "mimetype": "text/x-python",
   "name": "python",
   "nbconvert_exporter": "python",
   "pygments_lexer": "ipython3",
   "version": "3.9.12"
  }
 },
 "nbformat": 4,
 "nbformat_minor": 5
}
