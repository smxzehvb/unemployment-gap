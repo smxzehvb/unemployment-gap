{
 "cells": [
  {
   "cell_type": "markdown",
   "id": "52cd38ca",
   "metadata": {},
   "source": [
    "# BUG: Beveridgean Unemployment Gap\n",
    "This series of notebooks demonstrate the python implementation of the \"Beveridgean Unemployment Gap\" by Pascal Michaillat and Emmanuel Saez. The original code was in MATLAB. See [GitHub link](https://github.com/pascalmichaillat/unemployment-gap) for original. \n",
    "\n",
    "## Appendix\n",
    "This notebook examines the python implementation of functions in the paper's online appendix. [link](https://ars.els-cdn.com/content/image/1-s2.0-S2666551421000048-mmc1.pdf)"
   ]
  },
  {
   "cell_type": "markdown",
   "id": "b0f86922",
   "metadata": {},
   "source": [
    "## import packages"
   ]
  },
  {
   "cell_type": "code",
   "execution_count": null,
   "id": "8c2c0172",
   "metadata": {},
   "outputs": [],
   "source": [
    "import pandas as pd\n",
    "import numpy as np\n",
    "import matplotlib\n",
    "from matplotlib import pyplot as plt\n",
    "from matplotlib.patches import Patch\n",
    "%matplotlib inline\n",
    "plt.style.use('fivethirtyeight')"
   ]
  },
  {
   "cell_type": "code",
   "execution_count": null,
   "id": "1d1d1b36",
   "metadata": {},
   "outputs": [],
   "source": [
    "import sys\n",
    "sys.path.insert(0, '../bug')\n",
    "import bug"
   ]
  },
  {
   "cell_type": "markdown",
   "id": "df12eb8c",
   "metadata": {},
   "source": [
    "## Read the data\n",
    "Here, we read from the [excel file](https://github.com/pascalmichaillat/unemployment-gap/blob/main/code/data.xlsx) provided with the unemployment-gap matlab package.\n",
    "\n",
    "The goal of this notebook is to re-create function and figures from the Unemployment Gap paper appendix, so that we can verify we are getting the *same* outputs. (*Sameness* allowing for some small differences between the two language implementations)"
   ]
  },
  {
   "cell_type": "markdown",
   "id": "6cf3af22",
   "metadata": {},
   "source": [
    "#### unemployment rate"
   ]
  },
  {
   "cell_type": "code",
   "execution_count": null,
   "id": "8c546782",
   "metadata": {},
   "outputs": [],
   "source": [
    "df = pd.read_excel('../../code/data.xlsx', sheet_name='Monthly data',\n",
    "                           header=1, usecols=['Unemployment rate (percent)', 'Year', 'Month'],)"
   ]
  },
  {
   "cell_type": "code",
   "execution_count": null,
   "id": "142d37b8",
   "metadata": {},
   "outputs": [],
   "source": [
    "# set the index \n",
    "dates = pd.PeriodIndex(pd.to_datetime(dict(year=df.Year, month=df.Month, day=15)).dt.to_period('m') ) \n",
    "unempl_rate = pd.Series(data=df['Unemployment rate (percent)'].values,\n",
    "                       index=dates, name='unempl_rate')"
   ]
  },
  {
   "cell_type": "markdown",
   "id": "700346f2",
   "metadata": {},
   "source": [
    "#### unemployment level"
   ]
  },
  {
   "cell_type": "code",
   "execution_count": null,
   "id": "bb59be30",
   "metadata": {},
   "outputs": [],
   "source": [
    "df = pd.read_excel('../../code/data.xlsx', sheet_name='Monthly data',\n",
    "                           header=1, usecols=['Unemployment level (thousands of persons)', 'Year', 'Month'],)"
   ]
  },
  {
   "cell_type": "code",
   "execution_count": null,
   "id": "964b427e",
   "metadata": {},
   "outputs": [],
   "source": [
    "# set the index \n",
    "dates = pd.PeriodIndex(pd.to_datetime(dict(year=df.Year, month=df.Month, day=15)).dt.to_period('m') ) \n",
    "unempl_level = pd.Series(data=df['Unemployment level (thousands of persons)'].values,\n",
    "                        index=dates, name='unempl_level')"
   ]
  },
  {
   "cell_type": "markdown",
   "id": "7f54149c",
   "metadata": {},
   "source": [
    "#### short-term unemployment level"
   ]
  },
  {
   "cell_type": "code",
   "execution_count": null,
   "id": "796e3b1d",
   "metadata": {},
   "outputs": [],
   "source": [
    "df = pd.read_excel('../../code/data.xlsx', sheet_name='Monthly data',\n",
    "                           header=1, usecols=['Short-term unemployment level (thousands of persons)', 'Year', 'Month'],)"
   ]
  },
  {
   "cell_type": "code",
   "execution_count": null,
   "id": "813aa369",
   "metadata": {},
   "outputs": [],
   "source": [
    "# set the index \n",
    "dates = pd.PeriodIndex(pd.to_datetime(dict(year=df.Year, month=df.Month, day=15)).dt.to_period('m') ) \n",
    "ushort_level = pd.Series(data=df['Short-term unemployment level (thousands of persons)'].values, \n",
    "                        index=dates, name='short_term_unempl_level')"
   ]
  },
  {
   "cell_type": "markdown",
   "id": "f25071c8",
   "metadata": {},
   "source": [
    "#### labor force level"
   ]
  },
  {
   "cell_type": "code",
   "execution_count": null,
   "id": "b0d52bfb",
   "metadata": {},
   "outputs": [],
   "source": [
    "df = pd.read_excel('../../code/data.xlsx', sheet_name='Monthly data',\n",
    "                           header=1, usecols=['Labor force level (thousands of persons)', 'Year', 'Month'],)"
   ]
  },
  {
   "cell_type": "code",
   "execution_count": null,
   "id": "56759e3a",
   "metadata": {},
   "outputs": [],
   "source": [
    "# set the index \n",
    "dates = pd.PeriodIndex(pd.to_datetime(dict(year=df.Year, month=df.Month, day=15)).dt.to_period('m') ) \n",
    "labor_level = pd.Series(data=df['Labor force level (thousands of persons)'].values,\n",
    "                       index=dates, name='labor_force_level')"
   ]
  },
  {
   "cell_type": "markdown",
   "id": "7d2f019e",
   "metadata": {},
   "source": [
    "#### Recession information"
   ]
  },
  {
   "cell_type": "code",
   "execution_count": null,
   "id": "742d4413",
   "metadata": {},
   "outputs": [],
   "source": [
    "df = pd.read_excel('../../code/data.xlsx', sheet_name='Recession dates',header=1, \n",
    "                   usecols=['Peak month', 'Trough month'],).drop([0]).reset_index()\n",
    "starts =  pd.to_datetime(df['Peak month'])\n",
    "\n",
    "ends = pd.to_datetime(df['Trough month'])"
   ]
  },
  {
   "cell_type": "code",
   "execution_count": null,
   "id": "40cc53e6",
   "metadata": {},
   "outputs": [],
   "source": []
  },
  {
   "cell_type": "markdown",
   "id": "20890567",
   "metadata": {},
   "source": [
    "# Appendix B: \n",
    "## Job-finding and job-separation rates"
   ]
  },
  {
   "cell_type": "markdown",
   "id": "25ab0a25",
   "metadata": {},
   "source": [
    "### Job-finding rate\n",
    "Call the function `bug.compute_job_finding_rate()` with arguments:\n",
    "  * unemployment level, required\n",
    "  * short-term unemployment level, required\n",
    "  * True/False for whether to convert monthly to quarterly, optional; default is True\n",
    "  * True/False for whether to adjust the short-term level after 1994, as in Shimer (2012), optional; default is True\n",
    "  "
   ]
  },
  {
   "cell_type": "code",
   "execution_count": null,
   "id": "3b3e438a",
   "metadata": {},
   "outputs": [],
   "source": [
    "find_rate_q =  bug.compute_job_finding_rate(unempl_level, ushort_level, True, True)\n",
    "find_rate_m =  bug.compute_job_finding_rate(unempl_level, ushort_level, False, True)"
   ]
  },
  {
   "cell_type": "markdown",
   "id": "a5902228",
   "metadata": {},
   "source": [
    "#### Re-create figure A1\n",
    "Job-finding rate in the US, 1951-2019"
   ]
  },
  {
   "cell_type": "code",
   "execution_count": null,
   "id": "91625743",
   "metadata": {},
   "outputs": [],
   "source": [
    "ax = find_rate_q[:-1].plot(figsize=(9,7), linewidth=1.5, label='Quarterly (python output)')\n",
    "find_rate_m[:-1].plot(ax=ax, linewidth=1.5, label='Monthly (python output)')\n",
    "\n",
    "\n",
    "plt.ylim(0, find_rate_q.max()*1.1)\n",
    "bug.format_plot(ax, recession_dates=[starts, ends],)\n",
    "\n",
    "plt.ylabel('Job-finding rate', fontsize=13)\n",
    "handles, labels = ax.get_legend_handles_labels()\n",
    "handles.append(Patch(facecolor='grey',))\n",
    "labels.append(\"Recession indicator\")\n",
    "plt.legend(handles=handles, labels=labels,fontsize=12)\n",
    "plt.title('Python Outputs', fontsize=14)"
   ]
  },
  {
   "cell_type": "code",
   "execution_count": null,
   "id": "78913a19",
   "metadata": {},
   "outputs": [],
   "source": [
    "fig_A1 = pd.read_excel('../../figures/xlsx/figureA1.xlsx', header=1, usecols=['Quarterly job-finding rate']) \n",
    "fig_A1.set_index(find_rate_q.index[:-1], inplace=True)"
   ]
  },
  {
   "cell_type": "code",
   "execution_count": null,
   "id": "a5170678",
   "metadata": {},
   "outputs": [],
   "source": [
    "find_rate_q =  bug.compute_job_finding_rate(unempl_level, ushort_level, True, True)"
   ]
  },
  {
   "cell_type": "code",
   "execution_count": null,
   "id": "e2d383fd",
   "metadata": {},
   "outputs": [],
   "source": [
    "ax = fig_A1.rename(columns={'Quarterly job-finding rate': 'Quarterly (matlab output)'}).plot(figsize=(9,7), \n",
    "                linewidth=3, color='k', linestyle='dotted',)\n",
    "find_rate_q[:-1].plot(ax=ax, linewidth=1.5, label='Quarterly (python output)')\n",
    "\n",
    "plt.ylim(0, find_rate_q.max()*1.1)\n",
    "bug.format_plot(ax, recession_dates=[starts, ends])\n",
    "\n",
    "plt.ylabel('Job-finding rate', fontsize=13)\n",
    "handles, labels = ax.get_legend_handles_labels()\n",
    "handles.append(Patch(facecolor='grey',))\n",
    "labels.append(\"Recession indicator\")\n",
    "plt.legend(handles=handles, labels=labels,fontsize=12)\n",
    "plt.title('Python vs MATLAB Outputs', fontsize=14)"
   ]
  },
  {
   "cell_type": "code",
   "execution_count": null,
   "id": "6b5bf443",
   "metadata": {},
   "outputs": [],
   "source": [
    "plt.scatter(x=fig_A1, y=find_rate_q[:-1])\n",
    "plt.title('Python vs MATLAB Outputs', fontsize=14)"
   ]
  },
  {
   "cell_type": "code",
   "execution_count": null,
   "id": "d26dc856",
   "metadata": {},
   "outputs": [],
   "source": []
  },
  {
   "cell_type": "markdown",
   "id": "a5041c79",
   "metadata": {},
   "source": [
    "### Job-separation rate\n",
    "Call the function `bug.compute_job_separation_rate()` with arguments:\n",
    "  * unemployment level, required\n",
    "  * short-term unemployment level, required\n",
    "  * labor force level, required\n",
    "  * True/False for whether to convert monthly to quarterly, optional; default is True\n",
    "  * True/False for whether to adjust the short-term level after 1994, as in Shimer (2012), optional; default is True\n"
   ]
  },
  {
   "cell_type": "code",
   "execution_count": null,
   "id": "678733e8",
   "metadata": {},
   "outputs": [],
   "source": [
    "sep_rate_q = bug.compute_job_separation_rate(unempl_level, ushort_level, labor_level, True, True)\n",
    "sep_rate_m = bug.compute_job_separation_rate(unempl_level, ushort_level, labor_level, False, True)"
   ]
  },
  {
   "cell_type": "markdown",
   "id": "3cfeea7c",
   "metadata": {},
   "source": [
    "#### Re-create figure A2\n",
    "Job-separation rate in the US, 1951-2019"
   ]
  },
  {
   "cell_type": "code",
   "execution_count": null,
   "id": "515c70d1",
   "metadata": {},
   "outputs": [],
   "source": [
    "ax = sep_rate_q[:-1].plot(figsize=(9,7), linewidth=1.5, label='Quarterly (python output)')\n",
    "sep_rate_m[:-1].plot(ax=ax, linewidth=1.5, label='Monthly (python output)')\n",
    "\n",
    "plt.ylim(0, sep_rate_q.max()*1.1)\n",
    "bug.format_plot(ax, recession_dates=[starts, ends])\n",
    "handles, labels = ax.get_legend_handles_labels()\n",
    "handles.append(Patch(facecolor='grey',))\n",
    "labels.append(\"Recession indicator\")\n",
    "plt.legend(handles=handles, labels=labels,fontsize=12)\n",
    "\n",
    "plt.ylabel('Job-separation rate', fontsize=13)\n",
    "plt.title('Python Outputs', fontsize=14)"
   ]
  },
  {
   "cell_type": "code",
   "execution_count": null,
   "id": "1b9f6297",
   "metadata": {},
   "outputs": [],
   "source": [
    "fig_A2 = pd.read_excel('../../figures/xlsx/figureA2.xlsx', header=1, usecols=['Quarterly job-separation rate']) \n",
    "fig_A2.set_index(sep_rate_q.index[:-1], inplace=True)"
   ]
  },
  {
   "cell_type": "code",
   "execution_count": null,
   "id": "de84e0e5",
   "metadata": {},
   "outputs": [],
   "source": [
    "sep_rate_q = bug.compute_job_separation_rate(unempl_level, ushort_level, labor_level, True,True)"
   ]
  },
  {
   "cell_type": "code",
   "execution_count": null,
   "id": "19b1c2d1",
   "metadata": {},
   "outputs": [],
   "source": [
    "ax = fig_A2.rename(columns={'Quarterly job-separation rate': 'Quarterly (matlab output)'}).plot(figsize=(9,7), \n",
    "                                    linewidth=3, linestyle='dotted', color='k', alpha=.8 )\n",
    "sep_rate_q[:-1].plot(ax=ax, linewidth=1.5, label='Quarterly (python output)')\n",
    "\n",
    "plt.ylim(0, sep_rate_q.max()*1.1)\n",
    "bug.format_plot(ax, recession_dates=[starts, ends])\n",
    "\n",
    "plt.ylabel('Job-separation rate', fontsize=13)\n",
    "plt.title('Python vs MATLAB Outputs', fontsize=14)\n",
    "\n",
    "handles, labels = ax.get_legend_handles_labels()\n",
    "handles.append(Patch(facecolor='grey',))\n",
    "labels.append(\"Recession indicator\")\n",
    "plt.legend(handles=handles, labels=labels,fontsize=12)"
   ]
  },
  {
   "cell_type": "code",
   "execution_count": null,
   "id": "e5ac2184",
   "metadata": {},
   "outputs": [],
   "source": [
    "plt.scatter(x=fig_A2, y=sep_rate_q[:-1])\n",
    "plt.title('Python vs MATLAB Outputs', fontsize=14)"
   ]
  },
  {
   "cell_type": "markdown",
   "id": "7f19d3e2",
   "metadata": {},
   "source": [
    "#### Re-create figure A3\n",
    "Beveridgean unemployment rate vs. actual unemployment"
   ]
  },
  {
   "cell_type": "code",
   "execution_count": null,
   "id": "dc7730a4",
   "metadata": {},
   "outputs": [],
   "source": [
    "bev_unempl = bug.compute_beveridgean_unemployment(find_rate_q, sep_rate_q)"
   ]
  },
  {
   "cell_type": "code",
   "execution_count": null,
   "id": "cc55e64b",
   "metadata": {},
   "outputs": [],
   "source": [
    "bev_unempl.head()"
   ]
  },
  {
   "cell_type": "code",
   "execution_count": null,
   "id": "e931721a",
   "metadata": {},
   "outputs": [],
   "source": [
    "unempl_q = unempl_rate.resample('Q').mean()/100."
   ]
  },
  {
   "cell_type": "code",
   "execution_count": null,
   "id": "4fc6cbab",
   "metadata": {},
   "outputs": [],
   "source": [
    "ax = unempl_q.plot(figsize=(9,7), linewidth=3, color='m', alpha=.8,\n",
    "                    label='actual unemployemnt', linestyle='dotted')\n",
    "bev_unempl.plot(ax=ax, linewidth=1.5, label='beveridgean (python output)')\n",
    "\n",
    "plt.ylim(0, unempl_q.max()*1.1)\n",
    "bug.format_plot(ax, recession_dates=[starts, ends])\n",
    "\n",
    "plt.ylabel('Unemployment rate', fontsize=13)\n",
    "plt.title('Python Output vs Actual (quarterly)', fontsize=14)\n",
    "\n",
    "handles, labels = ax.get_legend_handles_labels()\n",
    "handles.append(Patch(facecolor='grey',))\n",
    "labels.append(\"Recession indicator\")\n",
    "plt.legend(handles=handles, labels=labels,fontsize=12, loc=4)"
   ]
  },
  {
   "cell_type": "code",
   "execution_count": null,
   "id": "32b795b7",
   "metadata": {},
   "outputs": [],
   "source": [
    "fig_A3 = pd.read_excel('../../figures/xlsx/figureA3.xlsx', header=1, \n",
    "                       usecols=['Beveridgean unemployment rate']) \n",
    "fig_A3.set_index(sep_rate_q.index[:-1], inplace=True)"
   ]
  },
  {
   "cell_type": "code",
   "execution_count": null,
   "id": "91747e03",
   "metadata": {},
   "outputs": [],
   "source": [
    "ax = fig_A3.rename(columns={'Beveridgean unemployment rate': 'Beveridgean (matlab output)'}).plot(figsize=(9,7), \n",
    "                linewidth=3, color='k', linestyle='dotted')\n",
    "bev_unempl[:-1].plot(ax=ax, linewidth=1.5, label='Beveridgean (python output)')\n",
    "\n",
    "plt.ylim(0, unempl_q.max()*1.1)\n",
    "bug.format_plot(ax, recession_dates=[starts, ends])\n",
    "\n",
    "plt.ylabel('unemployement rate', fontsize=13)\n",
    "plt.title('Python vs MATLAB Outputs', fontsize=14)\n",
    "\n",
    "handles, labels = ax.get_legend_handles_labels()\n",
    "handles.append(Patch(facecolor='grey',))\n",
    "labels.append(\"Recession indicator\")\n",
    "plt.legend(handles=handles, labels=labels,fontsize=12, loc=4)"
   ]
  },
  {
   "cell_type": "code",
   "execution_count": null,
   "id": "31d8a757",
   "metadata": {},
   "outputs": [],
   "source": [
    "plt.scatter(x=fig_A3, y=bev_unempl[:-1])\n",
    "plt.title('Python vs MATLAB Outputs', fontsize=14)"
   ]
  },
  {
   "cell_type": "code",
   "execution_count": null,
   "id": "97ccead6",
   "metadata": {},
   "outputs": [],
   "source": []
  },
  {
   "cell_type": "code",
   "execution_count": null,
   "id": "9fe29f5d",
   "metadata": {},
   "outputs": [],
   "source": [
    "bev_unempl_m = bug.compute_beveridgean_unemployment(find_rate_m, sep_rate_m)"
   ]
  },
  {
   "cell_type": "code",
   "execution_count": null,
   "id": "ee0c3d88",
   "metadata": {},
   "outputs": [],
   "source": [
    "unempl_m = unempl_rate/100."
   ]
  },
  {
   "cell_type": "code",
   "execution_count": null,
   "id": "c76bfd4b",
   "metadata": {},
   "outputs": [],
   "source": [
    "\n",
    "ax = bev_unempl_m[:-1].plot(linewidth=3, figsize=(9,7),label='beveridgean (python output)')\n",
    "ax = unempl_m[1:].plot( ax=ax, linewidth=2, color='m', \n",
    "                     label='actual unemployemnt')\n",
    "\n",
    "plt.ylim(0, unempl_m.max()*1.1)\n",
    "bug.format_plot(ax, recession_dates=[starts, ends])\n",
    "\n",
    "plt.ylabel('Unemployment rate', fontsize=13)\n",
    "plt.title('Python Output vs Actual (monthly)', fontsize=14)\n",
    "\n",
    "handles, labels = ax.get_legend_handles_labels()\n",
    "handles.append(Patch(facecolor='grey',))\n",
    "labels.append(\"Recession indicator\")\n",
    "plt.legend(handles=handles, labels=labels,fontsize=12, loc=4)"
   ]
  },
  {
   "cell_type": "code",
   "execution_count": null,
   "id": "c5a567e2",
   "metadata": {},
   "outputs": [],
   "source": []
  },
  {
   "cell_type": "code",
   "execution_count": null,
   "id": "e1e44deb",
   "metadata": {},
   "outputs": [],
   "source": []
  }
 ],
 "metadata": {
  "kernelspec": {
   "display_name": "Python 3 (ipykernel)",
   "language": "python",
   "name": "python3"
  },
  "language_info": {
   "codemirror_mode": {
    "name": "ipython",
    "version": 3
   },
   "file_extension": ".py",
   "mimetype": "text/x-python",
   "name": "python",
   "nbconvert_exporter": "python",
   "pygments_lexer": "ipython3",
   "version": "3.9.12"
  }
 },
 "nbformat": 4,
 "nbformat_minor": 5
}
